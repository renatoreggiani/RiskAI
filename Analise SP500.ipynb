{
 "cells": [
  {
   "cell_type": "code",
   "execution_count": 1,
   "id": "1158725e",
   "metadata": {},
   "outputs": [],
   "source": [
    "import pandas as pd\n",
    "import numpy as np\n",
    "import plotly.express as px\n",
    "import plotly.graph_objects as go\n",
    "from ipywidgets import interact, fixed, FloatSlider, IntSlider"
   ]
  },
  {
   "cell_type": "code",
   "execution_count": 2,
   "id": "1d1fea46",
   "metadata": {},
   "outputs": [
    {
     "data": {
      "application/javascript": [
       "IPython.OutputArea.prototype._should_scroll = function(lines) {\n",
       "    return false;\n",
       "}\n"
      ],
      "text/plain": [
       "<IPython.core.display.Javascript object>"
      ]
     },
     "metadata": {},
     "output_type": "display_data"
    }
   ],
   "source": [
    "%%javascript\n",
    "IPython.OutputArea.prototype._should_scroll = function(lines) {\n",
    "    return false;\n",
    "}"
   ]
  },
  {
   "cell_type": "code",
   "execution_count": 5,
   "id": "18e47b40",
   "metadata": {},
   "outputs": [],
   "source": [
    "def get_dados(indice='portfolio'):\n",
    "    if indice=='portfolio':\n",
    "        df = pd.read_csv('dados/retorno_portfolio.csv', parse_dates=['Date'])\n",
    "        df.fillna(0, inplace=True)\n",
    "    if indice=='ACWI':    \n",
    "        df = pd.read_csv('dados/retorno_portfolio.csv', parse_dates=['Date'])\n",
    "        df.fillna(0, inplace=True)\n",
    "        df['retorno'] = df['ACWI']\n",
    "    else:\n",
    "        url = f'https://query1.finance.yahoo.com/v7/finance/download/{indice}?period1=852076800&period2=1634743473&interval=1d&events=history&includeAdjustedClose=true'\n",
    "        df = pd.read_csv(url)\n",
    "        df['Date'] = pd.to_datetime(df['Date'])\n",
    "        df['retorno'] = df['Close'].pct_change()\n",
    "        \n",
    "    df['year_week'] = df['Date'].dt.strftime('%Y-%U')\n",
    "    df['retorno acumulado'] = df['retorno'] + 1\n",
    "    df['retorno acumulado'] = df['retorno acumulado'].cumprod()\n",
    "    \n",
    "    df_gsrai = pd.read_csv('dados/GSRAII.csv', parse_dates=['Date']).sort_values('Date')\n",
    "\n",
    "    df = df.merge(df_gsrai, on='Date')\n",
    "    return df[['Date', 'retorno acumulado', 'GSRAII Index', 'year_week']].dropna()"
   ]
  },
  {
   "cell_type": "markdown",
   "id": "c9e2fa8f",
   "metadata": {},
   "source": [
    "### Indices:\n",
    "- ^GSPC = *SP500*\n",
    "- ^BVSP = *Bovespa*\n",
    "- ACWI\n",
    "- portfolio"
   ]
  },
  {
   "cell_type": "code",
   "execution_count": 8,
   "id": "f92663d6",
   "metadata": {},
   "outputs": [
    {
     "data": {
      "text/html": [
       "<div>\n",
       "<style scoped>\n",
       "    .dataframe tbody tr th:only-of-type {\n",
       "        vertical-align: middle;\n",
       "    }\n",
       "\n",
       "    .dataframe tbody tr th {\n",
       "        vertical-align: top;\n",
       "    }\n",
       "\n",
       "    .dataframe thead th {\n",
       "        text-align: right;\n",
       "    }\n",
       "</style>\n",
       "<table border=\"1\" class=\"dataframe\">\n",
       "  <thead>\n",
       "    <tr style=\"text-align: right;\">\n",
       "      <th></th>\n",
       "      <th>Date</th>\n",
       "      <th>retorno acumulado</th>\n",
       "      <th>GSRAII Index</th>\n",
       "      <th>year_week</th>\n",
       "    </tr>\n",
       "  </thead>\n",
       "  <tbody>\n",
       "    <tr>\n",
       "      <th>1</th>\n",
       "      <td>1997-01-03</td>\n",
       "      <td>1.014952</td>\n",
       "      <td>0.13</td>\n",
       "      <td>1997-00</td>\n",
       "    </tr>\n",
       "    <tr>\n",
       "      <th>2</th>\n",
       "      <td>1997-01-06</td>\n",
       "      <td>1.014437</td>\n",
       "      <td>0.22</td>\n",
       "      <td>1997-01</td>\n",
       "    </tr>\n",
       "    <tr>\n",
       "      <th>3</th>\n",
       "      <td>1997-01-07</td>\n",
       "      <td>1.022008</td>\n",
       "      <td>0.21</td>\n",
       "      <td>1997-01</td>\n",
       "    </tr>\n",
       "    <tr>\n",
       "      <th>4</th>\n",
       "      <td>1997-01-08</td>\n",
       "      <td>1.015468</td>\n",
       "      <td>0.22</td>\n",
       "      <td>1997-01</td>\n",
       "    </tr>\n",
       "    <tr>\n",
       "      <th>5</th>\n",
       "      <td>1997-01-09</td>\n",
       "      <td>1.024206</td>\n",
       "      <td>0.18</td>\n",
       "      <td>1997-01</td>\n",
       "    </tr>\n",
       "    <tr>\n",
       "      <th>...</th>\n",
       "      <td>...</td>\n",
       "      <td>...</td>\n",
       "      <td>...</td>\n",
       "      <td>...</td>\n",
       "    </tr>\n",
       "    <tr>\n",
       "      <th>6160</th>\n",
       "      <td>2021-08-19</td>\n",
       "      <td>5.977938</td>\n",
       "      <td>-0.11</td>\n",
       "      <td>2021-33</td>\n",
       "    </tr>\n",
       "    <tr>\n",
       "      <th>6161</th>\n",
       "      <td>2021-08-20</td>\n",
       "      <td>6.026607</td>\n",
       "      <td>-0.09</td>\n",
       "      <td>2021-33</td>\n",
       "    </tr>\n",
       "    <tr>\n",
       "      <th>6162</th>\n",
       "      <td>2021-08-23</td>\n",
       "      <td>6.077977</td>\n",
       "      <td>-0.02</td>\n",
       "      <td>2021-34</td>\n",
       "    </tr>\n",
       "    <tr>\n",
       "      <th>6163</th>\n",
       "      <td>2021-08-24</td>\n",
       "      <td>6.087068</td>\n",
       "      <td>0.08</td>\n",
       "      <td>2021-34</td>\n",
       "    </tr>\n",
       "    <tr>\n",
       "      <th>6164</th>\n",
       "      <td>2021-08-25</td>\n",
       "      <td>6.100582</td>\n",
       "      <td>0.16</td>\n",
       "      <td>2021-34</td>\n",
       "    </tr>\n",
       "  </tbody>\n",
       "</table>\n",
       "<p>6164 rows × 4 columns</p>\n",
       "</div>"
      ],
      "text/plain": [
       "           Date  retorno acumulado  GSRAII Index year_week\n",
       "1    1997-01-03           1.014952          0.13   1997-00\n",
       "2    1997-01-06           1.014437          0.22   1997-01\n",
       "3    1997-01-07           1.022008          0.21   1997-01\n",
       "4    1997-01-08           1.015468          0.22   1997-01\n",
       "5    1997-01-09           1.024206          0.18   1997-01\n",
       "...         ...                ...           ...       ...\n",
       "6160 2021-08-19           5.977938         -0.11   2021-33\n",
       "6161 2021-08-20           6.026607         -0.09   2021-33\n",
       "6162 2021-08-23           6.077977         -0.02   2021-34\n",
       "6163 2021-08-24           6.087068          0.08   2021-34\n",
       "6164 2021-08-25           6.100582          0.16   2021-34\n",
       "\n",
       "[6164 rows x 4 columns]"
      ]
     },
     "execution_count": 8,
     "metadata": {},
     "output_type": "execute_result"
    }
   ],
   "source": [
    "# Trocar codigo do indice\n",
    "indice='^GSPC'\n",
    "df = get_dados(indice=indice)\n",
    "df"
   ]
  },
  {
   "cell_type": "code",
   "execution_count": 9,
   "id": "9b4205bd",
   "metadata": {},
   "outputs": [],
   "source": [
    "#%% Semanal\n",
    "df_gp = df.groupby('year_week').agg('last')"
   ]
  },
  {
   "cell_type": "code",
   "execution_count": 10,
   "id": "c8a75501",
   "metadata": {},
   "outputs": [],
   "source": [
    "for pct in range(1,6):\n",
    "    df_gp[f'pct_sem_0-{pct}'] = (df_gp['retorno acumulado']/df_gp['retorno acumulado'].shift(pct).values -1) * 100"
   ]
  },
  {
   "cell_type": "code",
   "execution_count": 11,
   "id": "d501cd44",
   "metadata": {},
   "outputs": [],
   "source": [
    "def classe_gsrai(df, limit=0, media_movel=3):\n",
    "    \n",
    "    df=df.copy()\n",
    "    df['mean'] = df['GSRAII Index'].rolling(media_movel).mean()\n",
    "    up_down = df['mean']\n",
    "\n",
    "    df['gsrai_gt_up'] = np.where((df['GSRAII Index'] > up_down) & (df['GSRAII Index'] >= limit), 1, 0)\n",
    "    df['gsrai_gt_down'] = np.where((df['GSRAII Index'] < up_down) & (df['GSRAII Index'] >= limit), 1, 0)\n",
    "    df['gsrai_lt_up'] = np.where((df['GSRAII Index'] > up_down) & (df['GSRAII Index'] < limit), 1, 0)\n",
    "    df['gsrai_lt_down'] = np.where((df['GSRAII Index'] < up_down) & (df['GSRAII Index'] < limit), 1, 0)\n",
    "\n",
    "    regras = ['gsrai_gt_up', 'gsrai_gt_down', 'gsrai_lt_up', 'gsrai_lt_down']\n",
    "    df['classe'] = np.nan\n",
    "    for col in regras:\n",
    "        df.loc[df[col]==1, 'classe'] = col\n",
    "    return df.dropna()"
   ]
  },
  {
   "cell_type": "code",
   "execution_count": 12,
   "id": "b89f9434",
   "metadata": {},
   "outputs": [],
   "source": [
    "df_gp =  classe_gsrai(df=df_gp, limit=0, media_movel=3)"
   ]
  },
  {
   "cell_type": "code",
   "execution_count": 13,
   "id": "c2278f68",
   "metadata": {
    "scrolled": true
   },
   "outputs": [],
   "source": [
    "pct =  'pct_sem_0-3'\n",
    "regras = ['gsrai_gt_up', 'gsrai_gt_down', 'gsrai_lt_up', 'gsrai_lt_down']"
   ]
  },
  {
   "cell_type": "code",
   "execution_count": 16,
   "id": "e9ba0d22",
   "metadata": {
    "scrolled": true
   },
   "outputs": [
    {
     "data": {
      "text/html": [
       "<div>\n",
       "<style scoped>\n",
       "    .dataframe tbody tr th:only-of-type {\n",
       "        vertical-align: middle;\n",
       "    }\n",
       "\n",
       "    .dataframe tbody tr th {\n",
       "        vertical-align: top;\n",
       "    }\n",
       "\n",
       "    .dataframe thead th {\n",
       "        text-align: right;\n",
       "    }\n",
       "</style>\n",
       "<table border=\"1\" class=\"dataframe\">\n",
       "  <thead>\n",
       "    <tr style=\"text-align: right;\">\n",
       "      <th></th>\n",
       "      <th>gsrai_gt_down</th>\n",
       "      <th>gsrai_gt_up</th>\n",
       "      <th>gsrai_lt_down</th>\n",
       "      <th>gsrai_lt_up</th>\n",
       "    </tr>\n",
       "  </thead>\n",
       "  <tbody>\n",
       "    <tr>\n",
       "      <th>count</th>\n",
       "      <td>260.000000</td>\n",
       "      <td>377.000000</td>\n",
       "      <td>340.000000</td>\n",
       "      <td>313.000000</td>\n",
       "    </tr>\n",
       "    <tr>\n",
       "      <th>mean</th>\n",
       "      <td>0.731362</td>\n",
       "      <td>1.613290</td>\n",
       "      <td>-2.195612</td>\n",
       "      <td>1.863994</td>\n",
       "    </tr>\n",
       "    <tr>\n",
       "      <th>std</th>\n",
       "      <td>2.913398</td>\n",
       "      <td>2.499989</td>\n",
       "      <td>4.546833</td>\n",
       "      <td>4.560710</td>\n",
       "    </tr>\n",
       "    <tr>\n",
       "      <th>min</th>\n",
       "      <td>-8.351541</td>\n",
       "      <td>-7.144465</td>\n",
       "      <td>-28.353571</td>\n",
       "      <td>-22.478099</td>\n",
       "    </tr>\n",
       "    <tr>\n",
       "      <th>25%</th>\n",
       "      <td>-0.953529</td>\n",
       "      <td>0.237997</td>\n",
       "      <td>-4.049180</td>\n",
       "      <td>-0.309974</td>\n",
       "    </tr>\n",
       "    <tr>\n",
       "      <th>50%</th>\n",
       "      <td>0.830090</td>\n",
       "      <td>1.572469</td>\n",
       "      <td>-1.832571</td>\n",
       "      <td>2.010218</td>\n",
       "    </tr>\n",
       "    <tr>\n",
       "      <th>75%</th>\n",
       "      <td>2.463103</td>\n",
       "      <td>2.991507</td>\n",
       "      <td>0.526419</td>\n",
       "      <td>4.116662</td>\n",
       "    </tr>\n",
       "    <tr>\n",
       "      <th>max</th>\n",
       "      <td>10.210797</td>\n",
       "      <td>12.324682</td>\n",
       "      <td>7.693614</td>\n",
       "      <td>21.037614</td>\n",
       "    </tr>\n",
       "  </tbody>\n",
       "</table>\n",
       "</div>"
      ],
      "text/plain": [
       "       gsrai_gt_down  gsrai_gt_up  gsrai_lt_down  gsrai_lt_up\n",
       "count     260.000000   377.000000     340.000000   313.000000\n",
       "mean        0.731362     1.613290      -2.195612     1.863994\n",
       "std         2.913398     2.499989       4.546833     4.560710\n",
       "min        -8.351541    -7.144465     -28.353571   -22.478099\n",
       "25%        -0.953529     0.237997      -4.049180    -0.309974\n",
       "50%         0.830090     1.572469      -1.832571     2.010218\n",
       "75%         2.463103     2.991507       0.526419     4.116662\n",
       "max        10.210797    12.324682       7.693614    21.037614"
      ]
     },
     "execution_count": 16,
     "metadata": {},
     "output_type": "execute_result"
    }
   ],
   "source": [
    "lista = []\n",
    "for col in df_gp['classe'].unique():\n",
    "    desc = df_gp[df_gp[col]==1][[pct]].describe().rename(columns={pct: col})\n",
    "    lista.append(desc)\n",
    "pd.concat(lista, axis=1)"
   ]
  },
  {
   "cell_type": "code",
   "execution_count": 17,
   "id": "5e16c552",
   "metadata": {
    "scrolled": true
   },
   "outputs": [
    {
     "data": {
      "application/vnd.jupyter.widget-view+json": {
       "model_id": "7ff041d108ac409cabc699c87d8ed50a",
       "version_major": 2,
       "version_minor": 0
      },
      "text/plain": [
       "interactive(children=(Dropdown(description='pct', options=('pct_sem_0-1', 'pct_sem_0-2', 'pct_sem_0-3', 'pct_s…"
      ]
     },
     "metadata": {},
     "output_type": "display_data"
    }
   ],
   "source": [
    "@interact(df=fixed(df_gp), \n",
    "          pct=['pct_sem_0-1','pct_sem_0-2', 'pct_sem_0-3', 'pct_sem_0-4', 'pct_sem_0-5'],\n",
    "          limit=FloatSlider(min=-1, max=1, step=0.05, value=0),\n",
    "          media_movel=IntSlider(min=2, max=6, step=1, value=3)\n",
    "         )\n",
    "def hist_classes(df, pct, limit=0, media_movel=3):\n",
    "    df = classe_gsrai(df=df, limit=limit, media_movel=media_movel)\n",
    "    fig = px.histogram(df, x=pct, color=\"classe\", marginal=\"box\", nbins=100, \n",
    "#                        range_y=[0,50],\n",
    "                       range_x=[df[pct].min()-1,df[pct].max()+1],\n",
    "                       title=f'Distribuição {indice} {pct} ',\n",
    "                      )\n",
    "    fig.update_layout(barmode='overlay')\n",
    "    fig.update_traces(opacity=0.65)\n",
    "    fig.add_vline(x=0,line_dash=\"dash\")\n",
    "    \n",
    "    for i, classe in enumerate(df['classe'].unique()):\n",
    "        fig.add_annotation(text=f'Total {classe}: {len(df[df[\"classe\"]==classe])} ',\n",
    "                           showarrow=False, yshift=70-(i*19), xshift=450)\n",
    "        fig.add_annotation(text=f'σ {classe}: {df[df[\"classe\"]==classe][pct].std():.2f} ',\n",
    "                           showarrow=False, yshift=200-(i*19), xshift=450)\n",
    "    \n",
    "    return fig\n",
    "\n",
    "    \n",
    "hist_classes(df_gp, pct, limit=-1, media_movel=3);"
   ]
  },
  {
   "cell_type": "code",
   "execution_count": 18,
   "id": "6a6414c9",
   "metadata": {
    "scrolled": true
   },
   "outputs": [
    {
     "data": {
      "text/plain": [
       "retorno acumulado                                           115.481865\n",
       "GSRAII Index                                                    -75.86\n",
       "pct_sem_0-1                                                -245.670018\n",
       "pct_sem_0-2                                                -448.857488\n",
       "pct_sem_0-3                                                -646.903074\n",
       "pct_sem_0-4                                                -668.691012\n",
       "pct_sem_0-5                                                 -694.67417\n",
       "mean                                                        -61.186667\n",
       "gsrai_gt_up                                                          2\n",
       "gsrai_gt_down                                                        5\n",
       "gsrai_lt_up                                                         12\n",
       "gsrai_lt_down                                                       46\n",
       "classe               gsrai_lt_downgsrai_lt_downgsrai_lt_downgsrai_l...\n",
       "dtype: object"
      ]
     },
     "execution_count": 18,
     "metadata": {},
     "output_type": "execute_result"
    }
   ],
   "source": [
    "cut = df_gp[pct].quantile(0.05)\n",
    "df_gp[(df_gp['pct_sem_0-3']<=cut)].sum()"
   ]
  },
  {
   "cell_type": "code",
   "execution_count": 19,
   "id": "75333758",
   "metadata": {
    "scrolled": true
   },
   "outputs": [
    {
     "data": {
      "text/plain": [
       "count    294.000000\n",
       "mean      -0.919190\n",
       "std        2.863666\n",
       "min       -6.048450\n",
       "25%       -3.152576\n",
       "50%       -1.066665\n",
       "75%        1.038444\n",
       "max        7.693614\n",
       "Name: pct_sem_0-3, dtype: float64"
      ]
     },
     "execution_count": 19,
     "metadata": {},
     "output_type": "execute_result"
    }
   ],
   "source": [
    "df_gp[(df_gp['pct_sem_0-3']>cut) & (df_gp['gsrai_lt_down']==1)][pct].describe()"
   ]
  },
  {
   "cell_type": "code",
   "execution_count": 20,
   "id": "5fe0bf19",
   "metadata": {},
   "outputs": [
    {
     "data": {
      "text/plain": [
       "<AxesSubplot:>"
      ]
     },
     "execution_count": 20,
     "metadata": {},
     "output_type": "execute_result"
    },
    {
     "data": {
      "image/png": "[encoded data removed]",
      "text/plain": [
       "<Figure size 1440x720 with 1 Axes>"
      ]
     },
     "metadata": {
      "needs_background": "light"
     },
     "output_type": "display_data"
    }
   ],
   "source": [
    "df['retorno acumulado'].plot(x = 'Date', figsize=(20,10))"
   ]
  },
  {
   "cell_type": "code",
   "execution_count": null,
   "id": "f4651c9f",
   "metadata": {},
   "outputs": [],
   "source": []
  }
 ],
 "metadata": {
  "kernelspec": {
   "display_name": "Python 3",
   "language": "python",
   "name": "python3"
  },
  "language_info": {
   "codemirror_mode": {
    "name": "ipython",
    "version": 3
   },
   "file_extension": ".py",
   "mimetype": "text/x-python",
   "name": "python",
   "nbconvert_exporter": "python",
   "pygments_lexer": "ipython3",
   "version": "3.7.1"
  }
 },
 "nbformat": 4,
 "nbformat_minor": 5
}
