{
 "cells": [
  {
   "cell_type": "code",
   "execution_count": 3,
   "id": "9ad14cf6",
   "metadata": {},
   "outputs": [],
   "source": [
    "import os\n",
    "pwd_list = os.getcwd().split('\\\\')\n",
    "if pwd_list[-1] != 'RiskAI' and 'RiskAI' in pwd_list:\n",
    "    os.chdir('/'.join(pwd_list[:pwd_list.index('RiskAI')+1]))"
   ]
  },
  {
   "cell_type": "code",
   "execution_count": null,
   "id": "1d1fea46",
   "metadata": {},
   "outputs": [],
   "source": [
    "%%javascript\n",
    "IPython.OutputArea.prototype._should_scroll = function(lines) {\n",
    "    return false;\n",
    "}"
   ]
  },
  {
   "cell_type": "code",
   "execution_count": 57,
   "id": "1158725e",
   "metadata": {},
   "outputs": [],
   "source": [
    "import pandas as pd\n",
    "import numpy as np\n",
    "import plotly.express as px\n",
    "import plotly.graph_objects as go\n",
    "from ipywidgets import interact, fixed, FloatSlider, IntSlider\n",
    "from preprocess import get_gsrai"
   ]
  },
  {
   "cell_type": "code",
   "execution_count": 58,
   "id": "18e47b40",
   "metadata": {},
   "outputs": [
    {
     "data": {
      "text/html": [
       "<div>\n",
       "<style scoped>\n",
       "    .dataframe tbody tr th:only-of-type {\n",
       "        vertical-align: middle;\n",
       "    }\n",
       "\n",
       "    .dataframe tbody tr th {\n",
       "        vertical-align: top;\n",
       "    }\n",
       "\n",
       "    .dataframe thead th {\n",
       "        text-align: right;\n",
       "    }\n",
       "</style>\n",
       "<table border=\"1\" class=\"dataframe\">\n",
       "  <thead>\n",
       "    <tr style=\"text-align: right;\">\n",
       "      <th></th>\n",
       "      <th>Date</th>\n",
       "      <th>GSRAII Index</th>\n",
       "      <th>gsrai_dif</th>\n",
       "      <th>max_week</th>\n",
       "      <th>min_week</th>\n",
       "      <th>std_week</th>\n",
       "      <th>best_diff_week</th>\n",
       "      <th>worst_diff_week</th>\n",
       "      <th>diff_next_1_week</th>\n",
       "      <th>diff_next_2_week</th>\n",
       "      <th>diff_next_3_week</th>\n",
       "      <th>diff_next_4_week</th>\n",
       "      <th>diff_next_5_week</th>\n",
       "    </tr>\n",
       "    <tr>\n",
       "      <th>year_week</th>\n",
       "      <th></th>\n",
       "      <th></th>\n",
       "      <th></th>\n",
       "      <th></th>\n",
       "      <th></th>\n",
       "      <th></th>\n",
       "      <th></th>\n",
       "      <th></th>\n",
       "      <th></th>\n",
       "      <th></th>\n",
       "      <th></th>\n",
       "      <th></th>\n",
       "      <th></th>\n",
       "    </tr>\n",
       "  </thead>\n",
       "  <tbody>\n",
       "    <tr>\n",
       "      <th>1997-00</th>\n",
       "      <td>1997-01-03</td>\n",
       "      <td>0.13</td>\n",
       "      <td>0.17</td>\n",
       "      <td>NaN</td>\n",
       "      <td>NaN</td>\n",
       "      <td>NaN</td>\n",
       "      <td>NaN</td>\n",
       "      <td>NaN</td>\n",
       "      <td>0.09</td>\n",
       "      <td>0.23</td>\n",
       "      <td>0.24</td>\n",
       "      <td>0.16</td>\n",
       "      <td>0.09</td>\n",
       "    </tr>\n",
       "    <tr>\n",
       "      <th>1997-01</th>\n",
       "      <td>1997-01-10</td>\n",
       "      <td>0.22</td>\n",
       "      <td>0.04</td>\n",
       "      <td>0.22</td>\n",
       "      <td>0.18</td>\n",
       "      <td>0.017321</td>\n",
       "      <td>0.09</td>\n",
       "      <td>-0.04</td>\n",
       "      <td>0.14</td>\n",
       "      <td>0.15</td>\n",
       "      <td>0.07</td>\n",
       "      <td>0.00</td>\n",
       "      <td>-0.13</td>\n",
       "    </tr>\n",
       "    <tr>\n",
       "      <th>1997-02</th>\n",
       "      <td>1997-01-17</td>\n",
       "      <td>0.36</td>\n",
       "      <td>0.13</td>\n",
       "      <td>0.36</td>\n",
       "      <td>0.23</td>\n",
       "      <td>0.055408</td>\n",
       "      <td>0.13</td>\n",
       "      <td>-0.07</td>\n",
       "      <td>0.01</td>\n",
       "      <td>-0.07</td>\n",
       "      <td>-0.14</td>\n",
       "      <td>-0.27</td>\n",
       "      <td>-0.33</td>\n",
       "    </tr>\n",
       "    <tr>\n",
       "      <th>1997-03</th>\n",
       "      <td>1997-01-24</td>\n",
       "      <td>0.37</td>\n",
       "      <td>0.04</td>\n",
       "      <td>0.41</td>\n",
       "      <td>0.33</td>\n",
       "      <td>0.030332</td>\n",
       "      <td>0.04</td>\n",
       "      <td>-0.08</td>\n",
       "      <td>-0.08</td>\n",
       "      <td>-0.15</td>\n",
       "      <td>-0.28</td>\n",
       "      <td>-0.34</td>\n",
       "      <td>-0.32</td>\n",
       "    </tr>\n",
       "    <tr>\n",
       "      <th>1997-04</th>\n",
       "      <td>1997-01-31</td>\n",
       "      <td>0.29</td>\n",
       "      <td>-0.08</td>\n",
       "      <td>0.38</td>\n",
       "      <td>0.29</td>\n",
       "      <td>0.036332</td>\n",
       "      <td>0.03</td>\n",
       "      <td>-0.08</td>\n",
       "      <td>-0.07</td>\n",
       "      <td>-0.20</td>\n",
       "      <td>-0.26</td>\n",
       "      <td>-0.24</td>\n",
       "      <td>0.01</td>\n",
       "    </tr>\n",
       "    <tr>\n",
       "      <th>...</th>\n",
       "      <td>...</td>\n",
       "      <td>...</td>\n",
       "      <td>...</td>\n",
       "      <td>...</td>\n",
       "      <td>...</td>\n",
       "      <td>...</td>\n",
       "      <td>...</td>\n",
       "      <td>...</td>\n",
       "      <td>...</td>\n",
       "      <td>...</td>\n",
       "      <td>...</td>\n",
       "      <td>...</td>\n",
       "      <td>...</td>\n",
       "    </tr>\n",
       "    <tr>\n",
       "      <th>2021-30</th>\n",
       "      <td>2021-07-30</td>\n",
       "      <td>0.11</td>\n",
       "      <td>-0.07</td>\n",
       "      <td>0.30</td>\n",
       "      <td>0.11</td>\n",
       "      <td>0.072595</td>\n",
       "      <td>0.03</td>\n",
       "      <td>-0.15</td>\n",
       "      <td>0.20</td>\n",
       "      <td>0.15</td>\n",
       "      <td>-0.20</td>\n",
       "      <td>0.05</td>\n",
       "      <td>NaN</td>\n",
       "    </tr>\n",
       "    <tr>\n",
       "      <th>2021-31</th>\n",
       "      <td>2021-08-06</td>\n",
       "      <td>0.31</td>\n",
       "      <td>0.07</td>\n",
       "      <td>0.31</td>\n",
       "      <td>0.09</td>\n",
       "      <td>0.088487</td>\n",
       "      <td>0.08</td>\n",
       "      <td>-0.02</td>\n",
       "      <td>-0.05</td>\n",
       "      <td>-0.40</td>\n",
       "      <td>-0.15</td>\n",
       "      <td>NaN</td>\n",
       "      <td>NaN</td>\n",
       "    </tr>\n",
       "    <tr>\n",
       "      <th>2021-32</th>\n",
       "      <td>2021-08-13</td>\n",
       "      <td>0.26</td>\n",
       "      <td>-0.09</td>\n",
       "      <td>0.37</td>\n",
       "      <td>0.26</td>\n",
       "      <td>0.042071</td>\n",
       "      <td>0.06</td>\n",
       "      <td>-0.09</td>\n",
       "      <td>-0.35</td>\n",
       "      <td>-0.10</td>\n",
       "      <td>NaN</td>\n",
       "      <td>NaN</td>\n",
       "      <td>NaN</td>\n",
       "    </tr>\n",
       "    <tr>\n",
       "      <th>2021-33</th>\n",
       "      <td>2021-08-20</td>\n",
       "      <td>-0.09</td>\n",
       "      <td>0.02</td>\n",
       "      <td>0.19</td>\n",
       "      <td>-0.11</td>\n",
       "      <td>0.136492</td>\n",
       "      <td>0.02</td>\n",
       "      <td>-0.23</td>\n",
       "      <td>0.25</td>\n",
       "      <td>NaN</td>\n",
       "      <td>NaN</td>\n",
       "      <td>NaN</td>\n",
       "      <td>NaN</td>\n",
       "    </tr>\n",
       "    <tr>\n",
       "      <th>2021-34</th>\n",
       "      <td>2021-08-25</td>\n",
       "      <td>0.16</td>\n",
       "      <td>0.08</td>\n",
       "      <td>0.16</td>\n",
       "      <td>-0.11</td>\n",
       "      <td>0.114586</td>\n",
       "      <td>0.10</td>\n",
       "      <td>-0.23</td>\n",
       "      <td>NaN</td>\n",
       "      <td>NaN</td>\n",
       "      <td>NaN</td>\n",
       "      <td>NaN</td>\n",
       "      <td>NaN</td>\n",
       "    </tr>\n",
       "  </tbody>\n",
       "</table>\n",
       "<p>1302 rows × 13 columns</p>\n",
       "</div>"
      ],
      "text/plain": [
       "                Date  GSRAII Index  gsrai_dif  max_week  min_week  std_week  \\\n",
       "year_week                                                                     \n",
       "1997-00   1997-01-03          0.13       0.17       NaN       NaN       NaN   \n",
       "1997-01   1997-01-10          0.22       0.04      0.22      0.18  0.017321   \n",
       "1997-02   1997-01-17          0.36       0.13      0.36      0.23  0.055408   \n",
       "1997-03   1997-01-24          0.37       0.04      0.41      0.33  0.030332   \n",
       "1997-04   1997-01-31          0.29      -0.08      0.38      0.29  0.036332   \n",
       "...              ...           ...        ...       ...       ...       ...   \n",
       "2021-30   2021-07-30          0.11      -0.07      0.30      0.11  0.072595   \n",
       "2021-31   2021-08-06          0.31       0.07      0.31      0.09  0.088487   \n",
       "2021-32   2021-08-13          0.26      -0.09      0.37      0.26  0.042071   \n",
       "2021-33   2021-08-20         -0.09       0.02      0.19     -0.11  0.136492   \n",
       "2021-34   2021-08-25          0.16       0.08      0.16     -0.11  0.114586   \n",
       "\n",
       "           best_diff_week  worst_diff_week  diff_next_1_week  \\\n",
       "year_week                                                      \n",
       "1997-00               NaN              NaN              0.09   \n",
       "1997-01              0.09            -0.04              0.14   \n",
       "1997-02              0.13            -0.07              0.01   \n",
       "1997-03              0.04            -0.08             -0.08   \n",
       "1997-04              0.03            -0.08             -0.07   \n",
       "...                   ...              ...               ...   \n",
       "2021-30              0.03            -0.15              0.20   \n",
       "2021-31              0.08            -0.02             -0.05   \n",
       "2021-32              0.06            -0.09             -0.35   \n",
       "2021-33              0.02            -0.23              0.25   \n",
       "2021-34              0.10            -0.23               NaN   \n",
       "\n",
       "           diff_next_2_week  diff_next_3_week  diff_next_4_week  \\\n",
       "year_week                                                         \n",
       "1997-00                0.23              0.24              0.16   \n",
       "1997-01                0.15              0.07              0.00   \n",
       "1997-02               -0.07             -0.14             -0.27   \n",
       "1997-03               -0.15             -0.28             -0.34   \n",
       "1997-04               -0.20             -0.26             -0.24   \n",
       "...                     ...               ...               ...   \n",
       "2021-30                0.15             -0.20              0.05   \n",
       "2021-31               -0.40             -0.15               NaN   \n",
       "2021-32               -0.10               NaN               NaN   \n",
       "2021-33                 NaN               NaN               NaN   \n",
       "2021-34                 NaN               NaN               NaN   \n",
       "\n",
       "           diff_next_5_week  \n",
       "year_week                    \n",
       "1997-00                0.09  \n",
       "1997-01               -0.13  \n",
       "1997-02               -0.33  \n",
       "1997-03               -0.32  \n",
       "1997-04                0.01  \n",
       "...                     ...  \n",
       "2021-30                 NaN  \n",
       "2021-31                 NaN  \n",
       "2021-32                 NaN  \n",
       "2021-33                 NaN  \n",
       "2021-34                 NaN  \n",
       "\n",
       "[1302 rows x 13 columns]"
      ]
     },
     "execution_count": 58,
     "metadata": {},
     "output_type": "execute_result"
    }
   ],
   "source": [
    "df = pd.read_csv('dados/GSRAII.csv', parse_dates=['Date']).sort_values('Date')\n",
    "df['year_week'] = df['Date'].dt.strftime('%Y-%U')\n",
    "df['gsrai_dif'] = df_gsrai['GSRAII Index'].diff()\n",
    "df['max_week'] = df['GSRAII Index'].rolling(5).max()\n",
    "df['min_week'] = df['GSRAII Index'].rolling(5).min()\n",
    "df['std_week'] = df['GSRAII Index'].rolling(5).std()\n",
    "df['best_diff_week'] = df['gsrai_dif'].rolling(5).max()\n",
    "df['worst_diff_week'] = df['gsrai_dif'].rolling(5).min()\n",
    "df = df.groupby('year_week').agg('last')\n",
    "\n",
    "for n in range(1,6):\n",
    "    df[f'diff_next_{n}_week'] = (df['GSRAII Index'].shift(n*-1).values - df['GSRAII Index'])\n",
    "\n",
    "df"
   ]
  },
  {
   "cell_type": "code",
   "execution_count": 59,
   "id": "f92663d6",
   "metadata": {},
   "outputs": [
    {
     "name": "stderr",
     "output_type": "stream",
     "text": [
      "C:\\ProgramData\\Anaconda3\\lib\\site-packages\\statsmodels\\tsa\\stattools.py:667: FutureWarning: fft=True will become the default after the release of the 0.12 release of statsmodels. To suppress this warning, explicitly set fft=False.\n",
      "  warnings.warn(\n"
     ]
    }
   ],
   "source": [
    "from statsmodels.tsa.stattools import acf, pacf, adfuller\n",
    "from statsmodels.graphics.tsaplots import plot_acf\n",
    "\n",
    "lag_acf = acf(df['GSRAII Index'].dropna(), nlags=30)\n",
    "lag_pacf = pacf(df['GSRAII Index'].dropna(), nlags=30)"
   ]
  },
  {
   "cell_type": "code",
   "execution_count": 39,
   "id": "97a636f4",
   "metadata": {},
   "outputs": [
    {
     "data": {
      "image/png": "[encoded data removed]",
      "text/plain": [
       "<Figure size 432x288 with 1 Axes>"
      ]
     },
     "metadata": {
      "needs_background": "light"
     },
     "output_type": "display_data"
    }
   ],
   "source": [
    "plot_acf(lag_acf);"
   ]
  },
  {
   "cell_type": "code",
   "execution_count": 40,
   "id": "ae399d03",
   "metadata": {},
   "outputs": [
    {
     "data": {
      "image/png": "[encoded data removed]",
      "text/plain": [
       "<Figure size 432x288 with 1 Axes>"
      ]
     },
     "metadata": {
      "needs_background": "light"
     },
     "output_type": "display_data"
    }
   ],
   "source": [
    "plot_acf(lag_pacf);"
   ]
  },
  {
   "cell_type": "code",
   "execution_count": 35,
   "id": "4df960ba",
   "metadata": {},
   "outputs": [
    {
     "data": {
      "text/plain": [
       "(-5.947488636626582,\n",
       " 2.1866592158396202e-07,\n",
       " 1,\n",
       " 1300,\n",
       " {'1%': -3.435390199468821,\n",
       "  '5%': -2.8637658312426035,\n",
       "  '10%': -2.567955046745562},\n",
       " 140.78950603573594)"
      ]
     },
     "execution_count": 35,
     "metadata": {},
     "output_type": "execute_result"
    }
   ],
   "source": [
    "adfuller(df['GSRAII Index'].dropna())"
   ]
  },
  {
   "cell_type": "code",
   "execution_count": null,
   "id": "9b4205bd",
   "metadata": {},
   "outputs": [],
   "source": [
    "#%% Semanal\n",
    "df_gp = df.groupby('year_week').agg('last')"
   ]
  },
  {
   "cell_type": "code",
   "execution_count": null,
   "id": "c8a75501",
   "metadata": {},
   "outputs": [],
   "source": [
    "# SHIFT +\n",
    "# for pct in range(1,6):\n",
    "#     df_gp[f'pct_{pct}_sem'] = (df_gp['retorno acumulado']/df_gp['retorno acumulado'].shift(pct).values -1) * 100\n",
    "\n",
    "# SHIFT -\n",
    "for pct in range(1,6):\n",
    "    df_gp[f'pct_{pct}_sem'] = (df_gp['retorno acumulado'].shift(pct*-1).values/\n",
    "                           df_gp['retorno acumulado'] -1) * 100"
   ]
  },
  {
   "cell_type": "code",
   "execution_count": null,
   "id": "d501cd44",
   "metadata": {},
   "outputs": [],
   "source": [
    "def classe_gsrai(df, limit=0, diff=None, media_movel=3):\n",
    "    \n",
    "    df=df.copy()\n",
    "    df['gsrai_diff'] = df['GSRAII Index'].diff()\n",
    "    \n",
    "    if not media_movel == None: \n",
    "        df['mean'] = df['GSRAII Index'].rolling(media_movel).mean()\n",
    "        up_down = df['mean']\n",
    "        df['gsrai_gt_up'] = np.where((df['GSRAII Index'] > up_down) & (df['GSRAII Index'] >= limit), 1, 0)\n",
    "        df['gsrai_gt_down'] = np.where((df['GSRAII Index'] < up_down) & (df['GSRAII Index'] >= limit), 1, 0)\n",
    "        df['gsrai_lt_up'] = np.where((df['GSRAII Index'] > up_down) & (df['GSRAII Index'] < limit), 1, 0)\n",
    "        df['gsrai_lt_down'] = np.where((df['GSRAII Index'] < up_down) & (df['GSRAII Index'] < limit), 1, 0)\n",
    "    elif not diff == None: \n",
    "        df['gsrai_gt_up'] = np.where((df['gsrai_diff'] >= diff) & (df['GSRAII Index'] >= limit), 1, 0)\n",
    "        df['gsrai_gt_down'] = np.where((df['gsrai_diff'] < diff) & (df['GSRAII Index'] >= limit), 1, 0)\n",
    "        df['gsrai_lt_up'] = np.where((df['gsrai_diff'] >= diff) & (df['GSRAII Index'] < limit), 1, 0)\n",
    "        df['gsrai_lt_down'] = np.where((df['gsrai_diff'] < diff) & (df['GSRAII Index'] < limit), 1, 0)\n",
    "        \n",
    "        \n",
    "    regras = ['gsrai_gt_up', 'gsrai_gt_down', 'gsrai_lt_up', 'gsrai_lt_down']\n",
    "    df['classe'] = np.nan\n",
    "    for col in regras:\n",
    "        df.loc[df[col]==1, 'classe'] = col\n",
    "    return df"
   ]
  },
  {
   "cell_type": "code",
   "execution_count": null,
   "id": "b89f9434",
   "metadata": {},
   "outputs": [],
   "source": []
  },
  {
   "cell_type": "code",
   "execution_count": null,
   "id": "be8528cf",
   "metadata": {},
   "outputs": [],
   "source": [
    "df_gp =  classe_gsrai(df=df_gp, limit=0, media_movel=None, diff=0)\n",
    "# df_gp['classe'] = df_gp['classe'].shift(-1).values\n",
    "for col in ['pct_1_sem', 'pct_2_sem', 'pct_3_sem', 'pct_4_sem', 'pct_5_sem']:\n",
    "    df_gp[col] = df_gp[col].shift(1).values\n"
   ]
  },
  {
   "cell_type": "code",
   "execution_count": null,
   "id": "8911dbba",
   "metadata": {},
   "outputs": [],
   "source": [
    "df_gp"
   ]
  },
  {
   "cell_type": "code",
   "execution_count": null,
   "id": "c2278f68",
   "metadata": {
    "scrolled": true
   },
   "outputs": [],
   "source": [
    "pct =  'pct_1_sem'\n",
    "regras = ['gsrai_gt_up', 'gsrai_gt_down', 'gsrai_lt_up', 'gsrai_lt_down']"
   ]
  },
  {
   "cell_type": "code",
   "execution_count": null,
   "id": "e9ba0d22",
   "metadata": {
    "scrolled": true
   },
   "outputs": [],
   "source": [
    "lista = []\n",
    "for col in df_gp['classe'].dropna().unique():\n",
    "    desc = df_gp[df_gp[col]==1][[pct]].describe().rename(columns={pct: col})\n",
    "    lista.append(desc)\n",
    "pd.concat(lista, axis=1)"
   ]
  },
  {
   "cell_type": "code",
   "execution_count": null,
   "id": "5e16c552",
   "metadata": {
    "scrolled": true
   },
   "outputs": [],
   "source": [
    "@interact(df=fixed(df_gp), \n",
    "          pct=['pct_1_sem', 'pct_2_sem', 'pct_3_sem', 'pct_4_sem', 'pct_5_sem'],\n",
    "          limit=FloatSlider(min=-1, max=1, step=0.05, value=0),\n",
    "          diff=FloatSlider(min=-1, max=1, step=0.05, value=0),\n",
    "#           media_movel=IntSlider(min=2, max=6, step=1, value=3)\n",
    "         )\n",
    "def hist_classes(df, pct, limit=0, diff=0):\n",
    "    df = classe_gsrai(df=df, limit=limit, media_movel=None, diff=diff).dropna()\n",
    "    fig = px.histogram(df.sort_values('classe'), x=pct, color=\"classe\", marginal=\"box\", nbins=100, \n",
    "#                        range_y=[0,50],\n",
    "                       range_x=[df[pct].min()-1,df[pct].max()+1],\n",
    "                       title=f'Distribuição {indice} {pct} ',\n",
    "                      )\n",
    "    fig.update_layout(barmode='overlay')\n",
    "    fig.update_traces(opacity=0.65)\n",
    "    fig.add_vline(x=0,line_dash=\"dash\")\n",
    "    \n",
    "    for i, classe in enumerate(df['classe'].unique()):\n",
    "        fig.add_annotation(text=f'Total {classe}: {len(df[df[\"classe\"]==classe])}',\n",
    "                           showarrow=False, yshift=70-(i*19), xshift=450)\n",
    "        fig.add_annotation(text=f'σ {classe}: {df[df[\"classe\"]==classe][pct].std():.2f} ',\n",
    "                       showarrow=False, yshift=200-(i*19), xshift=450)   \n",
    "    return fig\n",
    "\n",
    "    \n",
    "hist_classes(df_gp, pct, limit=-1, diff=0);"
   ]
  },
  {
   "cell_type": "code",
   "execution_count": null,
   "id": "9561d68f",
   "metadata": {},
   "outputs": [],
   "source": [
    "@interact(df=fixed(df_gp), \n",
    "          pct=['pct_1_sem', 'pct_2_sem', 'pct_3_sem', 'pct_4_sem', 'pct_5_sem'],\n",
    "          limit=FloatSlider(min=-1, max=1, step=0.05, value=0),\n",
    "#           media_movel=IntSlider(min=2, max=6, step=1, value=3)\n",
    "         )\n",
    "def hist_diff(df, pct, limit=0):\n",
    "    df = classe_gsrai(df=df, limit=limit, media_movel=3).dropna()\n",
    "    df = df.copy()\n",
    "    df['classe_diff'] = np.where(df['gsrai_diff']<=limit, 'abaixo', 'acima')\n",
    "    fig = px.histogram(df.sort_values('classe_diff', ascending=False), \n",
    "                       x=pct, color=\"classe_diff\", \n",
    "                       marginal=\"box\", nbins=100, \n",
    "#                        range_y=[0,50],\n",
    "                       range_x=[df[pct].min()-1,df[pct].max()+1],\n",
    "                       title=f'Distribuição {indice} {pct} por diff GSRAI',\n",
    "                      )\n",
    "    fig.update_layout(barmode='overlay')\n",
    "    fig.update_traces(opacity=0.65)\n",
    "    fig.add_vline(x=0,line_dash=\"dash\")\n",
    "    \n",
    "    for i, classe in enumerate(df['classe_diff'].unique()):\n",
    "        fig.add_annotation(text=f'Total {classe}: {len(df[df[\"classe_diff\"]==classe])}',\n",
    "                           showarrow=False, yshift=100-(i*19), xshift=450)\n",
    "        fig.add_annotation(text=f'σ {classe}: {df[df[\"classe_diff\"]==classe][pct].std():.2f} ',\n",
    "                       showarrow=False, yshift=200-(i*19), xshift=450)   \n",
    "    return fig\n",
    "\n",
    "    \n",
    "hist_diff(df_gp, pct);"
   ]
  },
  {
   "cell_type": "code",
   "execution_count": null,
   "id": "6a6414c9",
   "metadata": {
    "scrolled": true
   },
   "outputs": [],
   "source": [
    "cut = df_gp[pct].quantile(0.15)\n",
    "df_gp[(df_gp[pct]<=cut)].sum()"
   ]
  },
  {
   "cell_type": "code",
   "execution_count": null,
   "id": "ec60c2d9",
   "metadata": {},
   "outputs": [],
   "source": [
    "@interact(df=fixed(df_gp), \n",
    "          pct=['pct_1_sem', 'pct_2_sem', 'pct_3_sem', 'pct_4_sem', 'pct_5_sem'],\n",
    "          limit=FloatSlider(min=-1, max=1, step=0.05, value=0),\n",
    "#           diff=FloatSlider(min=-1, max=1, step=0.05, value=0),\n",
    "          media_movel=IntSlider(min=2, max=6, step=1, value=3)\n",
    "         )\n",
    "def hist_classes(df, pct, limit=0, media_movel=3):\n",
    "    df = classe_gsrai(df=df, limit=limit, media_movel=3, diff=None).dropna()\n",
    "    fig = px.histogram(df.sort_values('classe'), x=pct, color=\"classe\", marginal=\"box\", nbins=100, \n",
    "#                        range_y=[0,50],\n",
    "                       range_x=[df[pct].min()-1,df[pct].max()+1],\n",
    "                       title=f'Distribuição {indice} {pct} ',\n",
    "                      )\n",
    "    fig.update_layout(barmode='overlay')\n",
    "    fig.update_traces(opacity=0.65)\n",
    "    fig.add_vline(x=0,line_dash=\"dash\")\n",
    "    \n",
    "    for i, classe in enumerate(df['classe'].unique()):\n",
    "        fig.add_annotation(text=f'Total {classe}: {len(df[df[\"classe\"]==classe])}',\n",
    "                           showarrow=False, yshift=70-(i*19), xshift=450)\n",
    "        fig.add_annotation(text=f'σ {classe}: {df[df[\"classe\"]==classe][pct].std():.2f} ',\n",
    "                       showarrow=False, yshift=200-(i*19), xshift=450)   \n",
    "    return fig\n",
    "\n",
    "    \n",
    "hist_classes(df_gp, pct, limit=-1, diff=0);"
   ]
  },
  {
   "cell_type": "code",
   "execution_count": null,
   "id": "75333758",
   "metadata": {
    "scrolled": true
   },
   "outputs": [],
   "source": [
    "df_gp[(df_gp[pct]>cut) & (df_gp['gsrai_lt_down']==0)][pct].describe()"
   ]
  },
  {
   "cell_type": "code",
   "execution_count": null,
   "id": "4cb53336",
   "metadata": {},
   "outputs": [],
   "source": [
    "df_gp.columns"
   ]
  },
  {
   "cell_type": "code",
   "execution_count": null,
   "id": "84024bee",
   "metadata": {
    "scrolled": true
   },
   "outputs": [],
   "source": [
    "# import seaborn as sns\n",
    "# sns.pairplot(df_gp.drop(columns= ['gsrai_gt_up',\n",
    "#        'gsrai_gt_down', 'gsrai_lt_up', 'gsrai_lt_down']), hue='classe');"
   ]
  },
  {
   "cell_type": "code",
   "execution_count": null,
   "id": "cd17880c",
   "metadata": {},
   "outputs": [],
   "source": [
    "df_gp.to_csv('gsrai.csv')"
   ]
  },
  {
   "cell_type": "code",
   "execution_count": null,
   "id": "443ef383",
   "metadata": {},
   "outputs": [],
   "source": [
    "df_gp['2019-35':'2019-45']"
   ]
  },
  {
   "cell_type": "code",
   "execution_count": null,
   "id": "a9216bf6",
   "metadata": {
    "scrolled": true
   },
   "outputs": [],
   "source": [
    "df_gp[(df_gp['pct_ret']<0) & (df_gp['gsrai_lt_down']==1)]['pct_ret'].describe()"
   ]
  },
  {
   "cell_type": "code",
   "execution_count": null,
   "id": "8ce18de9",
   "metadata": {},
   "outputs": [],
   "source": [
    "df_gp[(df_gp['gsrai_lt_down']==1)]['pct_ret'].describe()"
   ]
  },
  {
   "cell_type": "code",
   "execution_count": null,
   "id": "c843c254",
   "metadata": {},
   "outputs": [],
   "source": [
    "df_gp[(df_gp['gsrai_lt_down']==1)]['pct_ret_shift'].describe()"
   ]
  },
  {
   "cell_type": "code",
   "execution_count": null,
   "id": "eba41867",
   "metadata": {
    "scrolled": true
   },
   "outputs": [],
   "source": [
    "df['retorno acumulado'].plot()"
   ]
  },
  {
   "cell_type": "code",
   "execution_count": null,
   "id": "5fe0bf19",
   "metadata": {},
   "outputs": [],
   "source": [
    "#%% Grafico\n",
    "\n",
    "fig = px.line(df, x=\"Date\", y='retorno acumulado')\n",
    "# mask = df_gp['gsrai_lt_down']==1\n",
    "# fig = px.line(df_gp, x=\"Date\", y=['GSRAII Index', 'pct_ret'])\n",
    "\n",
    "# fig.add_trace(go.Scatter(\n",
    "#     x=df_gp[mask]['Date'],\n",
    "#     y=df_gp[mask][pct],\n",
    "#     marker_size=10, mode='markers', name='Queda',\n",
    "#     ))\n",
    "\n",
    "fig.show()"
   ]
  },
  {
   "cell_type": "code",
   "execution_count": null,
   "id": "553b31e4",
   "metadata": {},
   "outputs": [],
   "source": [
    "df_gp"
   ]
  },
  {
   "cell_type": "code",
   "execution_count": null,
   "id": "84b58120",
   "metadata": {},
   "outputs": [],
   "source": [
    "from statsmodels.tsa.stattools import acf, pacf, adfuller\n",
    "from statsmodels.graphics.tsaplots import plot_acf\n",
    "\n",
    "lag_acf = acf(df['GSRAII Index'].dropna(), nlags=30)\n",
    "lag_pacf = pacf(df['GSRAII Index'].dropna(), nlags=30)"
   ]
  },
  {
   "cell_type": "code",
   "execution_count": null,
   "id": "fecd551a",
   "metadata": {},
   "outputs": [],
   "source": [
    "plot_acf(lag_acf)\n",
    "\n",
    "plot_acf(lag_pacf)\n",
    "\n",
    "adfuller(df_gp['gsrai_diff'].dropna())\n",
    "\n",
    "df_gp['pct_1_sem'].describe()"
   ]
  },
  {
   "cell_type": "code",
   "execution_count": null,
   "id": "ea797e9a",
   "metadata": {},
   "outputs": [],
   "source": [
    "df_gp[df_gp['gsrai_diff']<-0.3]['pct_1_sem'].describe()"
   ]
  },
  {
   "cell_type": "code",
   "execution_count": null,
   "id": "630545e5",
   "metadata": {},
   "outputs": [],
   "source": [
    "df_gp['2019:01':'2020:20']['gsrai_diff'].plot()"
   ]
  },
  {
   "cell_type": "code",
   "execution_count": null,
   "id": "17d67c91",
   "metadata": {},
   "outputs": [],
   "source": [
    "df"
   ]
  }
 ],
 "metadata": {
  "kernelspec": {
   "display_name": "Python 3",
   "language": "python",
   "name": "python3"
  },
  "language_info": {
   "codemirror_mode": {
    "name": "ipython",
    "version": 3
   },
   "file_extension": ".py",
   "mimetype": "text/x-python",
   "name": "python",
   "nbconvert_exporter": "python",
   "pygments_lexer": "ipython3",
   "version": "3.8.8"
  }
 },
 "nbformat": 4,
 "nbformat_minor": 5
}
