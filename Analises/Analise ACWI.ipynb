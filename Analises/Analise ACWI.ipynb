{
 "cells": [
  {
   "cell_type": "code",
   "execution_count": 1,
   "id": "8f69d6d0",
   "metadata": {},
   "outputs": [],
   "source": [
    "import os\n",
    "pwd_list = os.getcwd().split('\\\\')\n",
    "if pwd_list[-1] != 'RiskAI' and 'RiskAI' in pwd_list:\n",
    "    os.chdir('/'.join(pwd_list[:pwd_list.index('RiskAI')+1]))"
   ]
  },
  {
   "cell_type": "code",
   "execution_count": 2,
   "id": "6828fb75",
   "metadata": {},
   "outputs": [
    {
     "data": {
      "application/javascript": [
       "IPython.OutputArea.prototype._should_scroll = function(lines) {\n",
       "    return false;\n",
       "}\n"
      ],
      "text/plain": [
       "<IPython.core.display.Javascript object>"
      ]
     },
     "metadata": {},
     "output_type": "display_data"
    }
   ],
   "source": [
    "%%javascript\n",
    "IPython.OutputArea.prototype._should_scroll = function(lines) {\n",
    "    return false;\n",
    "}"
   ]
  },
  {
   "cell_type": "code",
   "execution_count": 3,
   "id": "1158725e",
   "metadata": {},
   "outputs": [],
   "source": [
    "import pandas as pd\n",
    "import numpy as np\n",
    "import plotly.express as px\n",
    "import plotly.graph_objects as go\n",
    "from sklearn.preprocessing import MinMaxScaler\n",
    "from preprocess import get_datas"
   ]
  },
  {
   "cell_type": "code",
   "execution_count": 73,
   "id": "62eeedc3",
   "metadata": {},
   "outputs": [],
   "source": [
    "def mapa_calor(df):\n",
    "    df_corr = df.corr()[['GSRAII Index', 'GSRAII_diff', exog]]\n",
    "    df_corr = df_corr.loc[[idx for idx in df_corr.index if \n",
    "                          idx not in ['GSRAII Index', 'GSRAII_diff', exog]]]\n",
    "    fig = px.imshow(df_corr.T, width=50*len(df_corr), height=600, color_continuous_scale='RdBu', zmin=-1, zmax=1)\n",
    "    \n",
    "    for i, col in enumerate(df_corr.columns):\n",
    "        best_corr = df_corr.iloc[np.argmax(df_corr[col].abs())]\n",
    "        print(f'MAIOR CORREL: {col} X {best_corr.name}: {best_corr[col]:.4f} ')\n",
    "\n",
    "    return fig"
   ]
  },
  {
   "cell_type": "markdown",
   "id": "30654495",
   "metadata": {},
   "source": [
    "# Carregamento dos dados\n",
    "- Dados foram colocados na mesma escala com MinMaxScaler\n",
    "- Variavel exogena foram avaliado os valores com lag, pois é a informação disponivel para a variavel target "
   ]
  },
  {
   "cell_type": "code",
   "execution_count": 52,
   "id": "a62411e8",
   "metadata": {
    "scrolled": true
   },
   "outputs": [],
   "source": [
    "scaler = MinMaxScaler()\n",
    "df = get_datas(return_df=True, scaler=scaler)"
   ]
  },
  {
   "cell_type": "code",
   "execution_count": 53,
   "id": "9c6d418a",
   "metadata": {},
   "outputs": [],
   "source": [
    "exog = 'acwi'\n",
    "df = df[['GSRAII Index', 'GSRAII_diff', 'acwi_log_diff']]\n",
    "df.rename(columns={'acwi_log_diff':exog}, inplace=True)"
   ]
  },
  {
   "cell_type": "markdown",
   "id": "22778f00",
   "metadata": {},
   "source": [
    "# Analise lag"
   ]
  },
  {
   "cell_type": "code",
   "execution_count": 68,
   "id": "a1c513ce",
   "metadata": {},
   "outputs": [],
   "source": [
    "df_lag = df.copy()\n",
    "\n",
    "for i in range(1, 11):\n",
    "    df_lag[f'{exog}_lag_{i}'] = df_lag[exog].shift(i).values"
   ]
  },
  {
   "cell_type": "code",
   "execution_count": 74,
   "id": "d501cd44",
   "metadata": {
    "scrolled": true
   },
   "outputs": [
    {
     "name": "stdout",
     "output_type": "stream",
     "text": [
      "MAIOR CORREL: GSRAII Index X acwi_lag_2: 0.2389 \n",
      "MAIOR CORREL: GSRAII_diff X acwi_lag_1: -0.1063 \n",
      "MAIOR CORREL: acwi X acwi_lag_6: 0.0752 \n"
     ]
    },
    {
     "data": {
      "application/vnd.plotly.v1+json": {
       "config": {
        "plotlyServerURL": "https://plot.ly"
       },
       "data": [
        {
         "coloraxis": "coloraxis",
         "hovertemplate": "x: %{x}<br>y: %{y}<br>color: %{z}<extra></extra>",
         "name": "0",
         "type": "heatmap",
         "x": [
          "acwi_lag_1",
          "acwi_lag_2",
          "acwi_lag_3",
          "acwi_lag_4",
          "acwi_lag_5",
          "acwi_lag_6",
          "acwi_lag_7",
          "acwi_lag_8",
          "acwi_lag_9",
          "acwi_lag_10"
         ],
         "xaxis": "x",
         "y": [
          "GSRAII Index",
          "GSRAII_diff",
          "acwi"
         ],
         "yaxis": "y",
         "z": [
          [
           0.23317947101039999,
           0.23889222542056496,
           0.20694166368213193,
           0.19838801731426375,
           0.17889738672656552,
           0.1861007300882614,
           0.17938370978707388,
           0.18257900125639778,
           0.16275037630736572,
           0.16351978639153467
          ],
          [
           -0.10632180548214464,
           0.016743789569393687,
           -0.09103839706573377,
           -0.02382347414493267,
           -0.05566272776786998,
           0.02114604450783456,
           -0.017911454368730262,
           0.010536276772780882,
           -0.0571314845120254,
           0.0046354022450936705
          ],
          [
           -0.016857490133421936,
           0.060677236751468196,
           -0.0408825199897484,
           -0.027615857563765566,
           -0.003837793566013196,
           0.07517452351085732,
           -0.05038953391997954,
           0.019335620840730653,
           -0.03134286960154811,
           -0.0014070154849437832
          ]
         ]
        }
       ],
       "layout": {
        "coloraxis": {
         "cmax": 1,
         "cmin": -1,
         "colorscale": [
          [
           0,
           "rgb(103,0,31)"
          ],
          [
           0.1,
           "rgb(178,24,43)"
          ],
          [
           0.2,
           "rgb(214,96,77)"
          ],
          [
           0.3,
           "rgb(244,165,130)"
          ],
          [
           0.4,
           "rgb(253,219,199)"
          ],
          [
           0.5,
           "rgb(247,247,247)"
          ],
          [
           0.6,
           "rgb(209,229,240)"
          ],
          [
           0.7,
           "rgb(146,197,222)"
          ],
          [
           0.8,
           "rgb(67,147,195)"
          ],
          [
           0.9,
           "rgb(33,102,172)"
          ],
          [
           1,
           "rgb(5,48,97)"
          ]
         ]
        },
        "height": 600,
        "margin": {
         "t": 60
        },
        "template": {
         "data": {
          "bar": [
           {
            "error_x": {
             "color": "#2a3f5f"
            },
            "error_y": {
             "color": "#2a3f5f"
            },
            "marker": {
             "line": {
              "color": "#E5ECF6",
              "width": 0.5
             }
            },
            "type": "bar"
           }
          ],
          "barpolar": [
           {
            "marker": {
             "line": {
              "color": "#E5ECF6",
              "width": 0.5
             }
            },
            "type": "barpolar"
           }
          ],
          "carpet": [
           {
            "aaxis": {
             "endlinecolor": "#2a3f5f",
             "gridcolor": "white",
             "linecolor": "white",
             "minorgridcolor": "white",
             "startlinecolor": "#2a3f5f"
            },
            "baxis": {
             "endlinecolor": "#2a3f5f",
             "gridcolor": "white",
             "linecolor": "white",
             "minorgridcolor": "white",
             "startlinecolor": "#2a3f5f"
            },
            "type": "carpet"
           }
          ],
          "choropleth": [
           {
            "colorbar": {
             "outlinewidth": 0,
             "ticks": ""
            },
            "type": "choropleth"
           }
          ],
          "contour": [
           {
            "colorbar": {
             "outlinewidth": 0,
             "ticks": ""
            },
            "colorscale": [
             [
              0,
              "#0d0887"
             ],
             [
              0.1111111111111111,
              "#46039f"
             ],
             [
              0.2222222222222222,
              "#7201a8"
             ],
             [
              0.3333333333333333,
              "#9c179e"
             ],
             [
              0.4444444444444444,
              "#bd3786"
             ],
             [
              0.5555555555555556,
              "#d8576b"
             ],
             [
              0.6666666666666666,
              "#ed7953"
             ],
             [
              0.7777777777777778,
              "#fb9f3a"
             ],
             [
              0.8888888888888888,
              "#fdca26"
             ],
             [
              1,
              "#f0f921"
             ]
            ],
            "type": "contour"
           }
          ],
          "contourcarpet": [
           {
            "colorbar": {
             "outlinewidth": 0,
             "ticks": ""
            },
            "type": "contourcarpet"
           }
          ],
          "heatmap": [
           {
            "colorbar": {
             "outlinewidth": 0,
             "ticks": ""
            },
            "colorscale": [
             [
              0,
              "#0d0887"
             ],
             [
              0.1111111111111111,
              "#46039f"
             ],
             [
              0.2222222222222222,
              "#7201a8"
             ],
             [
              0.3333333333333333,
              "#9c179e"
             ],
             [
              0.4444444444444444,
              "#bd3786"
             ],
             [
              0.5555555555555556,
              "#d8576b"
             ],
             [
              0.6666666666666666,
              "#ed7953"
             ],
             [
              0.7777777777777778,
              "#fb9f3a"
             ],
             [
              0.8888888888888888,
              "#fdca26"
             ],
             [
              1,
              "#f0f921"
             ]
            ],
            "type": "heatmap"
           }
          ],
          "heatmapgl": [
           {
            "colorbar": {
             "outlinewidth": 0,
             "ticks": ""
            },
            "colorscale": [
             [
              0,
              "#0d0887"
             ],
             [
              0.1111111111111111,
              "#46039f"
             ],
             [
              0.2222222222222222,
              "#7201a8"
             ],
             [
              0.3333333333333333,
              "#9c179e"
             ],
             [
              0.4444444444444444,
              "#bd3786"
             ],
             [
              0.5555555555555556,
              "#d8576b"
             ],
             [
              0.6666666666666666,
              "#ed7953"
             ],
             [
              0.7777777777777778,
              "#fb9f3a"
             ],
             [
              0.8888888888888888,
              "#fdca26"
             ],
             [
              1,
              "#f0f921"
             ]
            ],
            "type": "heatmapgl"
           }
          ],
          "histogram": [
           {
            "marker": {
             "colorbar": {
              "outlinewidth": 0,
              "ticks": ""
             }
            },
            "type": "histogram"
           }
          ],
          "histogram2d": [
           {
            "colorbar": {
             "outlinewidth": 0,
             "ticks": ""
            },
            "colorscale": [
             [
              0,
              "#0d0887"
             ],
             [
              0.1111111111111111,
              "#46039f"
             ],
             [
              0.2222222222222222,
              "#7201a8"
             ],
             [
              0.3333333333333333,
              "#9c179e"
             ],
             [
              0.4444444444444444,
              "#bd3786"
             ],
             [
              0.5555555555555556,
              "#d8576b"
             ],
             [
              0.6666666666666666,
              "#ed7953"
             ],
             [
              0.7777777777777778,
              "#fb9f3a"
             ],
             [
              0.8888888888888888,
              "#fdca26"
             ],
             [
              1,
              "#f0f921"
             ]
            ],
            "type": "histogram2d"
           }
          ],
          "histogram2dcontour": [
           {
            "colorbar": {
             "outlinewidth": 0,
             "ticks": ""
            },
            "colorscale": [
             [
              0,
              "#0d0887"
             ],
             [
              0.1111111111111111,
              "#46039f"
             ],
             [
              0.2222222222222222,
              "#7201a8"
             ],
             [
              0.3333333333333333,
              "#9c179e"
             ],
             [
              0.4444444444444444,
              "#bd3786"
             ],
             [
              0.5555555555555556,
              "#d8576b"
             ],
             [
              0.6666666666666666,
              "#ed7953"
             ],
             [
              0.7777777777777778,
              "#fb9f3a"
             ],
             [
              0.8888888888888888,
              "#fdca26"
             ],
             [
              1,
              "#f0f921"
             ]
            ],
            "type": "histogram2dcontour"
           }
          ],
          "mesh3d": [
           {
            "colorbar": {
             "outlinewidth": 0,
             "ticks": ""
            },
            "type": "mesh3d"
           }
          ],
          "parcoords": [
           {
            "line": {
             "colorbar": {
              "outlinewidth": 0,
              "ticks": ""
             }
            },
            "type": "parcoords"
           }
          ],
          "pie": [
           {
            "automargin": true,
            "type": "pie"
           }
          ],
          "scatter": [
           {
            "marker": {
             "colorbar": {
              "outlinewidth": 0,
              "ticks": ""
             }
            },
            "type": "scatter"
           }
          ],
          "scatter3d": [
           {
            "line": {
             "colorbar": {
              "outlinewidth": 0,
              "ticks": ""
             }
            },
            "marker": {
             "colorbar": {
              "outlinewidth": 0,
              "ticks": ""
             }
            },
            "type": "scatter3d"
           }
          ],
          "scattercarpet": [
           {
            "marker": {
             "colorbar": {
              "outlinewidth": 0,
              "ticks": ""
             }
            },
            "type": "scattercarpet"
           }
          ],
          "scattergeo": [
           {
            "marker": {
             "colorbar": {
              "outlinewidth": 0,
              "ticks": ""
             }
            },
            "type": "scattergeo"
           }
          ],
          "scattergl": [
           {
            "marker": {
             "colorbar": {
              "outlinewidth": 0,
              "ticks": ""
             }
            },
            "type": "scattergl"
           }
          ],
          "scattermapbox": [
           {
            "marker": {
             "colorbar": {
              "outlinewidth": 0,
              "ticks": ""
             }
            },
            "type": "scattermapbox"
           }
          ],
          "scatterpolar": [
           {
            "marker": {
             "colorbar": {
              "outlinewidth": 0,
              "ticks": ""
             }
            },
            "type": "scatterpolar"
           }
          ],
          "scatterpolargl": [
           {
            "marker": {
             "colorbar": {
              "outlinewidth": 0,
              "ticks": ""
             }
            },
            "type": "scatterpolargl"
           }
          ],
          "scatterternary": [
           {
            "marker": {
             "colorbar": {
              "outlinewidth": 0,
              "ticks": ""
             }
            },
            "type": "scatterternary"
           }
          ],
          "surface": [
           {
            "colorbar": {
             "outlinewidth": 0,
             "ticks": ""
            },
            "colorscale": [
             [
              0,
              "#0d0887"
             ],
             [
              0.1111111111111111,
              "#46039f"
             ],
             [
              0.2222222222222222,
              "#7201a8"
             ],
             [
              0.3333333333333333,
              "#9c179e"
             ],
             [
              0.4444444444444444,
              "#bd3786"
             ],
             [
              0.5555555555555556,
              "#d8576b"
             ],
             [
              0.6666666666666666,
              "#ed7953"
             ],
             [
              0.7777777777777778,
              "#fb9f3a"
             ],
             [
              0.8888888888888888,
              "#fdca26"
             ],
             [
              1,
              "#f0f921"
             ]
            ],
            "type": "surface"
           }
          ],
          "table": [
           {
            "cells": {
             "fill": {
              "color": "#EBF0F8"
             },
             "line": {
              "color": "white"
             }
            },
            "header": {
             "fill": {
              "color": "#C8D4E3"
             },
             "line": {
              "color": "white"
             }
            },
            "type": "table"
           }
          ]
         },
         "layout": {
          "annotationdefaults": {
           "arrowcolor": "#2a3f5f",
           "arrowhead": 0,
           "arrowwidth": 1
          },
          "autotypenumbers": "strict",
          "coloraxis": {
           "colorbar": {
            "outlinewidth": 0,
            "ticks": ""
           }
          },
          "colorscale": {
           "diverging": [
            [
             0,
             "#8e0152"
            ],
            [
             0.1,
             "#c51b7d"
            ],
            [
             0.2,
             "#de77ae"
            ],
            [
             0.3,
             "#f1b6da"
            ],
            [
             0.4,
             "#fde0ef"
            ],
            [
             0.5,
             "#f7f7f7"
            ],
            [
             0.6,
             "#e6f5d0"
            ],
            [
             0.7,
             "#b8e186"
            ],
            [
             0.8,
             "#7fbc41"
            ],
            [
             0.9,
             "#4d9221"
            ],
            [
             1,
             "#276419"
            ]
           ],
           "sequential": [
            [
             0,
             "#0d0887"
            ],
            [
             0.1111111111111111,
             "#46039f"
            ],
            [
             0.2222222222222222,
             "#7201a8"
            ],
            [
             0.3333333333333333,
             "#9c179e"
            ],
            [
             0.4444444444444444,
             "#bd3786"
            ],
            [
             0.5555555555555556,
             "#d8576b"
            ],
            [
             0.6666666666666666,
             "#ed7953"
            ],
            [
             0.7777777777777778,
             "#fb9f3a"
            ],
            [
             0.8888888888888888,
             "#fdca26"
            ],
            [
             1,
             "#f0f921"
            ]
           ],
           "sequentialminus": [
            [
             0,
             "#0d0887"
            ],
            [
             0.1111111111111111,
             "#46039f"
            ],
            [
             0.2222222222222222,
             "#7201a8"
            ],
            [
             0.3333333333333333,
             "#9c179e"
            ],
            [
             0.4444444444444444,
             "#bd3786"
            ],
            [
             0.5555555555555556,
             "#d8576b"
            ],
            [
             0.6666666666666666,
             "#ed7953"
            ],
            [
             0.7777777777777778,
             "#fb9f3a"
            ],
            [
             0.8888888888888888,
             "#fdca26"
            ],
            [
             1,
             "#f0f921"
            ]
           ]
          },
          "colorway": [
           "#636efa",
           "#EF553B",
           "#00cc96",
           "#ab63fa",
           "#FFA15A",
           "#19d3f3",
           "#FF6692",
           "#B6E880",
           "#FF97FF",
           "#FECB52"
          ],
          "font": {
           "color": "#2a3f5f"
          },
          "geo": {
           "bgcolor": "white",
           "lakecolor": "white",
           "landcolor": "#E5ECF6",
           "showlakes": true,
           "showland": true,
           "subunitcolor": "white"
          },
          "hoverlabel": {
           "align": "left"
          },
          "hovermode": "closest",
          "mapbox": {
           "style": "light"
          },
          "paper_bgcolor": "white",
          "plot_bgcolor": "#E5ECF6",
          "polar": {
           "angularaxis": {
            "gridcolor": "white",
            "linecolor": "white",
            "ticks": ""
           },
           "bgcolor": "#E5ECF6",
           "radialaxis": {
            "gridcolor": "white",
            "linecolor": "white",
            "ticks": ""
           }
          },
          "scene": {
           "xaxis": {
            "backgroundcolor": "#E5ECF6",
            "gridcolor": "white",
            "gridwidth": 2,
            "linecolor": "white",
            "showbackground": true,
            "ticks": "",
            "zerolinecolor": "white"
           },
           "yaxis": {
            "backgroundcolor": "#E5ECF6",
            "gridcolor": "white",
            "gridwidth": 2,
            "linecolor": "white",
            "showbackground": true,
            "ticks": "",
            "zerolinecolor": "white"
           },
           "zaxis": {
            "backgroundcolor": "#E5ECF6",
            "gridcolor": "white",
            "gridwidth": 2,
            "linecolor": "white",
            "showbackground": true,
            "ticks": "",
            "zerolinecolor": "white"
           }
          },
          "shapedefaults": {
           "line": {
            "color": "#2a3f5f"
           }
          },
          "ternary": {
           "aaxis": {
            "gridcolor": "white",
            "linecolor": "white",
            "ticks": ""
           },
           "baxis": {
            "gridcolor": "white",
            "linecolor": "white",
            "ticks": ""
           },
           "bgcolor": "#E5ECF6",
           "caxis": {
            "gridcolor": "white",
            "linecolor": "white",
            "ticks": ""
           }
          },
          "title": {
           "x": 0.05
          },
          "xaxis": {
           "automargin": true,
           "gridcolor": "white",
           "linecolor": "white",
           "ticks": "",
           "title": {
            "standoff": 15
           },
           "zerolinecolor": "white",
           "zerolinewidth": 2
          },
          "yaxis": {
           "automargin": true,
           "gridcolor": "white",
           "linecolor": "white",
           "ticks": "",
           "title": {
            "standoff": 15
           },
           "zerolinecolor": "white",
           "zerolinewidth": 2
          }
         }
        },
        "width": 500,
        "xaxis": {
         "anchor": "y",
         "constrain": "domain",
         "domain": [
          0,
          1
         ],
         "scaleanchor": "y"
        },
        "yaxis": {
         "anchor": "x",
         "autorange": "reversed",
         "constrain": "domain",
         "domain": [
          0,
          1
         ]
        }
       }
      },
      "text/html": [
       "<div>                            <div id=\"d23a5f40-bd84-4fcb-bf7e-bbc77bc5df3d\" class=\"plotly-graph-div\" style=\"height:600px; width:500px;\"></div>            <script type=\"text/javascript\">                require([\"plotly\"], function(Plotly) {                    window.PLOTLYENV=window.PLOTLYENV || {};                                    if (document.getElementById(\"d23a5f40-bd84-4fcb-bf7e-bbc77bc5df3d\")) {                    Plotly.newPlot(                        \"d23a5f40-bd84-4fcb-bf7e-bbc77bc5df3d\",                        [{\"coloraxis\": \"coloraxis\", \"hovertemplate\": \"x: %{x}<br>y: %{y}<br>color: %{z}<extra></extra>\", \"name\": \"0\", \"type\": \"heatmap\", \"x\": [\"acwi_lag_1\", \"acwi_lag_2\", \"acwi_lag_3\", \"acwi_lag_4\", \"acwi_lag_5\", \"acwi_lag_6\", \"acwi_lag_7\", \"acwi_lag_8\", \"acwi_lag_9\", \"acwi_lag_10\"], \"xaxis\": \"x\", \"y\": [\"GSRAII Index\", \"GSRAII_diff\", \"acwi\"], \"yaxis\": \"y\", \"z\": [[0.23317947101039999, 0.23889222542056496, 0.20694166368213193, 0.19838801731426375, 0.17889738672656552, 0.1861007300882614, 0.17938370978707388, 0.18257900125639778, 0.16275037630736572, 0.16351978639153467], [-0.10632180548214464, 0.016743789569393687, -0.09103839706573377, -0.02382347414493267, -0.05566272776786998, 0.02114604450783456, -0.017911454368730262, 0.010536276772780882, -0.0571314845120254, 0.0046354022450936705], [-0.016857490133421936, 0.060677236751468196, -0.0408825199897484, -0.027615857563765566, -0.003837793566013196, 0.07517452351085732, -0.05038953391997954, 0.019335620840730653, -0.03134286960154811, -0.0014070154849437832]]}],                        {\"coloraxis\": {\"cmax\": 1, \"cmin\": -1, \"colorscale\": [[0.0, \"rgb(103,0,31)\"], [0.1, \"rgb(178,24,43)\"], [0.2, \"rgb(214,96,77)\"], [0.3, \"rgb(244,165,130)\"], [0.4, \"rgb(253,219,199)\"], [0.5, \"rgb(247,247,247)\"], [0.6, \"rgb(209,229,240)\"], [0.7, \"rgb(146,197,222)\"], [0.8, \"rgb(67,147,195)\"], [0.9, \"rgb(33,102,172)\"], [1.0, \"rgb(5,48,97)\"]]}, \"height\": 600, \"margin\": {\"t\": 60}, \"template\": {\"data\": {\"bar\": [{\"error_x\": {\"color\": \"#2a3f5f\"}, \"error_y\": {\"color\": \"#2a3f5f\"}, \"marker\": {\"line\": {\"color\": \"#E5ECF6\", \"width\": 0.5}}, \"type\": \"bar\"}], \"barpolar\": [{\"marker\": {\"line\": {\"color\": \"#E5ECF6\", \"width\": 0.5}}, \"type\": \"barpolar\"}], \"carpet\": [{\"aaxis\": {\"endlinecolor\": \"#2a3f5f\", \"gridcolor\": \"white\", \"linecolor\": \"white\", \"minorgridcolor\": \"white\", \"startlinecolor\": \"#2a3f5f\"}, \"baxis\": {\"endlinecolor\": \"#2a3f5f\", \"gridcolor\": \"white\", \"linecolor\": \"white\", \"minorgridcolor\": \"white\", \"startlinecolor\": \"#2a3f5f\"}, \"type\": \"carpet\"}], \"choropleth\": [{\"colorbar\": {\"outlinewidth\": 0, \"ticks\": \"\"}, \"type\": \"choropleth\"}], \"contour\": [{\"colorbar\": {\"outlinewidth\": 0, \"ticks\": \"\"}, \"colorscale\": [[0.0, \"#0d0887\"], [0.1111111111111111, \"#46039f\"], [0.2222222222222222, \"#7201a8\"], [0.3333333333333333, \"#9c179e\"], [0.4444444444444444, \"#bd3786\"], [0.5555555555555556, \"#d8576b\"], [0.6666666666666666, \"#ed7953\"], [0.7777777777777778, \"#fb9f3a\"], [0.8888888888888888, \"#fdca26\"], [1.0, \"#f0f921\"]], \"type\": \"contour\"}], \"contourcarpet\": [{\"colorbar\": {\"outlinewidth\": 0, \"ticks\": \"\"}, \"type\": \"contourcarpet\"}], \"heatmap\": [{\"colorbar\": {\"outlinewidth\": 0, \"ticks\": \"\"}, \"colorscale\": [[0.0, \"#0d0887\"], [0.1111111111111111, \"#46039f\"], [0.2222222222222222, \"#7201a8\"], [0.3333333333333333, \"#9c179e\"], [0.4444444444444444, \"#bd3786\"], [0.5555555555555556, \"#d8576b\"], [0.6666666666666666, \"#ed7953\"], [0.7777777777777778, \"#fb9f3a\"], [0.8888888888888888, \"#fdca26\"], [1.0, \"#f0f921\"]], \"type\": \"heatmap\"}], \"heatmapgl\": [{\"colorbar\": {\"outlinewidth\": 0, \"ticks\": \"\"}, \"colorscale\": [[0.0, \"#0d0887\"], [0.1111111111111111, \"#46039f\"], [0.2222222222222222, \"#7201a8\"], [0.3333333333333333, \"#9c179e\"], [0.4444444444444444, \"#bd3786\"], [0.5555555555555556, \"#d8576b\"], [0.6666666666666666, \"#ed7953\"], [0.7777777777777778, \"#fb9f3a\"], [0.8888888888888888, \"#fdca26\"], [1.0, \"#f0f921\"]], \"type\": \"heatmapgl\"}], \"histogram\": [{\"marker\": {\"colorbar\": {\"outlinewidth\": 0, \"ticks\": \"\"}}, \"type\": \"histogram\"}], \"histogram2d\": [{\"colorbar\": {\"outlinewidth\": 0, \"ticks\": \"\"}, \"colorscale\": [[0.0, \"#0d0887\"], [0.1111111111111111, \"#46039f\"], [0.2222222222222222, \"#7201a8\"], [0.3333333333333333, \"#9c179e\"], [0.4444444444444444, \"#bd3786\"], [0.5555555555555556, \"#d8576b\"], [0.6666666666666666, \"#ed7953\"], [0.7777777777777778, \"#fb9f3a\"], [0.8888888888888888, \"#fdca26\"], [1.0, \"#f0f921\"]], \"type\": \"histogram2d\"}], \"histogram2dcontour\": [{\"colorbar\": {\"outlinewidth\": 0, \"ticks\": \"\"}, \"colorscale\": [[0.0, \"#0d0887\"], [0.1111111111111111, \"#46039f\"], [0.2222222222222222, \"#7201a8\"], [0.3333333333333333, \"#9c179e\"], [0.4444444444444444, \"#bd3786\"], [0.5555555555555556, \"#d8576b\"], [0.6666666666666666, \"#ed7953\"], [0.7777777777777778, \"#fb9f3a\"], [0.8888888888888888, \"#fdca26\"], [1.0, \"#f0f921\"]], \"type\": \"histogram2dcontour\"}], \"mesh3d\": [{\"colorbar\": {\"outlinewidth\": 0, \"ticks\": \"\"}, \"type\": \"mesh3d\"}], \"parcoords\": [{\"line\": {\"colorbar\": {\"outlinewidth\": 0, \"ticks\": \"\"}}, \"type\": \"parcoords\"}], \"pie\": [{\"automargin\": true, \"type\": \"pie\"}], \"scatter\": [{\"marker\": {\"colorbar\": {\"outlinewidth\": 0, \"ticks\": \"\"}}, \"type\": \"scatter\"}], \"scatter3d\": [{\"line\": {\"colorbar\": {\"outlinewidth\": 0, \"ticks\": \"\"}}, \"marker\": {\"colorbar\": {\"outlinewidth\": 0, \"ticks\": \"\"}}, \"type\": \"scatter3d\"}], \"scattercarpet\": [{\"marker\": {\"colorbar\": {\"outlinewidth\": 0, \"ticks\": \"\"}}, \"type\": \"scattercarpet\"}], \"scattergeo\": [{\"marker\": {\"colorbar\": {\"outlinewidth\": 0, \"ticks\": \"\"}}, \"type\": \"scattergeo\"}], \"scattergl\": [{\"marker\": {\"colorbar\": {\"outlinewidth\": 0, \"ticks\": \"\"}}, \"type\": \"scattergl\"}], \"scattermapbox\": [{\"marker\": {\"colorbar\": {\"outlinewidth\": 0, \"ticks\": \"\"}}, \"type\": \"scattermapbox\"}], \"scatterpolar\": [{\"marker\": {\"colorbar\": {\"outlinewidth\": 0, \"ticks\": \"\"}}, \"type\": \"scatterpolar\"}], \"scatterpolargl\": [{\"marker\": {\"colorbar\": {\"outlinewidth\": 0, \"ticks\": \"\"}}, \"type\": \"scatterpolargl\"}], \"scatterternary\": [{\"marker\": {\"colorbar\": {\"outlinewidth\": 0, \"ticks\": \"\"}}, \"type\": \"scatterternary\"}], \"surface\": [{\"colorbar\": {\"outlinewidth\": 0, \"ticks\": \"\"}, \"colorscale\": [[0.0, \"#0d0887\"], [0.1111111111111111, \"#46039f\"], [0.2222222222222222, \"#7201a8\"], [0.3333333333333333, \"#9c179e\"], [0.4444444444444444, \"#bd3786\"], [0.5555555555555556, \"#d8576b\"], [0.6666666666666666, \"#ed7953\"], [0.7777777777777778, \"#fb9f3a\"], [0.8888888888888888, \"#fdca26\"], [1.0, \"#f0f921\"]], \"type\": \"surface\"}], \"table\": [{\"cells\": {\"fill\": {\"color\": \"#EBF0F8\"}, \"line\": {\"color\": \"white\"}}, \"header\": {\"fill\": {\"color\": \"#C8D4E3\"}, \"line\": {\"color\": \"white\"}}, \"type\": \"table\"}]}, \"layout\": {\"annotationdefaults\": {\"arrowcolor\": \"#2a3f5f\", \"arrowhead\": 0, \"arrowwidth\": 1}, \"autotypenumbers\": \"strict\", \"coloraxis\": {\"colorbar\": {\"outlinewidth\": 0, \"ticks\": \"\"}}, \"colorscale\": {\"diverging\": [[0, \"#8e0152\"], [0.1, \"#c51b7d\"], [0.2, \"#de77ae\"], [0.3, \"#f1b6da\"], [0.4, \"#fde0ef\"], [0.5, \"#f7f7f7\"], [0.6, \"#e6f5d0\"], [0.7, \"#b8e186\"], [0.8, \"#7fbc41\"], [0.9, \"#4d9221\"], [1, \"#276419\"]], \"sequential\": [[0.0, \"#0d0887\"], [0.1111111111111111, \"#46039f\"], [0.2222222222222222, \"#7201a8\"], [0.3333333333333333, \"#9c179e\"], [0.4444444444444444, \"#bd3786\"], [0.5555555555555556, \"#d8576b\"], [0.6666666666666666, \"#ed7953\"], [0.7777777777777778, \"#fb9f3a\"], [0.8888888888888888, \"#fdca26\"], [1.0, \"#f0f921\"]], \"sequentialminus\": [[0.0, \"#0d0887\"], [0.1111111111111111, \"#46039f\"], [0.2222222222222222, \"#7201a8\"], [0.3333333333333333, \"#9c179e\"], [0.4444444444444444, \"#bd3786\"], [0.5555555555555556, \"#d8576b\"], [0.6666666666666666, \"#ed7953\"], [0.7777777777777778, \"#fb9f3a\"], [0.8888888888888888, \"#fdca26\"], [1.0, \"#f0f921\"]]}, \"colorway\": [\"#636efa\", \"#EF553B\", \"#00cc96\", \"#ab63fa\", \"#FFA15A\", \"#19d3f3\", \"#FF6692\", \"#B6E880\", \"#FF97FF\", \"#FECB52\"], \"font\": {\"color\": \"#2a3f5f\"}, \"geo\": {\"bgcolor\": \"white\", \"lakecolor\": \"white\", \"landcolor\": \"#E5ECF6\", \"showlakes\": true, \"showland\": true, \"subunitcolor\": \"white\"}, \"hoverlabel\": {\"align\": \"left\"}, \"hovermode\": \"closest\", \"mapbox\": {\"style\": \"light\"}, \"paper_bgcolor\": \"white\", \"plot_bgcolor\": \"#E5ECF6\", \"polar\": {\"angularaxis\": {\"gridcolor\": \"white\", \"linecolor\": \"white\", \"ticks\": \"\"}, \"bgcolor\": \"#E5ECF6\", \"radialaxis\": {\"gridcolor\": \"white\", \"linecolor\": \"white\", \"ticks\": \"\"}}, \"scene\": {\"xaxis\": {\"backgroundcolor\": \"#E5ECF6\", \"gridcolor\": \"white\", \"gridwidth\": 2, \"linecolor\": \"white\", \"showbackground\": true, \"ticks\": \"\", \"zerolinecolor\": \"white\"}, \"yaxis\": {\"backgroundcolor\": \"#E5ECF6\", \"gridcolor\": \"white\", \"gridwidth\": 2, \"linecolor\": \"white\", \"showbackground\": true, \"ticks\": \"\", \"zerolinecolor\": \"white\"}, \"zaxis\": {\"backgroundcolor\": \"#E5ECF6\", \"gridcolor\": \"white\", \"gridwidth\": 2, \"linecolor\": \"white\", \"showbackground\": true, \"ticks\": \"\", \"zerolinecolor\": \"white\"}}, \"shapedefaults\": {\"line\": {\"color\": \"#2a3f5f\"}}, \"ternary\": {\"aaxis\": {\"gridcolor\": \"white\", \"linecolor\": \"white\", \"ticks\": \"\"}, \"baxis\": {\"gridcolor\": \"white\", \"linecolor\": \"white\", \"ticks\": \"\"}, \"bgcolor\": \"#E5ECF6\", \"caxis\": {\"gridcolor\": \"white\", \"linecolor\": \"white\", \"ticks\": \"\"}}, \"title\": {\"x\": 0.05}, \"xaxis\": {\"automargin\": true, \"gridcolor\": \"white\", \"linecolor\": \"white\", \"ticks\": \"\", \"title\": {\"standoff\": 15}, \"zerolinecolor\": \"white\", \"zerolinewidth\": 2}, \"yaxis\": {\"automargin\": true, \"gridcolor\": \"white\", \"linecolor\": \"white\", \"ticks\": \"\", \"title\": {\"standoff\": 15}, \"zerolinecolor\": \"white\", \"zerolinewidth\": 2}}}, \"width\": 500, \"xaxis\": {\"anchor\": \"y\", \"constrain\": \"domain\", \"domain\": [0.0, 1.0], \"scaleanchor\": \"y\"}, \"yaxis\": {\"anchor\": \"x\", \"autorange\": \"reversed\", \"constrain\": \"domain\", \"domain\": [0.0, 1.0]}},                        {\"responsive\": true}                    ).then(function(){\n",
       "                            \n",
       "var gd = document.getElementById('d23a5f40-bd84-4fcb-bf7e-bbc77bc5df3d');\n",
       "var x = new MutationObserver(function (mutations, observer) {{\n",
       "        var display = window.getComputedStyle(gd).display;\n",
       "        if (!display || display === 'none') {{\n",
       "            console.log([gd, 'removed!']);\n",
       "            Plotly.purge(gd);\n",
       "            observer.disconnect();\n",
       "        }}\n",
       "}});\n",
       "\n",
       "// Listen for the removal of the full notebook cells\n",
       "var notebookContainer = gd.closest('#notebook-container');\n",
       "if (notebookContainer) {{\n",
       "    x.observe(notebookContainer, {childList: true});\n",
       "}}\n",
       "\n",
       "// Listen for the clearing of the current output cell\n",
       "var outputEl = gd.closest('.output');\n",
       "if (outputEl) {{\n",
       "    x.observe(outputEl, {childList: true});\n",
       "}}\n",
       "\n",
       "                        })                };                });            </script>        </div>"
      ]
     },
     "metadata": {},
     "output_type": "display_data"
    }
   ],
   "source": [
    "mapa_calor(df_lag)"
   ]
  },
  {
   "cell_type": "markdown",
   "id": "f7e926fd",
   "metadata": {},
   "source": [
    "# Analise Médias Móveis"
   ]
  },
  {
   "cell_type": "code",
   "execution_count": 56,
   "id": "82999fcf",
   "metadata": {},
   "outputs": [
    {
     "data": {
      "text/plain": [
       "True"
      ]
     },
     "execution_count": 56,
     "metadata": {},
     "output_type": "execute_result"
    }
   ],
   "source": [
    "'lag' in 'lag_ioi'"
   ]
  },
  {
   "cell_type": "code",
   "execution_count": 65,
   "id": "33166f15",
   "metadata": {},
   "outputs": [],
   "source": [
    "df_medmov = df_lag.copy()\n",
    "cols_lag = [col for col in df_medmov.columns if 'lag' in col]\n",
    "\n",
    "for lag in cols_lag:\n",
    "    for i in range(2, 30):\n",
    "        df_medmov[f'{lag}_medmov_{i}'] = df_medmov[f'{lag}'].rolling(i).mean()"
   ]
  },
  {
   "cell_type": "code",
   "execution_count": 75,
   "id": "395239eb",
   "metadata": {},
   "outputs": [
    {
     "name": "stdout",
     "output_type": "stream",
     "text": [
      "MAIOR CORREL: GSRAII Index X acwi_lag_1_medmov_20: 0.7010 \n",
      "MAIOR CORREL: GSRAII_diff X acwi_lag_1_medmov_19: -0.1158 \n",
      "MAIOR CORREL: acwi X acwi_lag_10_medmov_13: 0.0508 \n"
     ]
    },
    {
     "data": {
      "application/vnd.plotly.v1+json": {
       "config": {
        "plotlyServerURL": "https://plot.ly"
       },
       "data": [
        {
         "coloraxis": "coloraxis",
         "hovertemplate": "x: %{x}<br>y: %{y}<br>color: %{z}<extra></extra>",
         "name": "0",
         "type": "heatmap",
         "x": [
          "acwi_lag_1_medmov_2",
          "acwi_lag_1_medmov_3",
          "acwi_lag_1_medmov_4",
          "acwi_lag_1_medmov_5",
          "acwi_lag_1_medmov_6",
          "acwi_lag_1_medmov_7",
          "acwi_lag_1_medmov_8",
          "acwi_lag_1_medmov_9",
          "acwi_lag_1_medmov_10",
          "acwi_lag_1_medmov_11",
          "acwi_lag_1_medmov_12",
          "acwi_lag_1_medmov_13",
          "acwi_lag_1_medmov_14",
          "acwi_lag_1_medmov_15",
          "acwi_lag_1_medmov_16",
          "acwi_lag_1_medmov_17",
          "acwi_lag_1_medmov_18",
          "acwi_lag_1_medmov_19",
          "acwi_lag_1_medmov_20",
          "acwi_lag_1_medmov_21",
          "acwi_lag_1_medmov_22",
          "acwi_lag_1_medmov_23",
          "acwi_lag_1_medmov_24",
          "acwi_lag_1_medmov_25",
          "acwi_lag_1_medmov_26",
          "acwi_lag_1_medmov_27",
          "acwi_lag_1_medmov_28",
          "acwi_lag_1_medmov_29",
          "acwi_lag_2_medmov_2",
          "acwi_lag_2_medmov_3",
          "acwi_lag_2_medmov_4",
          "acwi_lag_2_medmov_5",
          "acwi_lag_2_medmov_6",
          "acwi_lag_2_medmov_7",
          "acwi_lag_2_medmov_8",
          "acwi_lag_2_medmov_9",
          "acwi_lag_2_medmov_10",
          "acwi_lag_2_medmov_11",
          "acwi_lag_2_medmov_12",
          "acwi_lag_2_medmov_13",
          "acwi_lag_2_medmov_14",
          "acwi_lag_2_medmov_15",
          "acwi_lag_2_medmov_16",
          "acwi_lag_2_medmov_17",
          "acwi_lag_2_medmov_18",
          "acwi_lag_2_medmov_19",
          "acwi_lag_2_medmov_20",
          "acwi_lag_2_medmov_21",
          "acwi_lag_2_medmov_22",
          "acwi_lag_2_medmov_23",
          "acwi_lag_2_medmov_24",
          "acwi_lag_2_medmov_25",
          "acwi_lag_2_medmov_26",
          "acwi_lag_2_medmov_27",
          "acwi_lag_2_medmov_28",
          "acwi_lag_2_medmov_29",
          "acwi_lag_3_medmov_2",
          "acwi_lag_3_medmov_3",
          "acwi_lag_3_medmov_4",
          "acwi_lag_3_medmov_5",
          "acwi_lag_3_medmov_6",
          "acwi_lag_3_medmov_7",
          "acwi_lag_3_medmov_8",
          "acwi_lag_3_medmov_9",
          "acwi_lag_3_medmov_10",
          "acwi_lag_3_medmov_11",
          "acwi_lag_3_medmov_12",
          "acwi_lag_3_medmov_13",
          "acwi_lag_3_medmov_14",
          "acwi_lag_3_medmov_15",
          "acwi_lag_3_medmov_16",
          "acwi_lag_3_medmov_17",
          "acwi_lag_3_medmov_18",
          "acwi_lag_3_medmov_19",
          "acwi_lag_3_medmov_20",
          "acwi_lag_3_medmov_21",
          "acwi_lag_3_medmov_22",
          "acwi_lag_3_medmov_23",
          "acwi_lag_3_medmov_24",
          "acwi_lag_3_medmov_25",
          "acwi_lag_3_medmov_26",
          "acwi_lag_3_medmov_27",
          "acwi_lag_3_medmov_28",
          "acwi_lag_3_medmov_29",
          "acwi_lag_4_medmov_2",
          "acwi_lag_4_medmov_3",
          "acwi_lag_4_medmov_4",
          "acwi_lag_4_medmov_5",
          "acwi_lag_4_medmov_6",
          "acwi_lag_4_medmov_7",
          "acwi_lag_4_medmov_8",
          "acwi_lag_4_medmov_9",
          "acwi_lag_4_medmov_10",
          "acwi_lag_4_medmov_11",
          "acwi_lag_4_medmov_12",
          "acwi_lag_4_medmov_13",
          "acwi_lag_4_medmov_14",
          "acwi_lag_4_medmov_15",
          "acwi_lag_4_medmov_16",
          "acwi_lag_4_medmov_17",
          "acwi_lag_4_medmov_18",
          "acwi_lag_4_medmov_19",
          "acwi_lag_4_medmov_20",
          "acwi_lag_4_medmov_21",
          "acwi_lag_4_medmov_22",
          "acwi_lag_4_medmov_23",
          "acwi_lag_4_medmov_24",
          "acwi_lag_4_medmov_25",
          "acwi_lag_4_medmov_26",
          "acwi_lag_4_medmov_27",
          "acwi_lag_4_medmov_28",
          "acwi_lag_4_medmov_29",
          "acwi_lag_5_medmov_2",
          "acwi_lag_5_medmov_3",
          "acwi_lag_5_medmov_4",
          "acwi_lag_5_medmov_5",
          "acwi_lag_5_medmov_6",
          "acwi_lag_5_medmov_7",
          "acwi_lag_5_medmov_8",
          "acwi_lag_5_medmov_9",
          "acwi_lag_5_medmov_10",
          "acwi_lag_5_medmov_11",
          "acwi_lag_5_medmov_12",
          "acwi_lag_5_medmov_13",
          "acwi_lag_5_medmov_14",
          "acwi_lag_5_medmov_15",
          "acwi_lag_5_medmov_16",
          "acwi_lag_5_medmov_17",
          "acwi_lag_5_medmov_18",
          "acwi_lag_5_medmov_19",
          "acwi_lag_5_medmov_20",
          "acwi_lag_5_medmov_21",
          "acwi_lag_5_medmov_22",
          "acwi_lag_5_medmov_23",
          "acwi_lag_5_medmov_24",
          "acwi_lag_5_medmov_25",
          "acwi_lag_5_medmov_26",
          "acwi_lag_5_medmov_27",
          "acwi_lag_5_medmov_28",
          "acwi_lag_5_medmov_29",
          "acwi_lag_6_medmov_2",
          "acwi_lag_6_medmov_3",
          "acwi_lag_6_medmov_4",
          "acwi_lag_6_medmov_5",
          "acwi_lag_6_medmov_6",
          "acwi_lag_6_medmov_7",
          "acwi_lag_6_medmov_8",
          "acwi_lag_6_medmov_9",
          "acwi_lag_6_medmov_10",
          "acwi_lag_6_medmov_11",
          "acwi_lag_6_medmov_12",
          "acwi_lag_6_medmov_13",
          "acwi_lag_6_medmov_14",
          "acwi_lag_6_medmov_15",
          "acwi_lag_6_medmov_16",
          "acwi_lag_6_medmov_17",
          "acwi_lag_6_medmov_18",
          "acwi_lag_6_medmov_19",
          "acwi_lag_6_medmov_20",
          "acwi_lag_6_medmov_21",
          "acwi_lag_6_medmov_22",
          "acwi_lag_6_medmov_23",
          "acwi_lag_6_medmov_24",
          "acwi_lag_6_medmov_25",
          "acwi_lag_6_medmov_26",
          "acwi_lag_6_medmov_27",
          "acwi_lag_6_medmov_28",
          "acwi_lag_6_medmov_29",
          "acwi_lag_7_medmov_2",
          "acwi_lag_7_medmov_3",
          "acwi_lag_7_medmov_4",
          "acwi_lag_7_medmov_5",
          "acwi_lag_7_medmov_6",
          "acwi_lag_7_medmov_7",
          "acwi_lag_7_medmov_8",
          "acwi_lag_7_medmov_9",
          "acwi_lag_7_medmov_10",
          "acwi_lag_7_medmov_11",
          "acwi_lag_7_medmov_12",
          "acwi_lag_7_medmov_13",
          "acwi_lag_7_medmov_14",
          "acwi_lag_7_medmov_15",
          "acwi_lag_7_medmov_16",
          "acwi_lag_7_medmov_17",
          "acwi_lag_7_medmov_18",
          "acwi_lag_7_medmov_19",
          "acwi_lag_7_medmov_20",
          "acwi_lag_7_medmov_21",
          "acwi_lag_7_medmov_22",
          "acwi_lag_7_medmov_23",
          "acwi_lag_7_medmov_24",
          "acwi_lag_7_medmov_25",
          "acwi_lag_7_medmov_26",
          "acwi_lag_7_medmov_27",
          "acwi_lag_7_medmov_28",
          "acwi_lag_7_medmov_29",
          "acwi_lag_8_medmov_2",
          "acwi_lag_8_medmov_3",
          "acwi_lag_8_medmov_4",
          "acwi_lag_8_medmov_5",
          "acwi_lag_8_medmov_6",
          "acwi_lag_8_medmov_7",
          "acwi_lag_8_medmov_8",
          "acwi_lag_8_medmov_9",
          "acwi_lag_8_medmov_10",
          "acwi_lag_8_medmov_11",
          "acwi_lag_8_medmov_12",
          "acwi_lag_8_medmov_13",
          "acwi_lag_8_medmov_14",
          "acwi_lag_8_medmov_15",
          "acwi_lag_8_medmov_16",
          "acwi_lag_8_medmov_17",
          "acwi_lag_8_medmov_18",
          "acwi_lag_8_medmov_19",
          "acwi_lag_8_medmov_20",
          "acwi_lag_8_medmov_21",
          "acwi_lag_8_medmov_22",
          "acwi_lag_8_medmov_23",
          "acwi_lag_8_medmov_24",
          "acwi_lag_8_medmov_25",
          "acwi_lag_8_medmov_26",
          "acwi_lag_8_medmov_27",
          "acwi_lag_8_medmov_28",
          "acwi_lag_8_medmov_29",
          "acwi_lag_9_medmov_2",
          "acwi_lag_9_medmov_3",
          "acwi_lag_9_medmov_4",
          "acwi_lag_9_medmov_5",
          "acwi_lag_9_medmov_6",
          "acwi_lag_9_medmov_7",
          "acwi_lag_9_medmov_8",
          "acwi_lag_9_medmov_9",
          "acwi_lag_9_medmov_10",
          "acwi_lag_9_medmov_11",
          "acwi_lag_9_medmov_12",
          "acwi_lag_9_medmov_13",
          "acwi_lag_9_medmov_14",
          "acwi_lag_9_medmov_15",
          "acwi_lag_9_medmov_16",
          "acwi_lag_9_medmov_17",
          "acwi_lag_9_medmov_18",
          "acwi_lag_9_medmov_19",
          "acwi_lag_9_medmov_20",
          "acwi_lag_9_medmov_21",
          "acwi_lag_9_medmov_22",
          "acwi_lag_9_medmov_23",
          "acwi_lag_9_medmov_24",
          "acwi_lag_9_medmov_25",
          "acwi_lag_9_medmov_26",
          "acwi_lag_9_medmov_27",
          "acwi_lag_9_medmov_28",
          "acwi_lag_9_medmov_29",
          "acwi_lag_10_medmov_2",
          "acwi_lag_10_medmov_3",
          "acwi_lag_10_medmov_4",
          "acwi_lag_10_medmov_5",
          "acwi_lag_10_medmov_6",
          "acwi_lag_10_medmov_7",
          "acwi_lag_10_medmov_8",
          "acwi_lag_10_medmov_9",
          "acwi_lag_10_medmov_10",
          "acwi_lag_10_medmov_11",
          "acwi_lag_10_medmov_12",
          "acwi_lag_10_medmov_13",
          "acwi_lag_10_medmov_14",
          "acwi_lag_10_medmov_15",
          "acwi_lag_10_medmov_16",
          "acwi_lag_10_medmov_17",
          "acwi_lag_10_medmov_18",
          "acwi_lag_10_medmov_19",
          "acwi_lag_10_medmov_20",
          "acwi_lag_10_medmov_21",
          "acwi_lag_10_medmov_22",
          "acwi_lag_10_medmov_23",
          "acwi_lag_10_medmov_24",
          "acwi_lag_10_medmov_25",
          "acwi_lag_10_medmov_26",
          "acwi_lag_10_medmov_27",
          "acwi_lag_10_medmov_28",
          "acwi_lag_10_medmov_29"
         ],
         "xaxis": "x",
         "y": [
          "GSRAII Index",
          "GSRAII_diff",
          "acwi"
         ],
         "yaxis": "y",
         "z": [
          [
           0.3367938297439208,
           0.3887282523954507,
           0.4364296598192503,
           0.4728774530691485,
           0.5100857456771287,
           0.5365121708009507,
           0.5666947659827559,
           0.5875392831339716,
           0.6101083636676486,
           0.624892576002611,
           0.6373665754771455,
           0.6516526727068241,
           0.6693421183654994,
           0.6806672876875857,
           0.69097320699473,
           0.6976060403766347,
           0.7007735089289656,
           0.6999981987696602,
           0.7009712746326737,
           0.6993699485980168,
           0.6998828799675275,
           0.6986515710074452,
           0.6981307138604141,
           0.694374407464706,
           0.6936677438315483,
           0.6890994224908207,
           0.6837225757682216,
           0.6770343864959623,
           0.31802471116877196,
           0.3688979763302499,
           0.4092806252593977,
           0.451618552673387,
           0.48781944006942585,
           0.5172396182576942,
           0.5416584857326916,
           0.5642509355989939,
           0.5805071986699357,
           0.5940882231912845,
           0.608447845934718,
           0.6269191716700295,
           0.6423276766162992,
           0.6547378344829498,
           0.6643855706918632,
           0.6681134520897561,
           0.6671014894531193,
           0.6681132586696302,
           0.6676736310630121,
           0.6686864433817246,
           0.6698269554776326,
           0.6694021161279681,
           0.6662120887627874,
           0.6645540021952843,
           0.6607483573304014,
           0.6549130512264376,
           0.6480945185139443,
           0.6439563658979608,
           0.28926423776249516,
           0.33458163013165226,
           0.3829601180005408,
           0.42488198696935636,
           0.46460231188683604,
           0.4884367037509509,
           0.5149630323114368,
           0.5312595517094397,
           0.5464980938401968,
           0.5622743134655948,
           0.5811743625279931,
           0.5974560400150085,
           0.6139679258916263,
           0.6257867343970503,
           0.6324744793954723,
           0.6319553503353343,
           0.6329286210734948,
           0.6325848830658938,
           0.634883139949179,
           0.6366043271584522,
           0.6385089598462814,
           0.6353731236279457,
           0.6343916414909203,
           0.6296804793243007,
           0.6246369341882434,
           0.6173924140015894,
           0.6132288630425206,
           0.6068599212960921,
           0.26918298844092137,
           0.32255631733025963,
           0.3690249885879246,
           0.4137625061715743,
           0.44627365893982474,
           0.47178989617130007,
           0.4910177921792205,
           0.5059268310886119,
           0.5231218065440615,
           0.543311890955337,
           0.5597723466575404,
           0.5769704114459675,
           0.5924741893566049,
           0.600964358028039,
           0.6030203153141649,
           0.6043662357009469,
           0.6038041161096362,
           0.606161787780293,
           0.6090003683865712,
           0.6112901036865773,
           0.6101536369412265,
           0.6091900122244763,
           0.6049490132069734,
           0.5989148828786903,
           0.5923197264528877,
           0.5877480383149071,
           0.5811971858347084,
           0.5765606101615202,
           0.2603834431969019,
           0.311611852884684,
           0.36109617438938746,
           0.39776964071804544,
           0.4319305728112393,
           0.44964245727720514,
           0.4673150643320951,
           0.4843464298094055,
           0.5061277819094063,
           0.5237780263250847,
           0.5411934144910177,
           0.55733546474614,
           0.5692332470022348,
           0.5728899036472631,
           0.5767563526312374,
           0.5764771545059444,
           0.5786949040117395,
           0.5816010629975028,
           0.5849788806159406,
           0.5840894284429853,
           0.5851103444378742,
           0.5807610857274518,
           0.5751659059800354,
           0.5675916621995172,
           0.5636934588485756,
           0.5567410849324392,
           0.5519573889206092,
           0.5470411582601638,
           0.26068332590307597,
           0.3136766459830825,
           0.35306365790300287,
           0.39084631641864653,
           0.4158665674114121,
           0.4316936564261665,
           0.4512801642606966,
           0.47295933772425297,
           0.4918568246530104,
           0.5103146845060575,
           0.5265272815393389,
           0.5388116754610068,
           0.5453970067716744,
           0.5507615288071013,
           0.5527881225205284,
           0.5553144262565267,
           0.5580214380553135,
           0.5613691592713278,
           0.5613650701782236,
           0.5626318673316646,
           0.5600062964016366,
           0.5541406089421419,
           0.5469027118368187,
           0.5420937675973063,
           0.5356637989494863,
           0.5305020825752583,
           0.5254042511688338,
           0.522974797449408,
           0.258166213257434,
           0.3003144480637488,
           0.341640702137083,
           0.36995650245829065,
           0.39325481506151583,
           0.41170043889537455,
           0.436514148548653,
           0.4554092204180624,
           0.47534962025263755,
           0.49274239904036926,
           0.505141197452442,
           0.5120905996779909,
           0.5204721784093104,
           0.5240314070185045,
           0.5289247758807795,
           0.5320647612579104,
           0.5353793677503244,
           0.5353283575983446,
           0.537599520519293,
           0.5351745374662756,
           0.5309594373198739,
           0.5234676310811476,
           0.5191260915506953,
           0.5118492584777848,
           0.5072863293212846,
           0.501886524932722,
           0.49941096021176656,
           0.49596351056802734,
           0.2463096234647762,
           0.2911996974983941,
           0.3218834963277198,
           0.3484062950700379,
           0.3743796592444245,
           0.39860573451082365,
           0.42033770755617905,
           0.4403633032587215,
           0.45916039244641277,
           0.47256675763176387,
           0.47951519379194063,
           0.48833609940939965,
           0.4946864197317883,
           0.5011331916199738,
           0.5065946030810393,
           0.5103028247662417,
           0.5101418172843084,
           0.5124560155101616,
           0.5108969476717341,
           0.5067908789432686,
           0.5008060553708789,
           0.49633674870571337,
           0.4894306445845285,
           0.48412418262720197,
           0.479296673309826,
           0.4765870395028377,
           0.4730834161195426,
           0.46878403099795296,
           0.2326605537588097,
           0.26666138673783446,
           0.29638542289092434,
           0.3264116500536807,
           0.358794615367555,
           0.37998733389173833,
           0.40309944085577254,
           0.422135784713742,
           0.43690052918143363,
           0.4447981437283627,
           0.4538525613087907,
           0.4606986638753759,
           0.4700919210367014,
           0.4771794813988358,
           0.4833469490759588,
           0.483505644466575,
           0.48587441853366115,
           0.4843098043426825,
           0.4810489622372252,
           0.47515999109952783,
           0.47227387796138587,
           0.46529277084621234,
           0.4604440322788063,
           0.45496573004490837,
           0.45291685840087337,
           0.44921757275818064,
           0.44490707530679874,
           0.4407575165609226,
           0.2162735097567313,
           0.2486875062254375,
           0.2817973688640935,
           0.318307603592782,
           0.3468065133211903,
           0.3691699844965389,
           0.3908284146782243,
           0.4053875943814239,
           0.41417130837546107,
           0.42409694324239877,
           0.43102185548466193,
           0.4408831524128828,
           0.45068757116674435,
           0.4583820365068431,
           0.4607281677345328,
           0.4634053563968043,
           0.46169586795374706,
           0.4582814146951494,
           0.4530735886247145,
           0.45031442872086325,
           0.4447192559373834,
           0.43980091641116154,
           0.4346909766139893,
           0.43204006672079454,
           0.42889438937637775,
           0.42432699630288784,
           0.42012026134398,
           0.41610952215003943
          ],
          [
           -0.0638390344346362,
           -0.10341526988288313,
           -0.10062746776913369,
           -0.11557025304282724,
           -0.0973358227167386,
           -0.09640666620149373,
           -0.08653931073460477,
           -0.1004529239082335,
           -0.09393262730356157,
           -0.10969297513146192,
           -0.11259693865567048,
           -0.10660472303363058,
           -0.09399806768678388,
           -0.09936575077049027,
           -0.09577110962785924,
           -0.09679491817495457,
           -0.10424231726473927,
           -0.11575256358819776,
           -0.10975788151494513,
           -0.11255993884286548,
           -0.1043045458370425,
           -0.10149966222784808,
           -0.09949111128274465,
           -0.10662675035049575,
           -0.09984889448113454,
           -0.10764642311980631,
           -0.11134580788296591,
           -0.11509128904341986,
           -0.05310193042736581,
           -0.05608957187386635,
           -0.0768987050235951,
           -0.05981903830540226,
           -0.06219431003124845,
           -0.053216504720523125,
           -0.06997589119697667,
           -0.0642729550376841,
           -0.08199398279230011,
           -0.08599257094130029,
           -0.080395342646963,
           -0.06810604214175073,
           -0.07502968627181181,
           -0.07220189248207359,
           -0.07412100351457575,
           -0.08254309199766244,
           -0.09482828808089644,
           -0.08912890055572366,
           -0.09261128169173105,
           -0.08451913971003529,
           -0.08240967024056553,
           -0.08099294595357157,
           -0.08870110572770762,
           -0.08198070603256354,
           -0.0903310337522042,
           -0.09444080182547834,
           -0.09839072306582164,
           -0.09015625632115519,
           -0.08170386600256309,
           -0.09754246240216845,
           -0.07442173929763148,
           -0.07507058908413289,
           -0.06454341769892975,
           -0.08082807217843187,
           -0.07405225501759577,
           -0.0917167709033582,
           -0.09521519562208294,
           -0.08872347564912653,
           -0.07542122266417586,
           -0.08208165269829432,
           -0.07919691825240621,
           -0.0809091823427833,
           -0.08948221284688349,
           -0.1019327365241811,
           -0.09566266092898125,
           -0.09894608852151403,
           -0.09052753687148388,
           -0.08817260496357,
           -0.08684062272334608,
           -0.09463564647590707,
           -0.08760894947753327,
           -0.09580562476895023,
           -0.09980345124215569,
           -0.10363908834129858,
           -0.09512665661806216,
           -0.1004035176725208,
           -0.05684743310371139,
           -0.03357195883228937,
           -0.038448816733673626,
           -0.029906538355695168,
           -0.050858849066970115,
           -0.0452574844198594,
           -0.06576941597980472,
           -0.07037580402054046,
           -0.06455936828099687,
           -0.051619678778063,
           -0.0589948932420295,
           -0.05666373715160925,
           -0.059546114488094624,
           -0.06917658707915326,
           -0.08270737085175786,
           -0.07678443526831291,
           -0.08056183010603096,
           -0.07227922136830305,
           -0.07039719136530216,
           -0.06959548326358969,
           -0.0783113690104381,
           -0.07140981123741363,
           -0.08018446428186272,
           -0.08442239078640287,
           -0.08866971229496398,
           -0.08014121394797069,
           -0.08590721585472441,
           -0.08081955150633321,
           -0.024695435826164527,
           -0.03014897205971711,
           -0.020970022428814978,
           -0.04439389886606759,
           -0.038793312059272035,
           -0.06073935846965305,
           -0.06585962832547201,
           -0.05955696612649737,
           -0.0461137625086496,
           -0.05377288828827933,
           -0.05134859141870073,
           -0.05435449463726619,
           -0.06476147762707633,
           -0.07884293096523787,
           -0.07306685757261915,
           -0.07706275944154288,
           -0.06858427363494511,
           -0.06666829875571241,
           -0.06592339635431134,
           -0.07500737515230115,
           -0.06814781099367057,
           -0.07725495722696431,
           -0.08156499019675845,
           -0.085775181739631,
           -0.07719459036653793,
           -0.08296817785312585,
           -0.07780507909461633,
           -0.07828180013458752,
           0.0021958999997980268,
           0.007782930601358962,
           -0.02154677026370949,
           -0.017426040478382483,
           -0.04316284057814268,
           -0.04931321358037173,
           -0.043595110229629,
           -0.029983612218143902,
           -0.03863163618639527,
           -0.03665426559189065,
           -0.04007951296593321,
           -0.0512127267423764,
           -0.06663400271022471,
           -0.06115167059825429,
           -0.06573101402730293,
           -0.057205697238008064,
           -0.055458897341721713,
           -0.054976219710686856,
           -0.06462295483614161,
           -0.05778185192669589,
           -0.06760537284845831,
           -0.07236705082383717,
           -0.07687198981128071,
           -0.06812867795976371,
           -0.0743591819089702,
           -0.06915197430281504,
           -0.0697457379804042,
           -0.0625711132020151,
           -0.005271525251069777,
           -0.03691096391631121,
           -0.03032108064983741,
           -0.05696897139282383,
           -0.06270855495164739,
           -0.05497006654254075,
           -0.03968557461985302,
           -0.048064579722800725,
           -0.04543110704750232,
           -0.04845015096665387,
           -0.05945967199825999,
           -0.07492154658800425,
           -0.06916255240178104,
           -0.07359952598088586,
           -0.06491841091089451,
           -0.06280023327856592,
           -0.06183152136138868,
           -0.07149838780925427,
           -0.0643170957140423,
           -0.07423557091560831,
           -0.07916951598504869,
           -0.08360280999371761,
           -0.07449270026486114,
           -0.08056930656008086,
           -0.07515512016304288,
           -0.07553616160837495,
           -0.06798084889985517,
           -0.07013071576151617,
           -0.03321261849574804,
           -0.024116599413417285,
           -0.05406440895311251,
           -0.06007023770747281,
           -0.05210511764700076,
           -0.03521818111126376,
           -0.044433082507898604,
           -0.04156283473961406,
           -0.044779580668941554,
           -0.05627385228483215,
           -0.07203791482994684,
           -0.06605157345722824,
           -0.07107394557954198,
           -0.062351070520059663,
           -0.06033866138758335,
           -0.05945688344609925,
           -0.06931932389572704,
           -0.06188683560912201,
           -0.07216608731920683,
           -0.0773358710431255,
           -0.08215030417490951,
           -0.07268881470696038,
           -0.0790603557193962,
           -0.07337632041094189,
           -0.0738339006460846,
           -0.06608374469208451,
           -0.0682659777648128,
           -0.07032840902396412,
           -0.03760641552009082,
           -0.06817534052704417,
           -0.07187963805627537,
           -0.061472281818324245,
           -0.04271870698079677,
           -0.05179365485487306,
           -0.04820775632589648,
           -0.05095177762672547,
           -0.06255955804235556,
           -0.07845273521372305,
           -0.0717778331463618,
           -0.0765879268620355,
           -0.06742635409486009,
           -0.06517956151208723,
           -0.06387454107887734,
           -0.0739098511118113,
           -0.06601012580511759,
           -0.07639060819805162,
           -0.08158757781495399,
           -0.08641183480219321,
           -0.07672389694093462,
           -0.08295939162642205,
           -0.0770395137668824,
           -0.07724338477242354,
           -0.0692334747518311,
           -0.0712996641784401,
           -0.07323665145220276,
           -0.07222568849907615,
           -0.04405594403355558,
           -0.04995749533971781,
           -0.03990521752024959,
           -0.020956985883272033,
           -0.032495746611634804,
           -0.029576533428351384,
           -0.03364693563481256,
           -0.04654939413303909,
           -0.06378177227470425,
           -0.05733724456124067,
           -0.06256755895387686,
           -0.05352697698716596,
           -0.05191591413474767,
           -0.05088081934210476,
           -0.06167999560459356,
           -0.053833981805115026,
           -0.06477409366650687,
           -0.07039144969592638,
           -0.07568490819635483,
           -0.06593494424411474,
           -0.07274821565855728,
           -0.06683967264251621,
           -0.06731357276956292,
           -0.059184351555189973,
           -0.06155676104317356,
           -0.06367557989454666,
           -0.06281349912750595,
           -0.06253510335789567
          ],
          [
           0.03125726861703176,
           0.0015142759300338451,
           -0.011392605057239392,
           -0.011914902976049073,
           0.019936152413695195,
           -0.00037539937467231705,
           0.006466891103452231,
           -0.004336902958534386,
           -0.0045391705626498255,
           -0.005679127257451008,
           -0.01259536903717621,
           -0.015423657076198435,
           0.0030145471340186332,
           0.009554890931665535,
           0.022064307144310645,
           0.02252883386145373,
           0.017769451529170463,
           0.015277204539122308,
           0.02020227316320833,
           0.021277137098352508,
           0.03576602025911093,
           0.03543878744065874,
           0.036347822181219805,
           0.026093865679822015,
           0.02879571214722298,
           0.024770045563274123,
           0.01884921229822268,
           0.008674106867909639,
           0.013881690615974574,
           -0.004465845686453949,
           -0.00544610503071818,
           0.02856012878292903,
           0.005504357066800227,
           0.012445118518462975,
           0.0005937389437867919,
           0.00011170904172589334,
           -0.0012661504446180637,
           -0.00850038625760491,
           -0.011457316227248365,
           0.007409675220030313,
           0.013923011689590467,
           0.026931762285947753,
           0.027175173859970696,
           0.022029639821915647,
           0.01926556032002034,
           0.02418441753624237,
           0.02516252176198827,
           0.03997013979391958,
           0.03967396885911526,
           0.04034603639530605,
           0.029725056370812613,
           0.03235689316421985,
           0.02808270572059067,
           0.02178779051243216,
           0.011346725690910432,
           0.017593524308965987,
           -0.04860812587817963,
           -0.04114031688508149,
           0.0008402434367821034,
           -0.021647493440114803,
           -0.011950682802020282,
           -0.02274786177340357,
           -0.021791940432491802,
           -0.021991811887610412,
           -0.0284945982352872,
           -0.03059333430450537,
           -0.010415827228962239,
           -0.0029979546608492123,
           0.010794280178037964,
           0.011566135415676717,
           0.0069763732400567055,
           0.0046385476621358624,
           0.010175977188953907,
           0.011589642361302277,
           0.027187206335120728,
           0.0273146983773358,
           0.02837235841995178,
           0.01774249315422504,
           0.020847007548636963,
           0.01667137567701398,
           0.01067850689396859,
           0.00023237818731949552,
           0.00689615708708246,
           0.0005255329239753149,
           -0.022344602535007814,
           0.024934374131539653,
           -0.0026946491262492653,
           0.006255093694471536,
           -0.007118311706523795,
           -0.007131149933635149,
           -0.008306860869398807,
           -0.015844069701802747,
           -0.018574596662830855,
           0.0018533787168118021,
           0.009243041632342235,
           0.023212164150070654,
           0.023723937263379954,
           0.018630724181625688,
           0.015767981347712325,
           0.021083723014924106,
           0.022101669018428922,
           0.037830843324049165,
           0.03763983862957791,
           0.03835433023842702,
           0.027211481525111717,
           0.02999662063817835,
           0.025385123849361334,
           0.019041056358623982,
           0.008178499885817137,
           0.014772307216032274,
           0.007751245520157386,
           0.019717855456054718,
           0.050668288895307306,
           0.011965600682619537,
           0.020224367849974077,
           0.004217105752543118,
           0.003302037372359212,
           0.001100486914205979,
           -0.007587099419102803,
           -0.010857889353787642,
           0.010151044495199829,
           0.01758839773021077,
           0.032037675863458674,
           0.032163445947165935,
           0.026589362722582333,
           0.023328404569529376,
           0.028673317018433727,
           0.0294898736531199,
           0.04537836339229013,
           0.0449427828716697,
           0.04552071144827841,
           0.03384567267641403,
           0.03654738945348603,
           0.03171122669940551,
           0.02522102702152079,
           0.013905355109110309,
           0.020565289332118902,
           0.013406502832081951,
           0.025462980443725185,
           0.02350393160932977,
           0.0178768672941296,
           0.025455931988862774,
           0.006639188783134805,
           0.005323821504921381,
           0.0030192848058587193,
           -0.0067218707724206635,
           -0.010281000461215883,
           0.011898255057236328,
           0.019608683712727986,
           0.03476962492196489,
           0.03458066932447708,
           0.028715467354412664,
           0.025400248009926657,
           0.03090553606437859,
           0.03155783530273508,
           0.047918935716099786,
           0.04719659429319406,
           0.04763840031629555,
           0.03559880621578278,
           0.038227040492231856,
           0.03333733287531216,
           0.026351711791469053,
           0.014709793565679774,
           0.02147998217842922,
           0.013944531165106841,
           0.02623477120915599,
           0.023941940054374118,
           0.028771976325883075,
           -0.02208347739606512,
           -0.03563432683126295,
           -0.03175533071332248,
           -0.030734360185633025,
           -0.03817715862734709,
           -0.039478323623635826,
           -0.013960176218222608,
           -0.004445682346206423,
           0.012623027897793833,
           0.01327411545022268,
           0.008059849260345232,
           0.005294133609990172,
           0.011701917193507133,
           0.012975284415868552,
           0.030509704535537703,
           0.0303958348076621,
           0.03138547244400704,
           0.019419523763922055,
           0.022615704953702746,
           0.018071009561870483,
           0.011244396224460567,
           -0.0003226552632214365,
           0.007062380270764588,
           -0.00038749670475144425,
           0.01250060366726137,
           0.010530602226621066,
           0.015834716200169963,
           0.01971428028376412,
           -0.008532471192518844,
           -0.007678442428807896,
           -0.00942577272028438,
           -0.019528424084533348,
           -0.022531233623973572,
           0.004128016712934425,
           0.01303909242203854,
           0.029952642835140732,
           0.029726574198133914,
           0.023610469318799062,
           0.02003359263008943,
           0.026139520026273816,
           0.02714970758174529,
           0.04476056910882527,
           0.04393852577183861,
           0.04440608295283572,
           0.03159815256997537,
           0.034469841815647106,
           0.029450991034655115,
           0.02196496093063137,
           0.00980409234902228,
           0.017050884604637634,
           0.008956647098934177,
           0.02190437628948608,
           0.019550159934625302,
           0.024698071202476274,
           0.02860281195463814,
           0.021275310641135838,
           -0.02339368916115602,
           -0.021512817661781834,
           -0.03150707967446438,
           -0.033465242152307305,
           -0.004006809194356109,
           0.005915578583073322,
           0.024169376836488742,
           0.024091796982928185,
           0.017921000204765808,
           0.01436139307846812,
           0.020906370959469036,
           0.022024649757653655,
           0.04061640089613285,
           0.03979061704615768,
           0.040717759965134714,
           0.027550036023369633,
           0.03066474477618382,
           0.02559260546400836,
           0.018073631351426797,
           0.005673302153485156,
           0.013236256570580453,
           0.005264347902822031,
           0.018639763688676633,
           0.016232169285737178,
           0.021648590505037403,
           0.025611919332914377,
           0.01822090101008646,
           0.01447157882199616,
           -0.004430060747058921,
           -0.017678791662923233,
           -0.021251201879737988,
           0.010128576151449414,
           0.019982336124428946,
           0.03786037758093908,
           0.03690632548566353,
           0.029483886655232147,
           0.025131095604099065,
           0.03147441982168929,
           0.03198913996372137,
           0.05076678302032446,
           0.04992037415504019,
           0.050654396551886326,
           0.036797580719429665,
           0.03960979851616589,
           0.03396158286148443,
           0.025894416131695224,
           0.01293554649731259,
           0.02046427712078885,
           0.01221638756069585,
           0.025768873815344703,
           0.02297660885346313,
           0.028324598044754342,
           0.03231331553007933,
           0.024565708388030325,
           0.020628418186732313,
           0.019255466450332007
          ]
         ]
        }
       ],
       "layout": {
        "coloraxis": {
         "cmax": 1,
         "cmin": -1,
         "colorscale": [
          [
           0,
           "rgb(103,0,31)"
          ],
          [
           0.1,
           "rgb(178,24,43)"
          ],
          [
           0.2,
           "rgb(214,96,77)"
          ],
          [
           0.3,
           "rgb(244,165,130)"
          ],
          [
           0.4,
           "rgb(253,219,199)"
          ],
          [
           0.5,
           "rgb(247,247,247)"
          ],
          [
           0.6,
           "rgb(209,229,240)"
          ],
          [
           0.7,
           "rgb(146,197,222)"
          ],
          [
           0.8,
           "rgb(67,147,195)"
          ],
          [
           0.9,
           "rgb(33,102,172)"
          ],
          [
           1,
           "rgb(5,48,97)"
          ]
         ]
        },
        "height": 600,
        "margin": {
         "t": 60
        },
        "template": {
         "data": {
          "bar": [
           {
            "error_x": {
             "color": "#2a3f5f"
            },
            "error_y": {
             "color": "#2a3f5f"
            },
            "marker": {
             "line": {
              "color": "#E5ECF6",
              "width": 0.5
             }
            },
            "type": "bar"
           }
          ],
          "barpolar": [
           {
            "marker": {
             "line": {
              "color": "#E5ECF6",
              "width": 0.5
             }
            },
            "type": "barpolar"
           }
          ],
          "carpet": [
           {
            "aaxis": {
             "endlinecolor": "#2a3f5f",
             "gridcolor": "white",
             "linecolor": "white",
             "minorgridcolor": "white",
             "startlinecolor": "#2a3f5f"
            },
            "baxis": {
             "endlinecolor": "#2a3f5f",
             "gridcolor": "white",
             "linecolor": "white",
             "minorgridcolor": "white",
             "startlinecolor": "#2a3f5f"
            },
            "type": "carpet"
           }
          ],
          "choropleth": [
           {
            "colorbar": {
             "outlinewidth": 0,
             "ticks": ""
            },
            "type": "choropleth"
           }
          ],
          "contour": [
           {
            "colorbar": {
             "outlinewidth": 0,
             "ticks": ""
            },
            "colorscale": [
             [
              0,
              "#0d0887"
             ],
             [
              0.1111111111111111,
              "#46039f"
             ],
             [
              0.2222222222222222,
              "#7201a8"
             ],
             [
              0.3333333333333333,
              "#9c179e"
             ],
             [
              0.4444444444444444,
              "#bd3786"
             ],
             [
              0.5555555555555556,
              "#d8576b"
             ],
             [
              0.6666666666666666,
              "#ed7953"
             ],
             [
              0.7777777777777778,
              "#fb9f3a"
             ],
             [
              0.8888888888888888,
              "#fdca26"
             ],
             [
              1,
              "#f0f921"
             ]
            ],
            "type": "contour"
           }
          ],
          "contourcarpet": [
           {
            "colorbar": {
             "outlinewidth": 0,
             "ticks": ""
            },
            "type": "contourcarpet"
           }
          ],
          "heatmap": [
           {
            "colorbar": {
             "outlinewidth": 0,
             "ticks": ""
            },
            "colorscale": [
             [
              0,
              "#0d0887"
             ],
             [
              0.1111111111111111,
              "#46039f"
             ],
             [
              0.2222222222222222,
              "#7201a8"
             ],
             [
              0.3333333333333333,
              "#9c179e"
             ],
             [
              0.4444444444444444,
              "#bd3786"
             ],
             [
              0.5555555555555556,
              "#d8576b"
             ],
             [
              0.6666666666666666,
              "#ed7953"
             ],
             [
              0.7777777777777778,
              "#fb9f3a"
             ],
             [
              0.8888888888888888,
              "#fdca26"
             ],
             [
              1,
              "#f0f921"
             ]
            ],
            "type": "heatmap"
           }
          ],
          "heatmapgl": [
           {
            "colorbar": {
             "outlinewidth": 0,
             "ticks": ""
            },
            "colorscale": [
             [
              0,
              "#0d0887"
             ],
             [
              0.1111111111111111,
              "#46039f"
             ],
             [
              0.2222222222222222,
              "#7201a8"
             ],
             [
              0.3333333333333333,
              "#9c179e"
             ],
             [
              0.4444444444444444,
              "#bd3786"
             ],
             [
              0.5555555555555556,
              "#d8576b"
             ],
             [
              0.6666666666666666,
              "#ed7953"
             ],
             [
              0.7777777777777778,
              "#fb9f3a"
             ],
             [
              0.8888888888888888,
              "#fdca26"
             ],
             [
              1,
              "#f0f921"
             ]
            ],
            "type": "heatmapgl"
           }
          ],
          "histogram": [
           {
            "marker": {
             "colorbar": {
              "outlinewidth": 0,
              "ticks": ""
             }
            },
            "type": "histogram"
           }
          ],
          "histogram2d": [
           {
            "colorbar": {
             "outlinewidth": 0,
             "ticks": ""
            },
            "colorscale": [
             [
              0,
              "#0d0887"
             ],
             [
              0.1111111111111111,
              "#46039f"
             ],
             [
              0.2222222222222222,
              "#7201a8"
             ],
             [
              0.3333333333333333,
              "#9c179e"
             ],
             [
              0.4444444444444444,
              "#bd3786"
             ],
             [
              0.5555555555555556,
              "#d8576b"
             ],
             [
              0.6666666666666666,
              "#ed7953"
             ],
             [
              0.7777777777777778,
              "#fb9f3a"
             ],
             [
              0.8888888888888888,
              "#fdca26"
             ],
             [
              1,
              "#f0f921"
             ]
            ],
            "type": "histogram2d"
           }
          ],
          "histogram2dcontour": [
           {
            "colorbar": {
             "outlinewidth": 0,
             "ticks": ""
            },
            "colorscale": [
             [
              0,
              "#0d0887"
             ],
             [
              0.1111111111111111,
              "#46039f"
             ],
             [
              0.2222222222222222,
              "#7201a8"
             ],
             [
              0.3333333333333333,
              "#9c179e"
             ],
             [
              0.4444444444444444,
              "#bd3786"
             ],
             [
              0.5555555555555556,
              "#d8576b"
             ],
             [
              0.6666666666666666,
              "#ed7953"
             ],
             [
              0.7777777777777778,
              "#fb9f3a"
             ],
             [
              0.8888888888888888,
              "#fdca26"
             ],
             [
              1,
              "#f0f921"
             ]
            ],
            "type": "histogram2dcontour"
           }
          ],
          "mesh3d": [
           {
            "colorbar": {
             "outlinewidth": 0,
             "ticks": ""
            },
            "type": "mesh3d"
           }
          ],
          "parcoords": [
           {
            "line": {
             "colorbar": {
              "outlinewidth": 0,
              "ticks": ""
             }
            },
            "type": "parcoords"
           }
          ],
          "pie": [
           {
            "automargin": true,
            "type": "pie"
           }
          ],
          "scatter": [
           {
            "marker": {
             "colorbar": {
              "outlinewidth": 0,
              "ticks": ""
             }
            },
            "type": "scatter"
           }
          ],
          "scatter3d": [
           {
            "line": {
             "colorbar": {
              "outlinewidth": 0,
              "ticks": ""
             }
            },
            "marker": {
             "colorbar": {
              "outlinewidth": 0,
              "ticks": ""
             }
            },
            "type": "scatter3d"
           }
          ],
          "scattercarpet": [
           {
            "marker": {
             "colorbar": {
              "outlinewidth": 0,
              "ticks": ""
             }
            },
            "type": "scattercarpet"
           }
          ],
          "scattergeo": [
           {
            "marker": {
             "colorbar": {
              "outlinewidth": 0,
              "ticks": ""
             }
            },
            "type": "scattergeo"
           }
          ],
          "scattergl": [
           {
            "marker": {
             "colorbar": {
              "outlinewidth": 0,
              "ticks": ""
             }
            },
            "type": "scattergl"
           }
          ],
          "scattermapbox": [
           {
            "marker": {
             "colorbar": {
              "outlinewidth": 0,
              "ticks": ""
             }
            },
            "type": "scattermapbox"
           }
          ],
          "scatterpolar": [
           {
            "marker": {
             "colorbar": {
              "outlinewidth": 0,
              "ticks": ""
             }
            },
            "type": "scatterpolar"
           }
          ],
          "scatterpolargl": [
           {
            "marker": {
             "colorbar": {
              "outlinewidth": 0,
              "ticks": ""
             }
            },
            "type": "scatterpolargl"
           }
          ],
          "scatterternary": [
           {
            "marker": {
             "colorbar": {
              "outlinewidth": 0,
              "ticks": ""
             }
            },
            "type": "scatterternary"
           }
          ],
          "surface": [
           {
            "colorbar": {
             "outlinewidth": 0,
             "ticks": ""
            },
            "colorscale": [
             [
              0,
              "#0d0887"
             ],
             [
              0.1111111111111111,
              "#46039f"
             ],
             [
              0.2222222222222222,
              "#7201a8"
             ],
             [
              0.3333333333333333,
              "#9c179e"
             ],
             [
              0.4444444444444444,
              "#bd3786"
             ],
             [
              0.5555555555555556,
              "#d8576b"
             ],
             [
              0.6666666666666666,
              "#ed7953"
             ],
             [
              0.7777777777777778,
              "#fb9f3a"
             ],
             [
              0.8888888888888888,
              "#fdca26"
             ],
             [
              1,
              "#f0f921"
             ]
            ],
            "type": "surface"
           }
          ],
          "table": [
           {
            "cells": {
             "fill": {
              "color": "#EBF0F8"
             },
             "line": {
              "color": "white"
             }
            },
            "header": {
             "fill": {
              "color": "#C8D4E3"
             },
             "line": {
              "color": "white"
             }
            },
            "type": "table"
           }
          ]
         },
         "layout": {
          "annotationdefaults": {
           "arrowcolor": "#2a3f5f",
           "arrowhead": 0,
           "arrowwidth": 1
          },
          "autotypenumbers": "strict",
          "coloraxis": {
           "colorbar": {
            "outlinewidth": 0,
            "ticks": ""
           }
          },
          "colorscale": {
           "diverging": [
            [
             0,
             "#8e0152"
            ],
            [
             0.1,
             "#c51b7d"
            ],
            [
             0.2,
             "#de77ae"
            ],
            [
             0.3,
             "#f1b6da"
            ],
            [
             0.4,
             "#fde0ef"
            ],
            [
             0.5,
             "#f7f7f7"
            ],
            [
             0.6,
             "#e6f5d0"
            ],
            [
             0.7,
             "#b8e186"
            ],
            [
             0.8,
             "#7fbc41"
            ],
            [
             0.9,
             "#4d9221"
            ],
            [
             1,
             "#276419"
            ]
           ],
           "sequential": [
            [
             0,
             "#0d0887"
            ],
            [
             0.1111111111111111,
             "#46039f"
            ],
            [
             0.2222222222222222,
             "#7201a8"
            ],
            [
             0.3333333333333333,
             "#9c179e"
            ],
            [
             0.4444444444444444,
             "#bd3786"
            ],
            [
             0.5555555555555556,
             "#d8576b"
            ],
            [
             0.6666666666666666,
             "#ed7953"
            ],
            [
             0.7777777777777778,
             "#fb9f3a"
            ],
            [
             0.8888888888888888,
             "#fdca26"
            ],
            [
             1,
             "#f0f921"
            ]
           ],
           "sequentialminus": [
            [
             0,
             "#0d0887"
            ],
            [
             0.1111111111111111,
             "#46039f"
            ],
            [
             0.2222222222222222,
             "#7201a8"
            ],
            [
             0.3333333333333333,
             "#9c179e"
            ],
            [
             0.4444444444444444,
             "#bd3786"
            ],
            [
             0.5555555555555556,
             "#d8576b"
            ],
            [
             0.6666666666666666,
             "#ed7953"
            ],
            [
             0.7777777777777778,
             "#fb9f3a"
            ],
            [
             0.8888888888888888,
             "#fdca26"
            ],
            [
             1,
             "#f0f921"
            ]
           ]
          },
          "colorway": [
           "#636efa",
           "#EF553B",
           "#00cc96",
           "#ab63fa",
           "#FFA15A",
           "#19d3f3",
           "#FF6692",
           "#B6E880",
           "#FF97FF",
           "#FECB52"
          ],
          "font": {
           "color": "#2a3f5f"
          },
          "geo": {
           "bgcolor": "white",
           "lakecolor": "white",
           "landcolor": "#E5ECF6",
           "showlakes": true,
           "showland": true,
           "subunitcolor": "white"
          },
          "hoverlabel": {
           "align": "left"
          },
          "hovermode": "closest",
          "mapbox": {
           "style": "light"
          },
          "paper_bgcolor": "white",
          "plot_bgcolor": "#E5ECF6",
          "polar": {
           "angularaxis": {
            "gridcolor": "white",
            "linecolor": "white",
            "ticks": ""
           },
           "bgcolor": "#E5ECF6",
           "radialaxis": {
            "gridcolor": "white",
            "linecolor": "white",
            "ticks": ""
           }
          },
          "scene": {
           "xaxis": {
            "backgroundcolor": "#E5ECF6",
            "gridcolor": "white",
            "gridwidth": 2,
            "linecolor": "white",
            "showbackground": true,
            "ticks": "",
            "zerolinecolor": "white"
           },
           "yaxis": {
            "backgroundcolor": "#E5ECF6",
            "gridcolor": "white",
            "gridwidth": 2,
            "linecolor": "white",
            "showbackground": true,
            "ticks": "",
            "zerolinecolor": "white"
           },
           "zaxis": {
            "backgroundcolor": "#E5ECF6",
            "gridcolor": "white",
            "gridwidth": 2,
            "linecolor": "white",
            "showbackground": true,
            "ticks": "",
            "zerolinecolor": "white"
           }
          },
          "shapedefaults": {
           "line": {
            "color": "#2a3f5f"
           }
          },
          "ternary": {
           "aaxis": {
            "gridcolor": "white",
            "linecolor": "white",
            "ticks": ""
           },
           "baxis": {
            "gridcolor": "white",
            "linecolor": "white",
            "ticks": ""
           },
           "bgcolor": "#E5ECF6",
           "caxis": {
            "gridcolor": "white",
            "linecolor": "white",
            "ticks": ""
           }
          },
          "title": {
           "x": 0.05
          },
          "xaxis": {
           "automargin": true,
           "gridcolor": "white",
           "linecolor": "white",
           "ticks": "",
           "title": {
            "standoff": 15
           },
           "zerolinecolor": "white",
           "zerolinewidth": 2
          },
          "yaxis": {
           "automargin": true,
           "gridcolor": "white",
           "linecolor": "white",
           "ticks": "",
           "title": {
            "standoff": 15
           },
           "zerolinecolor": "white",
           "zerolinewidth": 2
          }
         }
        },
        "width": 14000,
        "xaxis": {
         "anchor": "y",
         "constrain": "domain",
         "domain": [
          0,
          1
         ],
         "scaleanchor": "y"
        },
        "yaxis": {
         "anchor": "x",
         "autorange": "reversed",
         "constrain": "domain",
         "domain": [
          0,
          1
         ]
        }
       }
      },
      "text/html": [
       "<div>                            <div id=\"78bffa94-20fb-4441-9514-92e6d3574575\" class=\"plotly-graph-div\" style=\"height:600px; width:14000px;\"></div>            <script type=\"text/javascript\">                require([\"plotly\"], function(Plotly) {                    window.PLOTLYENV=window.PLOTLYENV || {};                                    if (document.getElementById(\"78bffa94-20fb-4441-9514-92e6d3574575\")) {                    Plotly.newPlot(                        \"78bffa94-20fb-4441-9514-92e6d3574575\",                        [{\"coloraxis\": \"coloraxis\", \"hovertemplate\": \"x: %{x}<br>y: %{y}<br>color: %{z}<extra></extra>\", \"name\": \"0\", \"type\": \"heatmap\", \"x\": [\"acwi_lag_1_medmov_2\", \"acwi_lag_1_medmov_3\", \"acwi_lag_1_medmov_4\", \"acwi_lag_1_medmov_5\", \"acwi_lag_1_medmov_6\", \"acwi_lag_1_medmov_7\", \"acwi_lag_1_medmov_8\", \"acwi_lag_1_medmov_9\", \"acwi_lag_1_medmov_10\", \"acwi_lag_1_medmov_11\", \"acwi_lag_1_medmov_12\", \"acwi_lag_1_medmov_13\", \"acwi_lag_1_medmov_14\", \"acwi_lag_1_medmov_15\", \"acwi_lag_1_medmov_16\", \"acwi_lag_1_medmov_17\", \"acwi_lag_1_medmov_18\", \"acwi_lag_1_medmov_19\", \"acwi_lag_1_medmov_20\", \"acwi_lag_1_medmov_21\", \"acwi_lag_1_medmov_22\", \"acwi_lag_1_medmov_23\", \"acwi_lag_1_medmov_24\", \"acwi_lag_1_medmov_25\", \"acwi_lag_1_medmov_26\", \"acwi_lag_1_medmov_27\", \"acwi_lag_1_medmov_28\", \"acwi_lag_1_medmov_29\", \"acwi_lag_2_medmov_2\", \"acwi_lag_2_medmov_3\", \"acwi_lag_2_medmov_4\", \"acwi_lag_2_medmov_5\", \"acwi_lag_2_medmov_6\", \"acwi_lag_2_medmov_7\", \"acwi_lag_2_medmov_8\", \"acwi_lag_2_medmov_9\", \"acwi_lag_2_medmov_10\", \"acwi_lag_2_medmov_11\", \"acwi_lag_2_medmov_12\", \"acwi_lag_2_medmov_13\", \"acwi_lag_2_medmov_14\", \"acwi_lag_2_medmov_15\", \"acwi_lag_2_medmov_16\", \"acwi_lag_2_medmov_17\", \"acwi_lag_2_medmov_18\", \"acwi_lag_2_medmov_19\", \"acwi_lag_2_medmov_20\", \"acwi_lag_2_medmov_21\", \"acwi_lag_2_medmov_22\", \"acwi_lag_2_medmov_23\", \"acwi_lag_2_medmov_24\", \"acwi_lag_2_medmov_25\", \"acwi_lag_2_medmov_26\", \"acwi_lag_2_medmov_27\", \"acwi_lag_2_medmov_28\", \"acwi_lag_2_medmov_29\", \"acwi_lag_3_medmov_2\", \"acwi_lag_3_medmov_3\", \"acwi_lag_3_medmov_4\", \"acwi_lag_3_medmov_5\", \"acwi_lag_3_medmov_6\", \"acwi_lag_3_medmov_7\", \"acwi_lag_3_medmov_8\", \"acwi_lag_3_medmov_9\", \"acwi_lag_3_medmov_10\", \"acwi_lag_3_medmov_11\", \"acwi_lag_3_medmov_12\", \"acwi_lag_3_medmov_13\", \"acwi_lag_3_medmov_14\", \"acwi_lag_3_medmov_15\", \"acwi_lag_3_medmov_16\", \"acwi_lag_3_medmov_17\", \"acwi_lag_3_medmov_18\", \"acwi_lag_3_medmov_19\", \"acwi_lag_3_medmov_20\", \"acwi_lag_3_medmov_21\", \"acwi_lag_3_medmov_22\", \"acwi_lag_3_medmov_23\", \"acwi_lag_3_medmov_24\", \"acwi_lag_3_medmov_25\", \"acwi_lag_3_medmov_26\", \"acwi_lag_3_medmov_27\", \"acwi_lag_3_medmov_28\", \"acwi_lag_3_medmov_29\", \"acwi_lag_4_medmov_2\", \"acwi_lag_4_medmov_3\", \"acwi_lag_4_medmov_4\", \"acwi_lag_4_medmov_5\", \"acwi_lag_4_medmov_6\", \"acwi_lag_4_medmov_7\", \"acwi_lag_4_medmov_8\", \"acwi_lag_4_medmov_9\", \"acwi_lag_4_medmov_10\", \"acwi_lag_4_medmov_11\", \"acwi_lag_4_medmov_12\", \"acwi_lag_4_medmov_13\", \"acwi_lag_4_medmov_14\", \"acwi_lag_4_medmov_15\", \"acwi_lag_4_medmov_16\", \"acwi_lag_4_medmov_17\", \"acwi_lag_4_medmov_18\", \"acwi_lag_4_medmov_19\", \"acwi_lag_4_medmov_20\", \"acwi_lag_4_medmov_21\", \"acwi_lag_4_medmov_22\", \"acwi_lag_4_medmov_23\", \"acwi_lag_4_medmov_24\", \"acwi_lag_4_medmov_25\", \"acwi_lag_4_medmov_26\", \"acwi_lag_4_medmov_27\", \"acwi_lag_4_medmov_28\", \"acwi_lag_4_medmov_29\", \"acwi_lag_5_medmov_2\", \"acwi_lag_5_medmov_3\", \"acwi_lag_5_medmov_4\", \"acwi_lag_5_medmov_5\", \"acwi_lag_5_medmov_6\", \"acwi_lag_5_medmov_7\", \"acwi_lag_5_medmov_8\", \"acwi_lag_5_medmov_9\", \"acwi_lag_5_medmov_10\", \"acwi_lag_5_medmov_11\", \"acwi_lag_5_medmov_12\", \"acwi_lag_5_medmov_13\", \"acwi_lag_5_medmov_14\", \"acwi_lag_5_medmov_15\", \"acwi_lag_5_medmov_16\", \"acwi_lag_5_medmov_17\", \"acwi_lag_5_medmov_18\", \"acwi_lag_5_medmov_19\", \"acwi_lag_5_medmov_20\", \"acwi_lag_5_medmov_21\", \"acwi_lag_5_medmov_22\", \"acwi_lag_5_medmov_23\", \"acwi_lag_5_medmov_24\", \"acwi_lag_5_medmov_25\", \"acwi_lag_5_medmov_26\", \"acwi_lag_5_medmov_27\", \"acwi_lag_5_medmov_28\", \"acwi_lag_5_medmov_29\", \"acwi_lag_6_medmov_2\", \"acwi_lag_6_medmov_3\", \"acwi_lag_6_medmov_4\", \"acwi_lag_6_medmov_5\", \"acwi_lag_6_medmov_6\", \"acwi_lag_6_medmov_7\", \"acwi_lag_6_medmov_8\", \"acwi_lag_6_medmov_9\", \"acwi_lag_6_medmov_10\", \"acwi_lag_6_medmov_11\", \"acwi_lag_6_medmov_12\", \"acwi_lag_6_medmov_13\", \"acwi_lag_6_medmov_14\", \"acwi_lag_6_medmov_15\", \"acwi_lag_6_medmov_16\", \"acwi_lag_6_medmov_17\", \"acwi_lag_6_medmov_18\", \"acwi_lag_6_medmov_19\", \"acwi_lag_6_medmov_20\", \"acwi_lag_6_medmov_21\", \"acwi_lag_6_medmov_22\", \"acwi_lag_6_medmov_23\", \"acwi_lag_6_medmov_24\", \"acwi_lag_6_medmov_25\", \"acwi_lag_6_medmov_26\", \"acwi_lag_6_medmov_27\", \"acwi_lag_6_medmov_28\", \"acwi_lag_6_medmov_29\", \"acwi_lag_7_medmov_2\", \"acwi_lag_7_medmov_3\", \"acwi_lag_7_medmov_4\", \"acwi_lag_7_medmov_5\", \"acwi_lag_7_medmov_6\", \"acwi_lag_7_medmov_7\", \"acwi_lag_7_medmov_8\", \"acwi_lag_7_medmov_9\", \"acwi_lag_7_medmov_10\", \"acwi_lag_7_medmov_11\", \"acwi_lag_7_medmov_12\", \"acwi_lag_7_medmov_13\", \"acwi_lag_7_medmov_14\", \"acwi_lag_7_medmov_15\", \"acwi_lag_7_medmov_16\", \"acwi_lag_7_medmov_17\", \"acwi_lag_7_medmov_18\", \"acwi_lag_7_medmov_19\", \"acwi_lag_7_medmov_20\", \"acwi_lag_7_medmov_21\", \"acwi_lag_7_medmov_22\", \"acwi_lag_7_medmov_23\", \"acwi_lag_7_medmov_24\", \"acwi_lag_7_medmov_25\", \"acwi_lag_7_medmov_26\", \"acwi_lag_7_medmov_27\", \"acwi_lag_7_medmov_28\", \"acwi_lag_7_medmov_29\", \"acwi_lag_8_medmov_2\", \"acwi_lag_8_medmov_3\", \"acwi_lag_8_medmov_4\", \"acwi_lag_8_medmov_5\", \"acwi_lag_8_medmov_6\", \"acwi_lag_8_medmov_7\", \"acwi_lag_8_medmov_8\", \"acwi_lag_8_medmov_9\", \"acwi_lag_8_medmov_10\", \"acwi_lag_8_medmov_11\", \"acwi_lag_8_medmov_12\", \"acwi_lag_8_medmov_13\", \"acwi_lag_8_medmov_14\", \"acwi_lag_8_medmov_15\", \"acwi_lag_8_medmov_16\", \"acwi_lag_8_medmov_17\", \"acwi_lag_8_medmov_18\", \"acwi_lag_8_medmov_19\", \"acwi_lag_8_medmov_20\", \"acwi_lag_8_medmov_21\", \"acwi_lag_8_medmov_22\", \"acwi_lag_8_medmov_23\", \"acwi_lag_8_medmov_24\", \"acwi_lag_8_medmov_25\", \"acwi_lag_8_medmov_26\", \"acwi_lag_8_medmov_27\", \"acwi_lag_8_medmov_28\", \"acwi_lag_8_medmov_29\", \"acwi_lag_9_medmov_2\", \"acwi_lag_9_medmov_3\", \"acwi_lag_9_medmov_4\", \"acwi_lag_9_medmov_5\", \"acwi_lag_9_medmov_6\", \"acwi_lag_9_medmov_7\", \"acwi_lag_9_medmov_8\", \"acwi_lag_9_medmov_9\", \"acwi_lag_9_medmov_10\", \"acwi_lag_9_medmov_11\", \"acwi_lag_9_medmov_12\", \"acwi_lag_9_medmov_13\", \"acwi_lag_9_medmov_14\", \"acwi_lag_9_medmov_15\", \"acwi_lag_9_medmov_16\", \"acwi_lag_9_medmov_17\", \"acwi_lag_9_medmov_18\", \"acwi_lag_9_medmov_19\", \"acwi_lag_9_medmov_20\", \"acwi_lag_9_medmov_21\", \"acwi_lag_9_medmov_22\", \"acwi_lag_9_medmov_23\", \"acwi_lag_9_medmov_24\", \"acwi_lag_9_medmov_25\", \"acwi_lag_9_medmov_26\", \"acwi_lag_9_medmov_27\", \"acwi_lag_9_medmov_28\", \"acwi_lag_9_medmov_29\", \"acwi_lag_10_medmov_2\", \"acwi_lag_10_medmov_3\", \"acwi_lag_10_medmov_4\", \"acwi_lag_10_medmov_5\", \"acwi_lag_10_medmov_6\", \"acwi_lag_10_medmov_7\", \"acwi_lag_10_medmov_8\", \"acwi_lag_10_medmov_9\", \"acwi_lag_10_medmov_10\", \"acwi_lag_10_medmov_11\", \"acwi_lag_10_medmov_12\", \"acwi_lag_10_medmov_13\", \"acwi_lag_10_medmov_14\", \"acwi_lag_10_medmov_15\", \"acwi_lag_10_medmov_16\", \"acwi_lag_10_medmov_17\", \"acwi_lag_10_medmov_18\", \"acwi_lag_10_medmov_19\", \"acwi_lag_10_medmov_20\", \"acwi_lag_10_medmov_21\", \"acwi_lag_10_medmov_22\", \"acwi_lag_10_medmov_23\", \"acwi_lag_10_medmov_24\", \"acwi_lag_10_medmov_25\", \"acwi_lag_10_medmov_26\", \"acwi_lag_10_medmov_27\", \"acwi_lag_10_medmov_28\", \"acwi_lag_10_medmov_29\"], \"xaxis\": \"x\", \"y\": [\"GSRAII Index\", \"GSRAII_diff\", \"acwi\"], \"yaxis\": \"y\", \"z\": [[0.3367938297439208, 0.3887282523954507, 0.4364296598192503, 0.4728774530691485, 0.5100857456771287, 0.5365121708009507, 0.5666947659827559, 0.5875392831339716, 0.6101083636676486, 0.624892576002611, 0.6373665754771455, 0.6516526727068241, 0.6693421183654994, 0.6806672876875857, 0.69097320699473, 0.6976060403766347, 0.7007735089289656, 0.6999981987696602, 0.7009712746326737, 0.6993699485980168, 0.6998828799675275, 0.6986515710074452, 0.6981307138604141, 0.694374407464706, 0.6936677438315483, 0.6890994224908207, 0.6837225757682216, 0.6770343864959623, 0.31802471116877196, 0.3688979763302499, 0.4092806252593977, 0.451618552673387, 0.48781944006942585, 0.5172396182576942, 0.5416584857326916, 0.5642509355989939, 0.5805071986699357, 0.5940882231912845, 0.608447845934718, 0.6269191716700295, 0.6423276766162992, 0.6547378344829498, 0.6643855706918632, 0.6681134520897561, 0.6671014894531193, 0.6681132586696302, 0.6676736310630121, 0.6686864433817246, 0.6698269554776326, 0.6694021161279681, 0.6662120887627874, 0.6645540021952843, 0.6607483573304014, 0.6549130512264376, 0.6480945185139443, 0.6439563658979608, 0.28926423776249516, 0.33458163013165226, 0.3829601180005408, 0.42488198696935636, 0.46460231188683604, 0.4884367037509509, 0.5149630323114368, 0.5312595517094397, 0.5464980938401968, 0.5622743134655948, 0.5811743625279931, 0.5974560400150085, 0.6139679258916263, 0.6257867343970503, 0.6324744793954723, 0.6319553503353343, 0.6329286210734948, 0.6325848830658938, 0.634883139949179, 0.6366043271584522, 0.6385089598462814, 0.6353731236279457, 0.6343916414909203, 0.6296804793243007, 0.6246369341882434, 0.6173924140015894, 0.6132288630425206, 0.6068599212960921, 0.26918298844092137, 0.32255631733025963, 0.3690249885879246, 0.4137625061715743, 0.44627365893982474, 0.47178989617130007, 0.4910177921792205, 0.5059268310886119, 0.5231218065440615, 0.543311890955337, 0.5597723466575404, 0.5769704114459675, 0.5924741893566049, 0.600964358028039, 0.6030203153141649, 0.6043662357009469, 0.6038041161096362, 0.606161787780293, 0.6090003683865712, 0.6112901036865773, 0.6101536369412265, 0.6091900122244763, 0.6049490132069734, 0.5989148828786903, 0.5923197264528877, 0.5877480383149071, 0.5811971858347084, 0.5765606101615202, 0.2603834431969019, 0.311611852884684, 0.36109617438938746, 0.39776964071804544, 0.4319305728112393, 0.44964245727720514, 0.4673150643320951, 0.4843464298094055, 0.5061277819094063, 0.5237780263250847, 0.5411934144910177, 0.55733546474614, 0.5692332470022348, 0.5728899036472631, 0.5767563526312374, 0.5764771545059444, 0.5786949040117395, 0.5816010629975028, 0.5849788806159406, 0.5840894284429853, 0.5851103444378742, 0.5807610857274518, 0.5751659059800354, 0.5675916621995172, 0.5636934588485756, 0.5567410849324392, 0.5519573889206092, 0.5470411582601638, 0.26068332590307597, 0.3136766459830825, 0.35306365790300287, 0.39084631641864653, 0.4158665674114121, 0.4316936564261665, 0.4512801642606966, 0.47295933772425297, 0.4918568246530104, 0.5103146845060575, 0.5265272815393389, 0.5388116754610068, 0.5453970067716744, 0.5507615288071013, 0.5527881225205284, 0.5553144262565267, 0.5580214380553135, 0.5613691592713278, 0.5613650701782236, 0.5626318673316646, 0.5600062964016366, 0.5541406089421419, 0.5469027118368187, 0.5420937675973063, 0.5356637989494863, 0.5305020825752583, 0.5254042511688338, 0.522974797449408, 0.258166213257434, 0.3003144480637488, 0.341640702137083, 0.36995650245829065, 0.39325481506151583, 0.41170043889537455, 0.436514148548653, 0.4554092204180624, 0.47534962025263755, 0.49274239904036926, 0.505141197452442, 0.5120905996779909, 0.5204721784093104, 0.5240314070185045, 0.5289247758807795, 0.5320647612579104, 0.5353793677503244, 0.5353283575983446, 0.537599520519293, 0.5351745374662756, 0.5309594373198739, 0.5234676310811476, 0.5191260915506953, 0.5118492584777848, 0.5072863293212846, 0.501886524932722, 0.49941096021176656, 0.49596351056802734, 0.2463096234647762, 0.2911996974983941, 0.3218834963277198, 0.3484062950700379, 0.3743796592444245, 0.39860573451082365, 0.42033770755617905, 0.4403633032587215, 0.45916039244641277, 0.47256675763176387, 0.47951519379194063, 0.48833609940939965, 0.4946864197317883, 0.5011331916199738, 0.5065946030810393, 0.5103028247662417, 0.5101418172843084, 0.5124560155101616, 0.5108969476717341, 0.5067908789432686, 0.5008060553708789, 0.49633674870571337, 0.4894306445845285, 0.48412418262720197, 0.479296673309826, 0.4765870395028377, 0.4730834161195426, 0.46878403099795296, 0.2326605537588097, 0.26666138673783446, 0.29638542289092434, 0.3264116500536807, 0.358794615367555, 0.37998733389173833, 0.40309944085577254, 0.422135784713742, 0.43690052918143363, 0.4447981437283627, 0.4538525613087907, 0.4606986638753759, 0.4700919210367014, 0.4771794813988358, 0.4833469490759588, 0.483505644466575, 0.48587441853366115, 0.4843098043426825, 0.4810489622372252, 0.47515999109952783, 0.47227387796138587, 0.46529277084621234, 0.4604440322788063, 0.45496573004490837, 0.45291685840087337, 0.44921757275818064, 0.44490707530679874, 0.4407575165609226, 0.2162735097567313, 0.2486875062254375, 0.2817973688640935, 0.318307603592782, 0.3468065133211903, 0.3691699844965389, 0.3908284146782243, 0.4053875943814239, 0.41417130837546107, 0.42409694324239877, 0.43102185548466193, 0.4408831524128828, 0.45068757116674435, 0.4583820365068431, 0.4607281677345328, 0.4634053563968043, 0.46169586795374706, 0.4582814146951494, 0.4530735886247145, 0.45031442872086325, 0.4447192559373834, 0.43980091641116154, 0.4346909766139893, 0.43204006672079454, 0.42889438937637775, 0.42432699630288784, 0.42012026134398, 0.41610952215003943], [-0.0638390344346362, -0.10341526988288313, -0.10062746776913369, -0.11557025304282724, -0.0973358227167386, -0.09640666620149373, -0.08653931073460477, -0.1004529239082335, -0.09393262730356157, -0.10969297513146192, -0.11259693865567048, -0.10660472303363058, -0.09399806768678388, -0.09936575077049027, -0.09577110962785924, -0.09679491817495457, -0.10424231726473927, -0.11575256358819776, -0.10975788151494513, -0.11255993884286548, -0.1043045458370425, -0.10149966222784808, -0.09949111128274465, -0.10662675035049575, -0.09984889448113454, -0.10764642311980631, -0.11134580788296591, -0.11509128904341986, -0.05310193042736581, -0.05608957187386635, -0.0768987050235951, -0.05981903830540226, -0.06219431003124845, -0.053216504720523125, -0.06997589119697667, -0.0642729550376841, -0.08199398279230011, -0.08599257094130029, -0.080395342646963, -0.06810604214175073, -0.07502968627181181, -0.07220189248207359, -0.07412100351457575, -0.08254309199766244, -0.09482828808089644, -0.08912890055572366, -0.09261128169173105, -0.08451913971003529, -0.08240967024056553, -0.08099294595357157, -0.08870110572770762, -0.08198070603256354, -0.0903310337522042, -0.09444080182547834, -0.09839072306582164, -0.09015625632115519, -0.08170386600256309, -0.09754246240216845, -0.07442173929763148, -0.07507058908413289, -0.06454341769892975, -0.08082807217843187, -0.07405225501759577, -0.0917167709033582, -0.09521519562208294, -0.08872347564912653, -0.07542122266417586, -0.08208165269829432, -0.07919691825240621, -0.0809091823427833, -0.08948221284688349, -0.1019327365241811, -0.09566266092898125, -0.09894608852151403, -0.09052753687148388, -0.08817260496357, -0.08684062272334608, -0.09463564647590707, -0.08760894947753327, -0.09580562476895023, -0.09980345124215569, -0.10363908834129858, -0.09512665661806216, -0.1004035176725208, -0.05684743310371139, -0.03357195883228937, -0.038448816733673626, -0.029906538355695168, -0.050858849066970115, -0.0452574844198594, -0.06576941597980472, -0.07037580402054046, -0.06455936828099687, -0.051619678778063, -0.0589948932420295, -0.05666373715160925, -0.059546114488094624, -0.06917658707915326, -0.08270737085175786, -0.07678443526831291, -0.08056183010603096, -0.07227922136830305, -0.07039719136530216, -0.06959548326358969, -0.0783113690104381, -0.07140981123741363, -0.08018446428186272, -0.08442239078640287, -0.08866971229496398, -0.08014121394797069, -0.08590721585472441, -0.08081955150633321, -0.024695435826164527, -0.03014897205971711, -0.020970022428814978, -0.04439389886606759, -0.038793312059272035, -0.06073935846965305, -0.06585962832547201, -0.05955696612649737, -0.0461137625086496, -0.05377288828827933, -0.05134859141870073, -0.05435449463726619, -0.06476147762707633, -0.07884293096523787, -0.07306685757261915, -0.07706275944154288, -0.06858427363494511, -0.06666829875571241, -0.06592339635431134, -0.07500737515230115, -0.06814781099367057, -0.07725495722696431, -0.08156499019675845, -0.085775181739631, -0.07719459036653793, -0.08296817785312585, -0.07780507909461633, -0.07828180013458752, 0.0021958999997980268, 0.007782930601358962, -0.02154677026370949, -0.017426040478382483, -0.04316284057814268, -0.04931321358037173, -0.043595110229629, -0.029983612218143902, -0.03863163618639527, -0.03665426559189065, -0.04007951296593321, -0.0512127267423764, -0.06663400271022471, -0.06115167059825429, -0.06573101402730293, -0.057205697238008064, -0.055458897341721713, -0.054976219710686856, -0.06462295483614161, -0.05778185192669589, -0.06760537284845831, -0.07236705082383717, -0.07687198981128071, -0.06812867795976371, -0.0743591819089702, -0.06915197430281504, -0.0697457379804042, -0.0625711132020151, -0.005271525251069777, -0.03691096391631121, -0.03032108064983741, -0.05696897139282383, -0.06270855495164739, -0.05497006654254075, -0.03968557461985302, -0.048064579722800725, -0.04543110704750232, -0.04845015096665387, -0.05945967199825999, -0.07492154658800425, -0.06916255240178104, -0.07359952598088586, -0.06491841091089451, -0.06280023327856592, -0.06183152136138868, -0.07149838780925427, -0.0643170957140423, -0.07423557091560831, -0.07916951598504869, -0.08360280999371761, -0.07449270026486114, -0.08056930656008086, -0.07515512016304288, -0.07553616160837495, -0.06798084889985517, -0.07013071576151617, -0.03321261849574804, -0.024116599413417285, -0.05406440895311251, -0.06007023770747281, -0.05210511764700076, -0.03521818111126376, -0.044433082507898604, -0.04156283473961406, -0.044779580668941554, -0.05627385228483215, -0.07203791482994684, -0.06605157345722824, -0.07107394557954198, -0.062351070520059663, -0.06033866138758335, -0.05945688344609925, -0.06931932389572704, -0.06188683560912201, -0.07216608731920683, -0.0773358710431255, -0.08215030417490951, -0.07268881470696038, -0.0790603557193962, -0.07337632041094189, -0.0738339006460846, -0.06608374469208451, -0.0682659777648128, -0.07032840902396412, -0.03760641552009082, -0.06817534052704417, -0.07187963805627537, -0.061472281818324245, -0.04271870698079677, -0.05179365485487306, -0.04820775632589648, -0.05095177762672547, -0.06255955804235556, -0.07845273521372305, -0.0717778331463618, -0.0765879268620355, -0.06742635409486009, -0.06517956151208723, -0.06387454107887734, -0.0739098511118113, -0.06601012580511759, -0.07639060819805162, -0.08158757781495399, -0.08641183480219321, -0.07672389694093462, -0.08295939162642205, -0.0770395137668824, -0.07724338477242354, -0.0692334747518311, -0.0712996641784401, -0.07323665145220276, -0.07222568849907615, -0.04405594403355558, -0.04995749533971781, -0.03990521752024959, -0.020956985883272033, -0.032495746611634804, -0.029576533428351384, -0.03364693563481256, -0.04654939413303909, -0.06378177227470425, -0.05733724456124067, -0.06256755895387686, -0.05352697698716596, -0.05191591413474767, -0.05088081934210476, -0.06167999560459356, -0.053833981805115026, -0.06477409366650687, -0.07039144969592638, -0.07568490819635483, -0.06593494424411474, -0.07274821565855728, -0.06683967264251621, -0.06731357276956292, -0.059184351555189973, -0.06155676104317356, -0.06367557989454666, -0.06281349912750595, -0.06253510335789567], [0.03125726861703176, 0.0015142759300338451, -0.011392605057239392, -0.011914902976049073, 0.019936152413695195, -0.00037539937467231705, 0.006466891103452231, -0.004336902958534386, -0.0045391705626498255, -0.005679127257451008, -0.01259536903717621, -0.015423657076198435, 0.0030145471340186332, 0.009554890931665535, 0.022064307144310645, 0.02252883386145373, 0.017769451529170463, 0.015277204539122308, 0.02020227316320833, 0.021277137098352508, 0.03576602025911093, 0.03543878744065874, 0.036347822181219805, 0.026093865679822015, 0.02879571214722298, 0.024770045563274123, 0.01884921229822268, 0.008674106867909639, 0.013881690615974574, -0.004465845686453949, -0.00544610503071818, 0.02856012878292903, 0.005504357066800227, 0.012445118518462975, 0.0005937389437867919, 0.00011170904172589334, -0.0012661504446180637, -0.00850038625760491, -0.011457316227248365, 0.007409675220030313, 0.013923011689590467, 0.026931762285947753, 0.027175173859970696, 0.022029639821915647, 0.01926556032002034, 0.02418441753624237, 0.02516252176198827, 0.03997013979391958, 0.03967396885911526, 0.04034603639530605, 0.029725056370812613, 0.03235689316421985, 0.02808270572059067, 0.02178779051243216, 0.011346725690910432, 0.017593524308965987, -0.04860812587817963, -0.04114031688508149, 0.0008402434367821034, -0.021647493440114803, -0.011950682802020282, -0.02274786177340357, -0.021791940432491802, -0.021991811887610412, -0.0284945982352872, -0.03059333430450537, -0.010415827228962239, -0.0029979546608492123, 0.010794280178037964, 0.011566135415676717, 0.0069763732400567055, 0.0046385476621358624, 0.010175977188953907, 0.011589642361302277, 0.027187206335120728, 0.0273146983773358, 0.02837235841995178, 0.01774249315422504, 0.020847007548636963, 0.01667137567701398, 0.01067850689396859, 0.00023237818731949552, 0.00689615708708246, 0.0005255329239753149, -0.022344602535007814, 0.024934374131539653, -0.0026946491262492653, 0.006255093694471536, -0.007118311706523795, -0.007131149933635149, -0.008306860869398807, -0.015844069701802747, -0.018574596662830855, 0.0018533787168118021, 0.009243041632342235, 0.023212164150070654, 0.023723937263379954, 0.018630724181625688, 0.015767981347712325, 0.021083723014924106, 0.022101669018428922, 0.037830843324049165, 0.03763983862957791, 0.03835433023842702, 0.027211481525111717, 0.02999662063817835, 0.025385123849361334, 0.019041056358623982, 0.008178499885817137, 0.014772307216032274, 0.007751245520157386, 0.019717855456054718, 0.050668288895307306, 0.011965600682619537, 0.020224367849974077, 0.004217105752543118, 0.003302037372359212, 0.001100486914205979, -0.007587099419102803, -0.010857889353787642, 0.010151044495199829, 0.01758839773021077, 0.032037675863458674, 0.032163445947165935, 0.026589362722582333, 0.023328404569529376, 0.028673317018433727, 0.0294898736531199, 0.04537836339229013, 0.0449427828716697, 0.04552071144827841, 0.03384567267641403, 0.03654738945348603, 0.03171122669940551, 0.02522102702152079, 0.013905355109110309, 0.020565289332118902, 0.013406502832081951, 0.025462980443725185, 0.02350393160932977, 0.0178768672941296, 0.025455931988862774, 0.006639188783134805, 0.005323821504921381, 0.0030192848058587193, -0.0067218707724206635, -0.010281000461215883, 0.011898255057236328, 0.019608683712727986, 0.03476962492196489, 0.03458066932447708, 0.028715467354412664, 0.025400248009926657, 0.03090553606437859, 0.03155783530273508, 0.047918935716099786, 0.04719659429319406, 0.04763840031629555, 0.03559880621578278, 0.038227040492231856, 0.03333733287531216, 0.026351711791469053, 0.014709793565679774, 0.02147998217842922, 0.013944531165106841, 0.02623477120915599, 0.023941940054374118, 0.028771976325883075, -0.02208347739606512, -0.03563432683126295, -0.03175533071332248, -0.030734360185633025, -0.03817715862734709, -0.039478323623635826, -0.013960176218222608, -0.004445682346206423, 0.012623027897793833, 0.01327411545022268, 0.008059849260345232, 0.005294133609990172, 0.011701917193507133, 0.012975284415868552, 0.030509704535537703, 0.0303958348076621, 0.03138547244400704, 0.019419523763922055, 0.022615704953702746, 0.018071009561870483, 0.011244396224460567, -0.0003226552632214365, 0.007062380270764588, -0.00038749670475144425, 0.01250060366726137, 0.010530602226621066, 0.015834716200169963, 0.01971428028376412, -0.008532471192518844, -0.007678442428807896, -0.00942577272028438, -0.019528424084533348, -0.022531233623973572, 0.004128016712934425, 0.01303909242203854, 0.029952642835140732, 0.029726574198133914, 0.023610469318799062, 0.02003359263008943, 0.026139520026273816, 0.02714970758174529, 0.04476056910882527, 0.04393852577183861, 0.04440608295283572, 0.03159815256997537, 0.034469841815647106, 0.029450991034655115, 0.02196496093063137, 0.00980409234902228, 0.017050884604637634, 0.008956647098934177, 0.02190437628948608, 0.019550159934625302, 0.024698071202476274, 0.02860281195463814, 0.021275310641135838, -0.02339368916115602, -0.021512817661781834, -0.03150707967446438, -0.033465242152307305, -0.004006809194356109, 0.005915578583073322, 0.024169376836488742, 0.024091796982928185, 0.017921000204765808, 0.01436139307846812, 0.020906370959469036, 0.022024649757653655, 0.04061640089613285, 0.03979061704615768, 0.040717759965134714, 0.027550036023369633, 0.03066474477618382, 0.02559260546400836, 0.018073631351426797, 0.005673302153485156, 0.013236256570580453, 0.005264347902822031, 0.018639763688676633, 0.016232169285737178, 0.021648590505037403, 0.025611919332914377, 0.01822090101008646, 0.01447157882199616, -0.004430060747058921, -0.017678791662923233, -0.021251201879737988, 0.010128576151449414, 0.019982336124428946, 0.03786037758093908, 0.03690632548566353, 0.029483886655232147, 0.025131095604099065, 0.03147441982168929, 0.03198913996372137, 0.05076678302032446, 0.04992037415504019, 0.050654396551886326, 0.036797580719429665, 0.03960979851616589, 0.03396158286148443, 0.025894416131695224, 0.01293554649731259, 0.02046427712078885, 0.01221638756069585, 0.025768873815344703, 0.02297660885346313, 0.028324598044754342, 0.03231331553007933, 0.024565708388030325, 0.020628418186732313, 0.019255466450332007]]}],                        {\"coloraxis\": {\"cmax\": 1, \"cmin\": -1, \"colorscale\": [[0.0, \"rgb(103,0,31)\"], [0.1, \"rgb(178,24,43)\"], [0.2, \"rgb(214,96,77)\"], [0.3, \"rgb(244,165,130)\"], [0.4, \"rgb(253,219,199)\"], [0.5, \"rgb(247,247,247)\"], [0.6, \"rgb(209,229,240)\"], [0.7, \"rgb(146,197,222)\"], [0.8, \"rgb(67,147,195)\"], [0.9, \"rgb(33,102,172)\"], [1.0, \"rgb(5,48,97)\"]]}, \"height\": 600, \"margin\": {\"t\": 60}, \"template\": {\"data\": {\"bar\": [{\"error_x\": {\"color\": \"#2a3f5f\"}, \"error_y\": {\"color\": \"#2a3f5f\"}, \"marker\": {\"line\": {\"color\": \"#E5ECF6\", \"width\": 0.5}}, \"type\": \"bar\"}], \"barpolar\": [{\"marker\": {\"line\": {\"color\": \"#E5ECF6\", \"width\": 0.5}}, \"type\": \"barpolar\"}], \"carpet\": [{\"aaxis\": {\"endlinecolor\": \"#2a3f5f\", \"gridcolor\": \"white\", \"linecolor\": \"white\", \"minorgridcolor\": \"white\", \"startlinecolor\": \"#2a3f5f\"}, \"baxis\": {\"endlinecolor\": \"#2a3f5f\", \"gridcolor\": \"white\", \"linecolor\": \"white\", \"minorgridcolor\": \"white\", \"startlinecolor\": \"#2a3f5f\"}, \"type\": \"carpet\"}], \"choropleth\": [{\"colorbar\": {\"outlinewidth\": 0, \"ticks\": \"\"}, \"type\": \"choropleth\"}], \"contour\": [{\"colorbar\": {\"outlinewidth\": 0, \"ticks\": \"\"}, \"colorscale\": [[0.0, \"#0d0887\"], [0.1111111111111111, \"#46039f\"], [0.2222222222222222, \"#7201a8\"], [0.3333333333333333, \"#9c179e\"], [0.4444444444444444, \"#bd3786\"], [0.5555555555555556, \"#d8576b\"], [0.6666666666666666, \"#ed7953\"], [0.7777777777777778, \"#fb9f3a\"], [0.8888888888888888, \"#fdca26\"], [1.0, \"#f0f921\"]], \"type\": \"contour\"}], \"contourcarpet\": [{\"colorbar\": {\"outlinewidth\": 0, \"ticks\": \"\"}, \"type\": \"contourcarpet\"}], \"heatmap\": [{\"colorbar\": {\"outlinewidth\": 0, \"ticks\": \"\"}, \"colorscale\": [[0.0, \"#0d0887\"], [0.1111111111111111, \"#46039f\"], [0.2222222222222222, \"#7201a8\"], [0.3333333333333333, \"#9c179e\"], [0.4444444444444444, \"#bd3786\"], [0.5555555555555556, \"#d8576b\"], [0.6666666666666666, \"#ed7953\"], [0.7777777777777778, \"#fb9f3a\"], [0.8888888888888888, \"#fdca26\"], [1.0, \"#f0f921\"]], \"type\": \"heatmap\"}], \"heatmapgl\": [{\"colorbar\": {\"outlinewidth\": 0, \"ticks\": \"\"}, \"colorscale\": [[0.0, \"#0d0887\"], [0.1111111111111111, \"#46039f\"], [0.2222222222222222, \"#7201a8\"], [0.3333333333333333, \"#9c179e\"], [0.4444444444444444, \"#bd3786\"], [0.5555555555555556, \"#d8576b\"], [0.6666666666666666, \"#ed7953\"], [0.7777777777777778, \"#fb9f3a\"], [0.8888888888888888, \"#fdca26\"], [1.0, \"#f0f921\"]], \"type\": \"heatmapgl\"}], \"histogram\": [{\"marker\": {\"colorbar\": {\"outlinewidth\": 0, \"ticks\": \"\"}}, \"type\": \"histogram\"}], \"histogram2d\": [{\"colorbar\": {\"outlinewidth\": 0, \"ticks\": \"\"}, \"colorscale\": [[0.0, \"#0d0887\"], [0.1111111111111111, \"#46039f\"], [0.2222222222222222, \"#7201a8\"], [0.3333333333333333, \"#9c179e\"], [0.4444444444444444, \"#bd3786\"], [0.5555555555555556, \"#d8576b\"], [0.6666666666666666, \"#ed7953\"], [0.7777777777777778, \"#fb9f3a\"], [0.8888888888888888, \"#fdca26\"], [1.0, \"#f0f921\"]], \"type\": \"histogram2d\"}], \"histogram2dcontour\": [{\"colorbar\": {\"outlinewidth\": 0, \"ticks\": \"\"}, \"colorscale\": [[0.0, \"#0d0887\"], [0.1111111111111111, \"#46039f\"], [0.2222222222222222, \"#7201a8\"], [0.3333333333333333, \"#9c179e\"], [0.4444444444444444, \"#bd3786\"], [0.5555555555555556, \"#d8576b\"], [0.6666666666666666, \"#ed7953\"], [0.7777777777777778, \"#fb9f3a\"], [0.8888888888888888, \"#fdca26\"], [1.0, \"#f0f921\"]], \"type\": \"histogram2dcontour\"}], \"mesh3d\": [{\"colorbar\": {\"outlinewidth\": 0, \"ticks\": \"\"}, \"type\": \"mesh3d\"}], \"parcoords\": [{\"line\": {\"colorbar\": {\"outlinewidth\": 0, \"ticks\": \"\"}}, \"type\": \"parcoords\"}], \"pie\": [{\"automargin\": true, \"type\": \"pie\"}], \"scatter\": [{\"marker\": {\"colorbar\": {\"outlinewidth\": 0, \"ticks\": \"\"}}, \"type\": \"scatter\"}], \"scatter3d\": [{\"line\": {\"colorbar\": {\"outlinewidth\": 0, \"ticks\": \"\"}}, \"marker\": {\"colorbar\": {\"outlinewidth\": 0, \"ticks\": \"\"}}, \"type\": \"scatter3d\"}], \"scattercarpet\": [{\"marker\": {\"colorbar\": {\"outlinewidth\": 0, \"ticks\": \"\"}}, \"type\": \"scattercarpet\"}], \"scattergeo\": [{\"marker\": {\"colorbar\": {\"outlinewidth\": 0, \"ticks\": \"\"}}, \"type\": \"scattergeo\"}], \"scattergl\": [{\"marker\": {\"colorbar\": {\"outlinewidth\": 0, \"ticks\": \"\"}}, \"type\": \"scattergl\"}], \"scattermapbox\": [{\"marker\": {\"colorbar\": {\"outlinewidth\": 0, \"ticks\": \"\"}}, \"type\": \"scattermapbox\"}], \"scatterpolar\": [{\"marker\": {\"colorbar\": {\"outlinewidth\": 0, \"ticks\": \"\"}}, \"type\": \"scatterpolar\"}], \"scatterpolargl\": [{\"marker\": {\"colorbar\": {\"outlinewidth\": 0, \"ticks\": \"\"}}, \"type\": \"scatterpolargl\"}], \"scatterternary\": [{\"marker\": {\"colorbar\": {\"outlinewidth\": 0, \"ticks\": \"\"}}, \"type\": \"scatterternary\"}], \"surface\": [{\"colorbar\": {\"outlinewidth\": 0, \"ticks\": \"\"}, \"colorscale\": [[0.0, \"#0d0887\"], [0.1111111111111111, \"#46039f\"], [0.2222222222222222, \"#7201a8\"], [0.3333333333333333, \"#9c179e\"], [0.4444444444444444, \"#bd3786\"], [0.5555555555555556, \"#d8576b\"], [0.6666666666666666, \"#ed7953\"], [0.7777777777777778, \"#fb9f3a\"], [0.8888888888888888, \"#fdca26\"], [1.0, \"#f0f921\"]], \"type\": \"surface\"}], \"table\": [{\"cells\": {\"fill\": {\"color\": \"#EBF0F8\"}, \"line\": {\"color\": \"white\"}}, \"header\": {\"fill\": {\"color\": \"#C8D4E3\"}, \"line\": {\"color\": \"white\"}}, \"type\": \"table\"}]}, \"layout\": {\"annotationdefaults\": {\"arrowcolor\": \"#2a3f5f\", \"arrowhead\": 0, \"arrowwidth\": 1}, \"autotypenumbers\": \"strict\", \"coloraxis\": {\"colorbar\": {\"outlinewidth\": 0, \"ticks\": \"\"}}, \"colorscale\": {\"diverging\": [[0, \"#8e0152\"], [0.1, \"#c51b7d\"], [0.2, \"#de77ae\"], [0.3, \"#f1b6da\"], [0.4, \"#fde0ef\"], [0.5, \"#f7f7f7\"], [0.6, \"#e6f5d0\"], [0.7, \"#b8e186\"], [0.8, \"#7fbc41\"], [0.9, \"#4d9221\"], [1, \"#276419\"]], \"sequential\": [[0.0, \"#0d0887\"], [0.1111111111111111, \"#46039f\"], [0.2222222222222222, \"#7201a8\"], [0.3333333333333333, \"#9c179e\"], [0.4444444444444444, \"#bd3786\"], [0.5555555555555556, \"#d8576b\"], [0.6666666666666666, \"#ed7953\"], [0.7777777777777778, \"#fb9f3a\"], [0.8888888888888888, \"#fdca26\"], [1.0, \"#f0f921\"]], \"sequentialminus\": [[0.0, \"#0d0887\"], [0.1111111111111111, \"#46039f\"], [0.2222222222222222, \"#7201a8\"], [0.3333333333333333, \"#9c179e\"], [0.4444444444444444, \"#bd3786\"], [0.5555555555555556, \"#d8576b\"], [0.6666666666666666, \"#ed7953\"], [0.7777777777777778, \"#fb9f3a\"], [0.8888888888888888, \"#fdca26\"], [1.0, \"#f0f921\"]]}, \"colorway\": [\"#636efa\", \"#EF553B\", \"#00cc96\", \"#ab63fa\", \"#FFA15A\", \"#19d3f3\", \"#FF6692\", \"#B6E880\", \"#FF97FF\", \"#FECB52\"], \"font\": {\"color\": \"#2a3f5f\"}, \"geo\": {\"bgcolor\": \"white\", \"lakecolor\": \"white\", \"landcolor\": \"#E5ECF6\", \"showlakes\": true, \"showland\": true, \"subunitcolor\": \"white\"}, \"hoverlabel\": {\"align\": \"left\"}, \"hovermode\": \"closest\", \"mapbox\": {\"style\": \"light\"}, \"paper_bgcolor\": \"white\", \"plot_bgcolor\": \"#E5ECF6\", \"polar\": {\"angularaxis\": {\"gridcolor\": \"white\", \"linecolor\": \"white\", \"ticks\": \"\"}, \"bgcolor\": \"#E5ECF6\", \"radialaxis\": {\"gridcolor\": \"white\", \"linecolor\": \"white\", \"ticks\": \"\"}}, \"scene\": {\"xaxis\": {\"backgroundcolor\": \"#E5ECF6\", \"gridcolor\": \"white\", \"gridwidth\": 2, \"linecolor\": \"white\", \"showbackground\": true, \"ticks\": \"\", \"zerolinecolor\": \"white\"}, \"yaxis\": {\"backgroundcolor\": \"#E5ECF6\", \"gridcolor\": \"white\", \"gridwidth\": 2, \"linecolor\": \"white\", \"showbackground\": true, \"ticks\": \"\", \"zerolinecolor\": \"white\"}, \"zaxis\": {\"backgroundcolor\": \"#E5ECF6\", \"gridcolor\": \"white\", \"gridwidth\": 2, \"linecolor\": \"white\", \"showbackground\": true, \"ticks\": \"\", \"zerolinecolor\": \"white\"}}, \"shapedefaults\": {\"line\": {\"color\": \"#2a3f5f\"}}, \"ternary\": {\"aaxis\": {\"gridcolor\": \"white\", \"linecolor\": \"white\", \"ticks\": \"\"}, \"baxis\": {\"gridcolor\": \"white\", \"linecolor\": \"white\", \"ticks\": \"\"}, \"bgcolor\": \"#E5ECF6\", \"caxis\": {\"gridcolor\": \"white\", \"linecolor\": \"white\", \"ticks\": \"\"}}, \"title\": {\"x\": 0.05}, \"xaxis\": {\"automargin\": true, \"gridcolor\": \"white\", \"linecolor\": \"white\", \"ticks\": \"\", \"title\": {\"standoff\": 15}, \"zerolinecolor\": \"white\", \"zerolinewidth\": 2}, \"yaxis\": {\"automargin\": true, \"gridcolor\": \"white\", \"linecolor\": \"white\", \"ticks\": \"\", \"title\": {\"standoff\": 15}, \"zerolinecolor\": \"white\", \"zerolinewidth\": 2}}}, \"width\": 14000, \"xaxis\": {\"anchor\": \"y\", \"constrain\": \"domain\", \"domain\": [0.0, 1.0], \"scaleanchor\": \"y\"}, \"yaxis\": {\"anchor\": \"x\", \"autorange\": \"reversed\", \"constrain\": \"domain\", \"domain\": [0.0, 1.0]}},                        {\"responsive\": true}                    ).then(function(){\n",
       "                            \n",
       "var gd = document.getElementById('78bffa94-20fb-4441-9514-92e6d3574575');\n",
       "var x = new MutationObserver(function (mutations, observer) {{\n",
       "        var display = window.getComputedStyle(gd).display;\n",
       "        if (!display || display === 'none') {{\n",
       "            console.log([gd, 'removed!']);\n",
       "            Plotly.purge(gd);\n",
       "            observer.disconnect();\n",
       "        }}\n",
       "}});\n",
       "\n",
       "// Listen for the removal of the full notebook cells\n",
       "var notebookContainer = gd.closest('#notebook-container');\n",
       "if (notebookContainer) {{\n",
       "    x.observe(notebookContainer, {childList: true});\n",
       "}}\n",
       "\n",
       "// Listen for the clearing of the current output cell\n",
       "var outputEl = gd.closest('.output');\n",
       "if (outputEl) {{\n",
       "    x.observe(outputEl, {childList: true});\n",
       "}}\n",
       "\n",
       "                        })                };                });            </script>        </div>"
      ]
     },
     "metadata": {},
     "output_type": "display_data"
    }
   ],
   "source": [
    "mapa_calor(df_medmov.drop(columns=cols_lag))"
   ]
  },
  {
   "cell_type": "code",
   "execution_count": 48,
   "id": "c7a2f077",
   "metadata": {},
   "outputs": [
    {
     "data": {
      "text/plain": [
       "Index(['GSRAII Index', 'GSRAII_diff', 'acwi', 'acwi_lag_1', 'acwi_lag_2',\n",
       "       'acwi_lag_3', 'acwi_lag_4', 'acwi_lag_5', 'acwi_lag_6', 'acwi_lag_7',\n",
       "       ...\n",
       "       'acwi_lag_10_medmov_20', 'acwi_lag_10_medmov_21',\n",
       "       'acwi_lag_10_medmov_22', 'acwi_lag_10_medmov_23',\n",
       "       'acwi_lag_10_medmov_24', 'acwi_lag_10_medmov_25',\n",
       "       'acwi_lag_10_medmov_26', 'acwi_lag_10_medmov_27',\n",
       "       'acwi_lag_10_medmov_28', 'acwi_lag_10_medmov_29'],\n",
       "      dtype='object', length=293)"
      ]
     },
     "execution_count": 48,
     "metadata": {},
     "output_type": "execute_result"
    }
   ],
   "source": [
    "df_medmov.columns"
   ]
  },
  {
   "cell_type": "code",
   "execution_count": 13,
   "id": "f6ee1bb2",
   "metadata": {},
   "outputs": [],
   "source": [
    "# std, diferenca de media, IFR, MACD"
   ]
  }
 ],
 "metadata": {
  "kernelspec": {
   "display_name": "Python 3",
   "language": "python",
   "name": "python3"
  },
  "language_info": {
   "codemirror_mode": {
    "name": "ipython",
    "version": 3
   },
   "file_extension": ".py",
   "mimetype": "text/x-python",
   "name": "python",
   "nbconvert_exporter": "python",
   "pygments_lexer": "ipython3",
   "version": "3.7.1"
  }
 },
 "nbformat": 4,
 "nbformat_minor": 5
}
