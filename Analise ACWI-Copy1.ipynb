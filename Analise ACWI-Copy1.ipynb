{
 "cells": [
  {
   "cell_type": "code",
   "execution_count": 1,
   "id": "1158725e",
   "metadata": {},
   "outputs": [],
   "source": [
    "import pandas as pd\n",
    "import numpy as np\n",
    "import plotly.express as px\n",
    "\n",
    "import plotly.graph_objects as go"
   ]
  },
  {
   "cell_type": "code",
   "execution_count": 16,
   "id": "f92663d6",
   "metadata": {},
   "outputs": [],
   "source": [
    "# df do indice\n",
    "df = pd.read_csv('dados/retorno_portfolio.csv', parse_dates=['Date'])\n",
    "df.fillna(0, inplace=True)\n",
    "\n",
    "df_gsrai = pd.read_csv('dados/GSRAII.csv', parse_dates=['Date']).sort_values('Date')\n",
    "\n",
    "df = df.merge(df_gsrai, on='Date')\n",
    "\n",
    "# Colocar variação percentual pct_change()\n",
    "df['retorno'] = df['ACWI'] #ACWI\n",
    "\n",
    "\n",
    "df['retorno acumulado'] = df['retorno'] + 1\n",
    "df['retorno acumulado'] = df['retorno acumulado'].cumprod()\n",
    "\n",
    "df.drop(columns=['ACWI', 'BCOM Index', 'JPEGCOMP Index', 'SP500BDT Index', 'DGS10', 'retorno'], inplace=True)\n",
    "\n",
    "df.sort_values('Date', inplace=True)\n",
    "df['year_week'] = df['Date'].dt.strftime('%Y-%U')"
   ]
  },
  {
   "cell_type": "code",
   "execution_count": 17,
   "id": "04ef6e72",
   "metadata": {},
   "outputs": [],
   "source": [
    "#%% Semanal\n",
    "df_gp = df.groupby('year_week').agg('last')"
   ]
  },
  {
   "cell_type": "code",
   "execution_count": 13,
   "id": "c8a75501",
   "metadata": {},
   "outputs": [],
   "source": [
    "# df_gp['pct'] = df_gp['retorno acumulado'].pct_change() *100\n",
    "for pct in range(1,6):\n",
    "    df_gp[f'pct_{pct}sem'] = (df_gp['retorno acumulado']/df_gp['retorno acumulado'].shift(pct).values -1) * 100"
   ]
  },
  {
   "cell_type": "code",
   "execution_count": 14,
   "id": "d501cd44",
   "metadata": {},
   "outputs": [],
   "source": [
    "df_gp['mean'] = df_gp['GSRAII Index'].rolling(3).mean()\n",
    "\n",
    "up_down = df_gp['mean']\n",
    "\n",
    "limit =  df_gp['GSRAII Index'].mean() #-.0  #0.9   # media -0.08605222734255 \n",
    "df_gp['gsrai_gt_up'] = np.where((df_gp['GSRAII Index'] > up_down) & (df_gp['GSRAII Index'] >= limit), 1, 0)\n",
    "df_gp['gsrai_gt_down'] = np.where((df_gp['GSRAII Index'] < up_down) & (df_gp['GSRAII Index'] >= limit), 1, 0)\n",
    "df_gp['gsrai_lt_up'] = np.where((df_gp['GSRAII Index'] > up_down) & (df_gp['GSRAII Index'] < limit), 1, 0)\n",
    "df_gp['gsrai_lt_down'] = np.where((df_gp['GSRAII Index'] < up_down) & (df_gp['GSRAII Index'] < limit), 1, 0)"
   ]
  },
  {
   "cell_type": "code",
   "execution_count": 7,
   "id": "e9ba0d22",
   "metadata": {},
   "outputs": [
    {
     "data": {
      "text/html": [
       "<div>\n",
       "<style scoped>\n",
       "    .dataframe tbody tr th:only-of-type {\n",
       "        vertical-align: middle;\n",
       "    }\n",
       "\n",
       "    .dataframe tbody tr th {\n",
       "        vertical-align: top;\n",
       "    }\n",
       "\n",
       "    .dataframe thead th {\n",
       "        text-align: right;\n",
       "    }\n",
       "</style>\n",
       "<table border=\"1\" class=\"dataframe\">\n",
       "  <thead>\n",
       "    <tr style=\"text-align: right;\">\n",
       "      <th></th>\n",
       "      <th>gsrai_gt_up</th>\n",
       "      <th>gsrai_gt_down</th>\n",
       "      <th>gsrai_lt_up</th>\n",
       "      <th>gsrai_lt_down</th>\n",
       "    </tr>\n",
       "  </thead>\n",
       "  <tbody>\n",
       "    <tr>\n",
       "      <th>count</th>\n",
       "      <td>405.000000</td>\n",
       "      <td>288.000000</td>\n",
       "      <td>281.000000</td>\n",
       "      <td>316.000000</td>\n",
       "    </tr>\n",
       "    <tr>\n",
       "      <th>mean</th>\n",
       "      <td>1.182975</td>\n",
       "      <td>0.666616</td>\n",
       "      <td>0.812484</td>\n",
       "      <td>-1.639127</td>\n",
       "    </tr>\n",
       "    <tr>\n",
       "      <th>std</th>\n",
       "      <td>1.738942</td>\n",
       "      <td>1.740031</td>\n",
       "      <td>3.398620</td>\n",
       "      <td>3.303554</td>\n",
       "    </tr>\n",
       "    <tr>\n",
       "      <th>min</th>\n",
       "      <td>-4.588656</td>\n",
       "      <td>-5.463069</td>\n",
       "      <td>-16.723511</td>\n",
       "      <td>-19.931010</td>\n",
       "    </tr>\n",
       "    <tr>\n",
       "      <th>25%</th>\n",
       "      <td>0.187098</td>\n",
       "      <td>-0.352582</td>\n",
       "      <td>-0.704950</td>\n",
       "      <td>-3.094791</td>\n",
       "    </tr>\n",
       "    <tr>\n",
       "      <th>50%</th>\n",
       "      <td>1.186789</td>\n",
       "      <td>0.928176</td>\n",
       "      <td>1.054374</td>\n",
       "      <td>-1.286281</td>\n",
       "    </tr>\n",
       "    <tr>\n",
       "      <th>75%</th>\n",
       "      <td>2.177978</td>\n",
       "      <td>1.821057</td>\n",
       "      <td>2.648568</td>\n",
       "      <td>0.288770</td>\n",
       "    </tr>\n",
       "    <tr>\n",
       "      <th>max</th>\n",
       "      <td>9.037865</td>\n",
       "      <td>5.834753</td>\n",
       "      <td>13.368574</td>\n",
       "      <td>5.100577</td>\n",
       "    </tr>\n",
       "  </tbody>\n",
       "</table>\n",
       "</div>"
      ],
      "text/plain": [
       "       gsrai_gt_up  gsrai_gt_down  gsrai_lt_up  gsrai_lt_down\n",
       "count   405.000000     288.000000   281.000000     316.000000\n",
       "mean      1.182975       0.666616     0.812484      -1.639127\n",
       "std       1.738942       1.740031     3.398620       3.303554\n",
       "min      -4.588656      -5.463069   -16.723511     -19.931010\n",
       "25%       0.187098      -0.352582    -0.704950      -3.094791\n",
       "50%       1.186789       0.928176     1.054374      -1.286281\n",
       "75%       2.177978       1.821057     2.648568       0.288770\n",
       "max       9.037865       5.834753    13.368574       5.100577"
      ]
     },
     "execution_count": 7,
     "metadata": {},
     "output_type": "execute_result"
    }
   ],
   "source": [
    "lista = []\n",
    "regras = ['gsrai_gt_up', 'gsrai_gt_down', 'gsrai_lt_up', 'gsrai_lt_down']\n",
    "pct =  'pct_sem'\n",
    "for col in regras:\n",
    "    desc = df_gp[df_gp[col]==1][[pct]].describe().rename(columns={pct: col})\n",
    "    lista.append(desc)\n",
    "pd.concat(lista, axis=1)"
   ]
  },
  {
   "cell_type": "code",
   "execution_count": 8,
   "id": "caa47da7",
   "metadata": {},
   "outputs": [
    {
     "data": {
      "text/html": [
       "<div>\n",
       "<style scoped>\n",
       "    .dataframe tbody tr th:only-of-type {\n",
       "        vertical-align: middle;\n",
       "    }\n",
       "\n",
       "    .dataframe tbody tr th {\n",
       "        vertical-align: top;\n",
       "    }\n",
       "\n",
       "    .dataframe thead th {\n",
       "        text-align: right;\n",
       "    }\n",
       "</style>\n",
       "<table border=\"1\" class=\"dataframe\">\n",
       "  <thead>\n",
       "    <tr style=\"text-align: right;\">\n",
       "      <th></th>\n",
       "      <th>gsrai_gt_up</th>\n",
       "      <th>gsrai_gt_down</th>\n",
       "      <th>gsrai_lt_up</th>\n",
       "      <th>gsrai_lt_down</th>\n",
       "    </tr>\n",
       "  </thead>\n",
       "  <tbody>\n",
       "    <tr>\n",
       "      <th>count</th>\n",
       "      <td>384.000000</td>\n",
       "      <td>272.000000</td>\n",
       "      <td>267.000000</td>\n",
       "      <td>308.000000</td>\n",
       "    </tr>\n",
       "    <tr>\n",
       "      <th>mean</th>\n",
       "      <td>1.177418</td>\n",
       "      <td>0.751213</td>\n",
       "      <td>0.896412</td>\n",
       "      <td>-1.357097</td>\n",
       "    </tr>\n",
       "    <tr>\n",
       "      <th>std</th>\n",
       "      <td>1.417451</td>\n",
       "      <td>1.451547</td>\n",
       "      <td>2.631189</td>\n",
       "      <td>2.560608</td>\n",
       "    </tr>\n",
       "    <tr>\n",
       "      <th>min</th>\n",
       "      <td>-2.244296</td>\n",
       "      <td>-2.800433</td>\n",
       "      <td>-5.976291</td>\n",
       "      <td>-8.103567</td>\n",
       "    </tr>\n",
       "    <tr>\n",
       "      <th>25%</th>\n",
       "      <td>0.296487</td>\n",
       "      <td>-0.151431</td>\n",
       "      <td>-0.526712</td>\n",
       "      <td>-2.929136</td>\n",
       "    </tr>\n",
       "    <tr>\n",
       "      <th>50%</th>\n",
       "      <td>1.201463</td>\n",
       "      <td>0.952525</td>\n",
       "      <td>1.056978</td>\n",
       "      <td>-1.238969</td>\n",
       "    </tr>\n",
       "    <tr>\n",
       "      <th>75%</th>\n",
       "      <td>2.140207</td>\n",
       "      <td>1.810499</td>\n",
       "      <td>2.601379</td>\n",
       "      <td>0.301099</td>\n",
       "    </tr>\n",
       "    <tr>\n",
       "      <th>max</th>\n",
       "      <td>4.564081</td>\n",
       "      <td>3.760205</td>\n",
       "      <td>7.432370</td>\n",
       "      <td>4.674613</td>\n",
       "    </tr>\n",
       "  </tbody>\n",
       "</table>\n",
       "</div>"
      ],
      "text/plain": [
       "       gsrai_gt_up  gsrai_gt_down  gsrai_lt_up  gsrai_lt_down\n",
       "count   384.000000     272.000000   267.000000     308.000000\n",
       "mean      1.177418       0.751213     0.896412      -1.357097\n",
       "std       1.417451       1.451547     2.631189       2.560608\n",
       "min      -2.244296      -2.800433    -5.976291      -8.103567\n",
       "25%       0.296487      -0.151431    -0.526712      -2.929136\n",
       "50%       1.201463       0.952525     1.056978      -1.238969\n",
       "75%       2.140207       1.810499     2.601379       0.301099\n",
       "max       4.564081       3.760205     7.432370       4.674613"
      ]
     },
     "execution_count": 8,
     "metadata": {},
     "output_type": "execute_result"
    }
   ],
   "source": [
    "lista=[]\n",
    "for col in regras:\n",
    "    df_desc = df_gp[df_gp[col]==1][[pct]]#.describe().rename(columns={pct: col})\n",
    "    m_lower, m_upper = df_desc.std()*-2+df_desc.mean(), df_desc.std()*2+df_desc.mean()\n",
    "    df_desc = df_desc[(df_desc>m_lower)&(df_desc<m_upper)].dropna()\n",
    "    df_desc.rename(columns={pct: col}, inplace=True)\n",
    "    desc = df_desc.describe()\n",
    "    lista.append(desc)\n",
    "pd.concat(lista, axis=1)"
   ]
  },
  {
   "cell_type": "code",
   "execution_count": 9,
   "id": "570de331",
   "metadata": {
    "scrolled": true
   },
   "outputs": [
    {
     "data": {
      "text/plain": [
       "<AxesSubplot:>"
      ]
     },
     "execution_count": 9,
     "metadata": {},
     "output_type": "execute_result"
    },
    {
     "data": {
      "image/png": "[encoded data removed]",
      "text/plain": [
       "<Figure size 432x288 with 1 Axes>"
      ]
     },
     "metadata": {
      "needs_background": "light"
     },
     "output_type": "display_data"
    }
   ],
   "source": [
    "df_gp[df_gp[regras[3]]==1][pct].hist(bins=100)"
   ]
  },
  {
   "cell_type": "code",
   "execution_count": 10,
   "id": "5e16c552",
   "metadata": {},
   "outputs": [
    {
     "ename": "KeyError",
     "evalue": "'pct_ret'",
     "output_type": "error",
     "traceback": [
      "\u001b[1;31m---------------------------------------------------------------------------\u001b[0m",
      "\u001b[1;31mKeyError\u001b[0m                                  Traceback (most recent call last)",
      "\u001b[1;32mC:\\ProgramData\\Anaconda3\\Lib\\site-packages\\pandas\\core\\indexes\\base.py\u001b[0m in \u001b[0;36mget_loc\u001b[1;34m(self, key, method, tolerance)\u001b[0m\n\u001b[0;32m   3079\u001b[0m             \u001b[1;32mtry\u001b[0m\u001b[1;33m:\u001b[0m\u001b[1;33m\u001b[0m\u001b[1;33m\u001b[0m\u001b[0m\n\u001b[1;32m-> 3080\u001b[1;33m                 \u001b[1;32mreturn\u001b[0m \u001b[0mself\u001b[0m\u001b[1;33m.\u001b[0m\u001b[0m_engine\u001b[0m\u001b[1;33m.\u001b[0m\u001b[0mget_loc\u001b[0m\u001b[1;33m(\u001b[0m\u001b[0mcasted_key\u001b[0m\u001b[1;33m)\u001b[0m\u001b[1;33m\u001b[0m\u001b[1;33m\u001b[0m\u001b[0m\n\u001b[0m\u001b[0;32m   3081\u001b[0m             \u001b[1;32mexcept\u001b[0m \u001b[0mKeyError\u001b[0m \u001b[1;32mas\u001b[0m \u001b[0merr\u001b[0m\u001b[1;33m:\u001b[0m\u001b[1;33m\u001b[0m\u001b[1;33m\u001b[0m\u001b[0m\n",
      "\u001b[1;32mpandas\\_libs\\index.pyx\u001b[0m in \u001b[0;36mpandas._libs.index.IndexEngine.get_loc\u001b[1;34m()\u001b[0m\n",
      "\u001b[1;32mpandas\\_libs\\index.pyx\u001b[0m in \u001b[0;36mpandas._libs.index.IndexEngine.get_loc\u001b[1;34m()\u001b[0m\n",
      "\u001b[1;32mpandas\\_libs\\hashtable_class_helper.pxi\u001b[0m in \u001b[0;36mpandas._libs.hashtable.PyObjectHashTable.get_item\u001b[1;34m()\u001b[0m\n",
      "\u001b[1;32mpandas\\_libs\\hashtable_class_helper.pxi\u001b[0m in \u001b[0;36mpandas._libs.hashtable.PyObjectHashTable.get_item\u001b[1;34m()\u001b[0m\n",
      "\u001b[1;31mKeyError\u001b[0m: 'pct_ret'",
      "\nThe above exception was the direct cause of the following exception:\n",
      "\u001b[1;31mKeyError\u001b[0m                                  Traceback (most recent call last)",
      "\u001b[1;32m<ipython-input-10-0a8a7b6f8264>\u001b[0m in \u001b[0;36m<module>\u001b[1;34m\u001b[0m\n\u001b[1;32m----> 1\u001b[1;33m \u001b[0mnp\u001b[0m\u001b[1;33m.\u001b[0m\u001b[0mquantile\u001b[0m\u001b[1;33m(\u001b[0m\u001b[0mdf_gp\u001b[0m\u001b[1;33m[\u001b[0m\u001b[1;34m'pct_ret'\u001b[0m\u001b[1;33m]\u001b[0m\u001b[1;33m.\u001b[0m\u001b[0mdropna\u001b[0m\u001b[1;33m(\u001b[0m\u001b[1;33m)\u001b[0m\u001b[1;33m,\u001b[0m\u001b[1;36m0.05\u001b[0m\u001b[1;33m,\u001b[0m \u001b[0maxis\u001b[0m\u001b[1;33m=\u001b[0m\u001b[1;36m0\u001b[0m\u001b[1;33m)\u001b[0m\u001b[1;33m\u001b[0m\u001b[1;33m\u001b[0m\u001b[0m\n\u001b[0m",
      "\u001b[1;32mC:\\ProgramData\\Anaconda3\\Lib\\site-packages\\pandas\\core\\frame.py\u001b[0m in \u001b[0;36m__getitem__\u001b[1;34m(self, key)\u001b[0m\n\u001b[0;32m   3022\u001b[0m             \u001b[1;32mif\u001b[0m \u001b[0mself\u001b[0m\u001b[1;33m.\u001b[0m\u001b[0mcolumns\u001b[0m\u001b[1;33m.\u001b[0m\u001b[0mnlevels\u001b[0m \u001b[1;33m>\u001b[0m \u001b[1;36m1\u001b[0m\u001b[1;33m:\u001b[0m\u001b[1;33m\u001b[0m\u001b[1;33m\u001b[0m\u001b[0m\n\u001b[0;32m   3023\u001b[0m                 \u001b[1;32mreturn\u001b[0m \u001b[0mself\u001b[0m\u001b[1;33m.\u001b[0m\u001b[0m_getitem_multilevel\u001b[0m\u001b[1;33m(\u001b[0m\u001b[0mkey\u001b[0m\u001b[1;33m)\u001b[0m\u001b[1;33m\u001b[0m\u001b[1;33m\u001b[0m\u001b[0m\n\u001b[1;32m-> 3024\u001b[1;33m             \u001b[0mindexer\u001b[0m \u001b[1;33m=\u001b[0m \u001b[0mself\u001b[0m\u001b[1;33m.\u001b[0m\u001b[0mcolumns\u001b[0m\u001b[1;33m.\u001b[0m\u001b[0mget_loc\u001b[0m\u001b[1;33m(\u001b[0m\u001b[0mkey\u001b[0m\u001b[1;33m)\u001b[0m\u001b[1;33m\u001b[0m\u001b[1;33m\u001b[0m\u001b[0m\n\u001b[0m\u001b[0;32m   3025\u001b[0m             \u001b[1;32mif\u001b[0m \u001b[0mis_integer\u001b[0m\u001b[1;33m(\u001b[0m\u001b[0mindexer\u001b[0m\u001b[1;33m)\u001b[0m\u001b[1;33m:\u001b[0m\u001b[1;33m\u001b[0m\u001b[1;33m\u001b[0m\u001b[0m\n\u001b[0;32m   3026\u001b[0m                 \u001b[0mindexer\u001b[0m \u001b[1;33m=\u001b[0m \u001b[1;33m[\u001b[0m\u001b[0mindexer\u001b[0m\u001b[1;33m]\u001b[0m\u001b[1;33m\u001b[0m\u001b[1;33m\u001b[0m\u001b[0m\n",
      "\u001b[1;32mC:\\ProgramData\\Anaconda3\\Lib\\site-packages\\pandas\\core\\indexes\\base.py\u001b[0m in \u001b[0;36mget_loc\u001b[1;34m(self, key, method, tolerance)\u001b[0m\n\u001b[0;32m   3080\u001b[0m                 \u001b[1;32mreturn\u001b[0m \u001b[0mself\u001b[0m\u001b[1;33m.\u001b[0m\u001b[0m_engine\u001b[0m\u001b[1;33m.\u001b[0m\u001b[0mget_loc\u001b[0m\u001b[1;33m(\u001b[0m\u001b[0mcasted_key\u001b[0m\u001b[1;33m)\u001b[0m\u001b[1;33m\u001b[0m\u001b[1;33m\u001b[0m\u001b[0m\n\u001b[0;32m   3081\u001b[0m             \u001b[1;32mexcept\u001b[0m \u001b[0mKeyError\u001b[0m \u001b[1;32mas\u001b[0m \u001b[0merr\u001b[0m\u001b[1;33m:\u001b[0m\u001b[1;33m\u001b[0m\u001b[1;33m\u001b[0m\u001b[0m\n\u001b[1;32m-> 3082\u001b[1;33m                 \u001b[1;32mraise\u001b[0m \u001b[0mKeyError\u001b[0m\u001b[1;33m(\u001b[0m\u001b[0mkey\u001b[0m\u001b[1;33m)\u001b[0m \u001b[1;32mfrom\u001b[0m \u001b[0merr\u001b[0m\u001b[1;33m\u001b[0m\u001b[1;33m\u001b[0m\u001b[0m\n\u001b[0m\u001b[0;32m   3083\u001b[0m \u001b[1;33m\u001b[0m\u001b[0m\n\u001b[0;32m   3084\u001b[0m         \u001b[1;32mif\u001b[0m \u001b[0mtolerance\u001b[0m \u001b[1;32mis\u001b[0m \u001b[1;32mnot\u001b[0m \u001b[1;32mNone\u001b[0m\u001b[1;33m:\u001b[0m\u001b[1;33m\u001b[0m\u001b[1;33m\u001b[0m\u001b[0m\n",
      "\u001b[1;31mKeyError\u001b[0m: 'pct_ret'"
     ]
    }
   ],
   "source": [
    "np.quantile(df_gp['pct_ret'].dropna(),0.05, axis=0)"
   ]
  },
  {
   "cell_type": "code",
   "execution_count": null,
   "id": "6a6414c9",
   "metadata": {
    "scrolled": true
   },
   "outputs": [],
   "source": [
    "pct =  'pct_2sem'\n",
    "cut = df_gp[pct].quantile(0.95)\n",
    "df_gp[(df_gp[pct]>=cut)].sum()"
   ]
  },
  {
   "cell_type": "code",
   "execution_count": null,
   "id": "75333758",
   "metadata": {
    "scrolled": true
   },
   "outputs": [],
   "source": [
    "df_gp[(df_gp['pct_ret']>cut) & (df_gp['gsrai_lt_down']==1)]['pct_ret'].describe()"
   ]
  },
  {
   "cell_type": "code",
   "execution_count": null,
   "id": "cd17880c",
   "metadata": {},
   "outputs": [],
   "source": [
    "df_gp['2020-01':'2020-18']"
   ]
  },
  {
   "cell_type": "code",
   "execution_count": null,
   "id": "08d13a1a",
   "metadata": {},
   "outputs": [],
   "source": [
    "df_gp[(df_gp['pct_ret']>0) & (df_gp['gsrai_lt_down']==1)].index"
   ]
  },
  {
   "cell_type": "code",
   "execution_count": null,
   "id": "443ef383",
   "metadata": {},
   "outputs": [],
   "source": [
    "df_gp['2019-35':'2019-45']"
   ]
  },
  {
   "cell_type": "code",
   "execution_count": null,
   "id": "a9216bf6",
   "metadata": {
    "scrolled": true
   },
   "outputs": [],
   "source": [
    "df_gp[(df_gp['pct_ret']<0) & (df_gp['gsrai_lt_down']==1)]['pct_ret'].describe()"
   ]
  },
  {
   "cell_type": "code",
   "execution_count": null,
   "id": "8ce18de9",
   "metadata": {},
   "outputs": [],
   "source": [
    "df_gp[(df_gp['gsrai_lt_down']==1)]['pct_ret'].describe()"
   ]
  },
  {
   "cell_type": "code",
   "execution_count": null,
   "id": "c843c254",
   "metadata": {},
   "outputs": [],
   "source": [
    "df_gp[(df_gp['gsrai_lt_down']==1)]['pct_ret_shift'].describe()"
   ]
  },
  {
   "cell_type": "code",
   "execution_count": null,
   "id": "5fe0bf19",
   "metadata": {},
   "outputs": [],
   "source": [
    "#%%\n",
    "\n",
    "\n",
    "df_corr= df_gp[df_gp['category']==1].corr()\n",
    "\n",
    "df_all = df_gp.merge(df, right_on='year_week', left_on='year_week' , how='outer')\n",
    "[['category','year_week', 'Date_y', 'GSRAII Index_y', 'retorno_y']]\n",
    "df_all = df_all[df_all['category']==0]\n",
    "\n",
    "df_all_gp = df_all.groupby('year_week').agg(['std', 'sum', 'min', 'max'])\n",
    "\n",
    "\n",
    "df_filtrado = df_all[(df_all['year_week']=='2020-12') | (df_all['year_week']=='2020-11')]\n",
    "\n",
    "\n",
    "\n",
    "\n",
    "\n",
    "#%% Grafico\n",
    "\n",
    "fig = px.line(df, x=\"Date\", y=['GSRAII Index', 'retorno acumulado'])\n",
    "\n",
    "# fig = px.line(df_gp, x=\"Date\", y=['GSRAII Index', 'pct_ret'])\n",
    "\n",
    "fig.add_trace(go.Scatter(\n",
    "    x=df_gp[df_gp['category']==1]['Date'],\n",
    "    y=df_gp[df_gp['category']==1]['pct_ret'],\n",
    "    marker_size=10, mode='markers', name='Queda',\n",
    "    ))\n",
    "\n",
    "fig.show()"
   ]
  },
  {
   "cell_type": "code",
   "execution_count": null,
   "id": "84b58120",
   "metadata": {},
   "outputs": [],
   "source": []
  }
 ],
 "metadata": {
  "kernelspec": {
   "display_name": "Python 3",
   "language": "python",
   "name": "python3"
  },
  "language_info": {
   "codemirror_mode": {
    "name": "ipython",
    "version": 3
   },
   "file_extension": ".py",
   "mimetype": "text/x-python",
   "name": "python",
   "nbconvert_exporter": "python",
   "pygments_lexer": "ipython3",
   "version": "3.7.1"
  }
 },
 "nbformat": 4,
 "nbformat_minor": 5
}
