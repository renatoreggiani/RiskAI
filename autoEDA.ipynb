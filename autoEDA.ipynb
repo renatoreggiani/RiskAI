{
 "cells": [
  {
   "cell_type": "code",
   "execution_count": null,
   "id": "1d085080",
   "metadata": {},
   "outputs": [],
   "source": [
    "# -*- coding: utf-8 -*-\n",
    "\"\"\"AutoEDA.ipynb\n",
    "\n",
    "# Análise Exploratória de Dados\n",
    "\"\"\"\n",
    "\n",
    "\n",
    "from preprocess import get_datas\n",
    "\n",
    "#%% Semanal\n",
    "\n",
    "diff_gsrai = -0.1\n",
    "\n",
    "df = get_datas(return_df=True, diff_gsrai=diff_gsrai)\n",
    "\n",
    "# 'GSRAII Index' como variável dependente\n",
    "df['y'] = df['GSRAII Index'].shift(-1)\n",
    "df.dropna(inplace=True)\n"
   ]
  },
  {
   "cell_type": "code",
   "execution_count": null,
   "id": "31959975",
   "metadata": {},
   "outputs": [],
   "source": [
    "df"
   ]
  },
  {
   "cell_type": "code",
   "execution_count": null,
   "id": "6fb54c55",
   "metadata": {},
   "outputs": [],
   "source": [
    "#!pip install pandas-profiling==2.7.1\n",
    "#!pip install autoviz\n",
    "\n",
    "#import matplotlib.pyplot as plt\n",
    "from pandas_profiling import ProfileReport\n",
    "from autoviz.AutoViz_Class import AutoViz_Class"
   ]
  },
  {
   "cell_type": "code",
   "execution_count": null,
   "id": "e2202bbb",
   "metadata": {},
   "outputs": [],
   "source": [
    "ProfileReport(df)"
   ]
  },
  {
   "cell_type": "code",
   "execution_count": null,
   "id": "6589337b",
   "metadata": {},
   "outputs": [],
   "source": [
    "AV = AutoViz_Class()"
   ]
  },
  {
   "cell_type": "code",
   "execution_count": null,
   "id": "6dff04c9",
   "metadata": {},
   "outputs": [],
   "source": [
    "# As imagens ficam salvas na pasta  #/RiskAI/AutoViz_Plots/y\n",
    "\n",
    "dft = AV.AutoViz(\n",
    "    filename= \"\",\n",
    "    depVar = \"y\",\n",
    "    dfte = df,\n",
    "    header = 0,\n",
    "    verbose=0,\n",
    "    lowess = False,\n",
    "    chart_format = \"jpg\",\n",
    "    max_rows_analyzed = 150000,\n",
    "    max_cols_analyzed = 30\n",
    ")"
   ]
  },
  {
   "cell_type": "code",
   "execution_count": null,
   "id": "7592efdf",
   "metadata": {},
   "outputs": [],
   "source": []
  }
 ],
 "metadata": {
  "kernelspec": {
   "display_name": "Python 3 (ipykernel)",
   "language": "python",
   "name": "python3"
  },
  "language_info": {
   "codemirror_mode": {
    "name": "ipython",
    "version": 3
   },
   "file_extension": ".py",
   "mimetype": "text/x-python",
   "name": "python",
   "nbconvert_exporter": "python",
   "pygments_lexer": "ipython3",
   "version": "3.9.7"
  }
 },
 "nbformat": 4,
 "nbformat_minor": 5
}
