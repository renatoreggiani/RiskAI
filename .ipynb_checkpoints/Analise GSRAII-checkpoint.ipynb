{
 "cells": [
  {
   "cell_type": "code",
   "execution_count": 1,
   "id": "1158725e",
   "metadata": {},
   "outputs": [],
   "source": [
    "import pandas as pd\n",
    "import numpy as np\n",
    "import plotly.express as px\n",
    "import plotly.graph_objects as go\n",
    "from ipywidgets import interact, fixed, FloatSlider, IntSlider"
   ]
  },
  {
   "cell_type": "code",
   "execution_count": 13,
   "id": "1d1fea46",
   "metadata": {},
   "outputs": [
    {
     "data": {
      "application/javascript": [
       "IPython.OutputArea.prototype._should_scroll = function(lines) {\n",
       "    return false;\n",
       "}\n"
      ],
      "text/plain": [
       "<IPython.core.display.Javascript object>"
      ]
     },
     "metadata": {},
     "output_type": "display_data"
    }
   ],
   "source": [
    "%%javascript\n",
    "IPython.OutputArea.prototype._should_scroll = function(lines) {\n",
    "    return false;\n",
    "}"
   ]
  },
  {
   "cell_type": "code",
   "execution_count": 14,
   "id": "18e47b40",
   "metadata": {},
   "outputs": [],
   "source": [
    "def get_dados(indice='portfolio'):\n",
    "    if indice=='portfolio':\n",
    "        df = pd.read_csv('dados/retorno_portfolio.csv', parse_dates=['Date'])\n",
    "        df.fillna(0, inplace=True)\n",
    "    if indice=='ACWI':    \n",
    "        df = pd.read_csv('dados/retorno_portfolio.csv', parse_dates=['Date'])\n",
    "        df.fillna(0, inplace=True)\n",
    "        df['retorno'] = df['ACWI']\n",
    "    else:\n",
    "        url = f'https://query1.finance.yahoo.com/v7/finance/download/{indice}?period1=852076800&period2=1634743473&interval=1d&events=history&includeAdjustedClose=true'\n",
    "        df = pd.read_csv(url)\n",
    "        df['Date'] = pd.to_datetime(df['Date'])\n",
    "        df['retorno'] = df['Close'].pct_change()\n",
    "        \n",
    "    df['year_week'] = df['Date'].dt.strftime('%Y-%U')\n",
    "    df['retorno acumulado'] = df['retorno'] + 1\n",
    "    df['retorno acumulado'] = df['retorno acumulado'].cumprod()\n",
    "    \n",
    "    df_gsrai = pd.read_csv('dados/GSRAII.csv', parse_dates=['Date']).sort_values('Date')\n",
    "\n",
    "    df = df.merge(df_gsrai, on='Date')\n",
    "    return df[['Date', 'retorno acumulado', 'GSRAII Index', 'year_week']].dropna()"
   ]
  },
  {
   "cell_type": "markdown",
   "id": "c9e2fa8f",
   "metadata": {},
   "source": [
    "### Indices:\n",
    "- ^GSPC = *SP500*\n",
    "- ^BVSP = *Bovespa*\n",
    "- ACWI\n",
    "- portfolio"
   ]
  },
  {
   "cell_type": "code",
   "execution_count": 51,
   "id": "f92663d6",
   "metadata": {},
   "outputs": [
    {
     "data": {
      "text/html": [
       "<div>\n",
       "<style scoped>\n",
       "    .dataframe tbody tr th:only-of-type {\n",
       "        vertical-align: middle;\n",
       "    }\n",
       "\n",
       "    .dataframe tbody tr th {\n",
       "        vertical-align: top;\n",
       "    }\n",
       "\n",
       "    .dataframe thead th {\n",
       "        text-align: right;\n",
       "    }\n",
       "</style>\n",
       "<table border=\"1\" class=\"dataframe\">\n",
       "  <thead>\n",
       "    <tr style=\"text-align: right;\">\n",
       "      <th></th>\n",
       "      <th>Date</th>\n",
       "      <th>retorno acumulado</th>\n",
       "      <th>GSRAII Index</th>\n",
       "      <th>year_week</th>\n",
       "    </tr>\n",
       "  </thead>\n",
       "  <tbody>\n",
       "    <tr>\n",
       "      <th>1</th>\n",
       "      <td>1997-01-03</td>\n",
       "      <td>1.006081</td>\n",
       "      <td>0.13</td>\n",
       "      <td>1997-00</td>\n",
       "    </tr>\n",
       "    <tr>\n",
       "      <th>2</th>\n",
       "      <td>1997-01-06</td>\n",
       "      <td>1.029329</td>\n",
       "      <td>0.22</td>\n",
       "      <td>1997-01</td>\n",
       "    </tr>\n",
       "    <tr>\n",
       "      <th>3</th>\n",
       "      <td>1997-01-07</td>\n",
       "      <td>1.029329</td>\n",
       "      <td>0.21</td>\n",
       "      <td>1997-01</td>\n",
       "    </tr>\n",
       "    <tr>\n",
       "      <th>4</th>\n",
       "      <td>1997-01-08</td>\n",
       "      <td>1.067788</td>\n",
       "      <td>0.22</td>\n",
       "      <td>1997-01</td>\n",
       "    </tr>\n",
       "    <tr>\n",
       "      <th>5</th>\n",
       "      <td>1997-01-09</td>\n",
       "      <td>1.071699</td>\n",
       "      <td>0.18</td>\n",
       "      <td>1997-01</td>\n",
       "    </tr>\n",
       "    <tr>\n",
       "      <th>...</th>\n",
       "      <td>...</td>\n",
       "      <td>...</td>\n",
       "      <td>...</td>\n",
       "      <td>...</td>\n",
       "    </tr>\n",
       "    <tr>\n",
       "      <th>6180</th>\n",
       "      <td>2021-08-19</td>\n",
       "      <td>16.844943</td>\n",
       "      <td>-0.11</td>\n",
       "      <td>2021-33</td>\n",
       "    </tr>\n",
       "    <tr>\n",
       "      <th>6181</th>\n",
       "      <td>2021-08-20</td>\n",
       "      <td>16.972612</td>\n",
       "      <td>-0.09</td>\n",
       "      <td>2021-33</td>\n",
       "    </tr>\n",
       "    <tr>\n",
       "      <th>6182</th>\n",
       "      <td>2021-08-23</td>\n",
       "      <td>16.889081</td>\n",
       "      <td>-0.02</td>\n",
       "      <td>2021-34</td>\n",
       "    </tr>\n",
       "    <tr>\n",
       "      <th>6183</th>\n",
       "      <td>2021-08-24</td>\n",
       "      <td>17.282870</td>\n",
       "      <td>0.08</td>\n",
       "      <td>2021-34</td>\n",
       "    </tr>\n",
       "    <tr>\n",
       "      <th>6184</th>\n",
       "      <td>2021-08-25</td>\n",
       "      <td>17.370139</td>\n",
       "      <td>0.16</td>\n",
       "      <td>2021-34</td>\n",
       "    </tr>\n",
       "  </tbody>\n",
       "</table>\n",
       "<p>6184 rows × 4 columns</p>\n",
       "</div>"
      ],
      "text/plain": [
       "           Date  retorno acumulado  GSRAII Index year_week\n",
       "1    1997-01-03           1.006081          0.13   1997-00\n",
       "2    1997-01-06           1.029329          0.22   1997-01\n",
       "3    1997-01-07           1.029329          0.21   1997-01\n",
       "4    1997-01-08           1.067788          0.22   1997-01\n",
       "5    1997-01-09           1.071699          0.18   1997-01\n",
       "...         ...                ...           ...       ...\n",
       "6180 2021-08-19          16.844943         -0.11   2021-33\n",
       "6181 2021-08-20          16.972612         -0.09   2021-33\n",
       "6182 2021-08-23          16.889081         -0.02   2021-34\n",
       "6183 2021-08-24          17.282870          0.08   2021-34\n",
       "6184 2021-08-25          17.370139          0.16   2021-34\n",
       "\n",
       "[6184 rows x 4 columns]"
      ]
     },
     "execution_count": 51,
     "metadata": {},
     "output_type": "execute_result"
    }
   ],
   "source": [
    "# Trocar codigo do indice\n",
    "df = get_dados(indice='^BVSP')\n",
    "df"
   ]
  },
  {
   "cell_type": "code",
   "execution_count": 26,
   "id": "9b4205bd",
   "metadata": {},
   "outputs": [],
   "source": [
    "#%% Semanal\n",
    "df_gp = df.groupby('year_week').agg('last')"
   ]
  },
  {
   "cell_type": "code",
   "execution_count": 27,
   "id": "c8a75501",
   "metadata": {},
   "outputs": [],
   "source": [
    "for pct in range(1,6):\n",
    "    df_gp[f'pct_{pct}sem'] = (df_gp['retorno acumulado']/df_gp['retorno acumulado'].shift(pct).values -1) * 100"
   ]
  },
  {
   "cell_type": "code",
   "execution_count": 28,
   "id": "d501cd44",
   "metadata": {},
   "outputs": [],
   "source": [
    "def classe_gsrai(df, limit=0, media_movel=3):\n",
    "    df=df.copy()\n",
    "    df['mean'] = df['GSRAII Index'].rolling(media_movel).mean()\n",
    "    up_down = df['mean']\n",
    "#     df.dropna(inplace=True)\n",
    "\n",
    "    df['gsrai_gt_up'] = np.where((df['GSRAII Index'] > up_down) & (df['GSRAII Index'] >= limit), 1, 0)\n",
    "    df['gsrai_gt_down'] = np.where((df['GSRAII Index'] < up_down) & (df['GSRAII Index'] >= limit), 1, 0)\n",
    "    df['gsrai_lt_up'] = np.where((df['GSRAII Index'] > up_down) & (df['GSRAII Index'] < limit), 1, 0)\n",
    "    df['gsrai_lt_down'] = np.where((df['GSRAII Index'] < up_down) & (df['GSRAII Index'] < limit), 1, 0)\n",
    "\n",
    "    regras = ['gsrai_gt_up', 'gsrai_gt_down', 'gsrai_lt_up', 'gsrai_lt_down']\n",
    "    df['classe'] = np.nan\n",
    "    for col in regras:\n",
    "        df.loc[df[col]==1, 'classe'] = col\n",
    "    return df.dropna()"
   ]
  },
  {
   "cell_type": "code",
   "execution_count": 29,
   "id": "b89f9434",
   "metadata": {},
   "outputs": [],
   "source": [
    "df_gp =  classe_gsrai(df=df_gp, limit=0, media_movel=3)"
   ]
  },
  {
   "cell_type": "code",
   "execution_count": 30,
   "id": "c2278f68",
   "metadata": {
    "scrolled": true
   },
   "outputs": [],
   "source": [
    "pct =  'pct_3sem'\n",
    "regras = ['gsrai_gt_up', 'gsrai_gt_down', 'gsrai_lt_up', 'gsrai_lt_down']"
   ]
  },
  {
   "cell_type": "code",
   "execution_count": 31,
   "id": "e9ba0d22",
   "metadata": {
    "scrolled": true
   },
   "outputs": [
    {
     "data": {
      "text/html": [
       "<div>\n",
       "<style scoped>\n",
       "    .dataframe tbody tr th:only-of-type {\n",
       "        vertical-align: middle;\n",
       "    }\n",
       "\n",
       "    .dataframe tbody tr th {\n",
       "        vertical-align: top;\n",
       "    }\n",
       "\n",
       "    .dataframe thead th {\n",
       "        text-align: right;\n",
       "    }\n",
       "</style>\n",
       "<table border=\"1\" class=\"dataframe\">\n",
       "  <thead>\n",
       "    <tr style=\"text-align: right;\">\n",
       "      <th></th>\n",
       "      <th>gsrai_gt_down</th>\n",
       "      <th>gsrai_gt_up</th>\n",
       "      <th>gsrai_lt_down</th>\n",
       "      <th>gsrai_lt_up</th>\n",
       "    </tr>\n",
       "  </thead>\n",
       "  <tbody>\n",
       "    <tr>\n",
       "      <th>count</th>\n",
       "      <td>260.000000</td>\n",
       "      <td>374.000000</td>\n",
       "      <td>342.000000</td>\n",
       "      <td>309.000000</td>\n",
       "    </tr>\n",
       "    <tr>\n",
       "      <th>mean</th>\n",
       "      <td>1.281644</td>\n",
       "      <td>2.807282</td>\n",
       "      <td>-3.068645</td>\n",
       "      <td>2.573378</td>\n",
       "    </tr>\n",
       "    <tr>\n",
       "      <th>std</th>\n",
       "      <td>5.348854</td>\n",
       "      <td>5.031657</td>\n",
       "      <td>7.901230</td>\n",
       "      <td>7.741446</td>\n",
       "    </tr>\n",
       "    <tr>\n",
       "      <th>min</th>\n",
       "      <td>-14.465524</td>\n",
       "      <td>-11.841955</td>\n",
       "      <td>-35.617056</td>\n",
       "      <td>-28.324439</td>\n",
       "    </tr>\n",
       "    <tr>\n",
       "      <th>25%</th>\n",
       "      <td>-2.230008</td>\n",
       "      <td>-0.285660</td>\n",
       "      <td>-6.474383</td>\n",
       "      <td>-1.296088</td>\n",
       "    </tr>\n",
       "    <tr>\n",
       "      <th>50%</th>\n",
       "      <td>1.521137</td>\n",
       "      <td>3.133290</td>\n",
       "      <td>-2.870877</td>\n",
       "      <td>2.813939</td>\n",
       "    </tr>\n",
       "    <tr>\n",
       "      <th>75%</th>\n",
       "      <td>5.050835</td>\n",
       "      <td>5.913067</td>\n",
       "      <td>1.471706</td>\n",
       "      <td>6.378335</td>\n",
       "    </tr>\n",
       "    <tr>\n",
       "      <th>max</th>\n",
       "      <td>14.791337</td>\n",
       "      <td>24.925063</td>\n",
       "      <td>21.058606</td>\n",
       "      <td>25.992768</td>\n",
       "    </tr>\n",
       "  </tbody>\n",
       "</table>\n",
       "</div>"
      ],
      "text/plain": [
       "       gsrai_gt_down  gsrai_gt_up  gsrai_lt_down  gsrai_lt_up\n",
       "count     260.000000   374.000000     342.000000   309.000000\n",
       "mean        1.281644     2.807282      -3.068645     2.573378\n",
       "std         5.348854     5.031657       7.901230     7.741446\n",
       "min       -14.465524   -11.841955     -35.617056   -28.324439\n",
       "25%        -2.230008    -0.285660      -6.474383    -1.296088\n",
       "50%         1.521137     3.133290      -2.870877     2.813939\n",
       "75%         5.050835     5.913067       1.471706     6.378335\n",
       "max        14.791337    24.925063      21.058606    25.992768"
      ]
     },
     "execution_count": 31,
     "metadata": {},
     "output_type": "execute_result"
    }
   ],
   "source": [
    "lista = []\n",
    "for col in df_gp['classe'].unique():\n",
    "    desc = df_gp[df_gp[col]==1][[pct]].describe().rename(columns={pct: col})\n",
    "    lista.append(desc)\n",
    "pd.concat(lista, axis=1)"
   ]
  },
  {
   "cell_type": "code",
   "execution_count": 50,
   "id": "5e16c552",
   "metadata": {
    "scrolled": true
   },
   "outputs": [
    {
     "data": {
      "application/vnd.jupyter.widget-view+json": {
       "model_id": "3059cce9e8bb4ce8aa7d110a2658fe1c",
       "version_major": 2,
       "version_minor": 0
      },
      "text/plain": [
       "interactive(children=(Dropdown(description='pct', options=('pct_1sem', 'pct_2sem', 'pct_3sem', 'pct_4sem', 'pc…"
      ]
     },
     "metadata": {},
     "output_type": "display_data"
    }
   ],
   "source": [
    "@interact(df=fixed(df_gp), \n",
    "          pct=['pct_1sem', 'pct_2sem', 'pct_3sem', 'pct_4sem', 'pct_5sem'],\n",
    "          limit=FloatSlider(min=-1, max=1, step=0.05, value=0),\n",
    "          media_movel=IntSlider(min=2, max=6, step=1, value=3)\n",
    "         )\n",
    "def hist_classes(df, pct, limit=0, media_movel=3):\n",
    "    df = classe_gsrai(df=df, limit=limit, media_movel=media_movel)\n",
    "    fig = px.histogram(df, x=pct, color=\"classe\", marginal=\"box\", nbins=100, \n",
    "#                        range_y=[0,50],\n",
    "                       range_x=[df[pct].min()-1,df[pct].max()+1],\n",
    "                       title=f'Distribuição {pct}',\n",
    "                      )\n",
    "    fig.update_layout(barmode='overlay')\n",
    "    fig.update_traces(opacity=0.65)\n",
    "    fig.add_vline(x=0,line_dash=\"dash\")\n",
    "    \n",
    "    for i, classe in enumerate(df['classe'].unique()):\n",
    "        fig.add_annotation(text=f'Total {classe}: {len(df[df[\"classe\"]==classe])}',\n",
    "                           showarrow=False, yshift=70-(i*19), xshift=450)\n",
    "    \n",
    "    return fig\n",
    "\n",
    "    \n",
    "hist_classes(df_gp, pct, limit=-1, media_movel=3);"
   ]
  },
  {
   "cell_type": "code",
   "execution_count": null,
   "id": "6a6414c9",
   "metadata": {
    "scrolled": true
   },
   "outputs": [],
   "source": [
    "cut = df_gp[pct].quantile(0.05)\n",
    "df_gp[(df_gp[pct]<=cut)].sum()"
   ]
  },
  {
   "cell_type": "code",
   "execution_count": null,
   "id": "75333758",
   "metadata": {
    "scrolled": true
   },
   "outputs": [],
   "source": [
    "df_gp[(df_gp[pct]>cut) & (df_gp['gsrai_lt_down']==1)][pct].describe()"
   ]
  },
  {
   "cell_type": "code",
   "execution_count": null,
   "id": "cd17880c",
   "metadata": {},
   "outputs": [],
   "source": [
    "df_gp['2020-01':'2020-18']"
   ]
  },
  {
   "cell_type": "code",
   "execution_count": null,
   "id": "443ef383",
   "metadata": {},
   "outputs": [],
   "source": [
    "df_gp['2019-35':'2019-45']"
   ]
  },
  {
   "cell_type": "code",
   "execution_count": null,
   "id": "a9216bf6",
   "metadata": {
    "scrolled": true
   },
   "outputs": [],
   "source": [
    "df_gp[(df_gp['pct_ret']<0) & (df_gp['gsrai_lt_down']==1)]['pct_ret'].describe()"
   ]
  },
  {
   "cell_type": "code",
   "execution_count": null,
   "id": "8ce18de9",
   "metadata": {},
   "outputs": [],
   "source": [
    "df_gp[(df_gp['gsrai_lt_down']==1)]['pct_ret'].describe()"
   ]
  },
  {
   "cell_type": "code",
   "execution_count": null,
   "id": "c843c254",
   "metadata": {},
   "outputs": [],
   "source": [
    "df_gp[(df_gp['gsrai_lt_down']==1)]['pct_ret_shift'].describe()"
   ]
  },
  {
   "cell_type": "code",
   "execution_count": null,
   "id": "eba41867",
   "metadata": {
    "scrolled": true
   },
   "outputs": [],
   "source": [
    "df['retorno acumulado'].plot()"
   ]
  },
  {
   "cell_type": "code",
   "execution_count": null,
   "id": "5fe0bf19",
   "metadata": {},
   "outputs": [],
   "source": [
    "#%% Grafico\n",
    "\n",
    "fig = px.line(df, x=\"Date\", y='retorno acumulado')\n",
    "# mask = df_gp['gsrai_lt_down']==1\n",
    "# fig = px.line(df_gp, x=\"Date\", y=['GSRAII Index', 'pct_ret'])\n",
    "\n",
    "# fig.add_trace(go.Scatter(\n",
    "#     x=df_gp[mask]['Date'],\n",
    "#     y=df_gp[mask][pct],\n",
    "#     marker_size=10, mode='markers', name='Queda',\n",
    "#     ))\n",
    "\n",
    "fig.show()"
   ]
  },
  {
   "cell_type": "code",
   "execution_count": null,
   "id": "84b58120",
   "metadata": {},
   "outputs": [],
   "source": []
  }
 ],
 "metadata": {
  "kernelspec": {
   "display_name": "Python 3",
   "language": "python",
   "name": "python3"
  },
  "language_info": {
   "codemirror_mode": {
    "name": "ipython",
    "version": 3
   },
   "file_extension": ".py",
   "mimetype": "text/x-python",
   "name": "python",
   "nbconvert_exporter": "python",
   "pygments_lexer": "ipython3",
   "version": "3.7.1"
  }
 },
 "nbformat": 4,
 "nbformat_minor": 5
}
