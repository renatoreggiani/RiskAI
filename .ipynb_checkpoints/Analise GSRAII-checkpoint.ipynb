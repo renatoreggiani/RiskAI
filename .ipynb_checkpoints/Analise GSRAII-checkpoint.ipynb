{
 "cells": [
  {
   "cell_type": "code",
   "execution_count": 48,
   "id": "1158725e",
   "metadata": {},
   "outputs": [],
   "source": [
    "import pandas as pd\n",
    "import numpy as np\n",
    "import plotly.express as px\n",
    "import plotly.graph_objects as go\n",
    "from ipywidgets import interact, fixed, FloatSlider, IntSlider"
   ]
  },
  {
   "cell_type": "code",
   "execution_count": 79,
   "id": "1d1fea46",
   "metadata": {},
   "outputs": [
    {
     "data": {
      "application/javascript": [
       "IPython.OutputArea.prototype._should_scroll = function(lines) {\n",
       "    return false;\n",
       "}\n"
      ],
      "text/plain": [
       "<IPython.core.display.Javascript object>"
      ]
     },
     "metadata": {},
     "output_type": "display_data"
    }
   ],
   "source": [
    "%%javascript\n",
    "IPython.OutputArea.prototype._should_scroll = function(lines) {\n",
    "    return false;\n",
    "}"
   ]
  },
  {
   "cell_type": "code",
   "execution_count": 80,
   "id": "18e47b40",
   "metadata": {},
   "outputs": [],
   "source": [
    "def get_dados(indice='portfolio'):\n",
    "    if indice=='portfolio':\n",
    "        df = pd.read_csv('dados/retorno_portfolio.csv', parse_dates=['Date'])\n",
    "        df.fillna(0, inplace=True)\n",
    "    elif indice=='ACWI':    \n",
    "        df = pd.read_csv('dados/retorno_portfolio.csv', parse_dates=['Date'])\n",
    "        df.fillna(0, inplace=True)\n",
    "        df['retorno'] = df['ACWI']\n",
    "    else:\n",
    "        url = f'https://query1.finance.yahoo.com/v7/finance/download/{indice}?period1=852076800&period2=1634743473&interval=1d&events=history&includeAdjustedClose=true'\n",
    "        df = pd.read_csv(url)\n",
    "        df['Date'] = pd.to_datetime(df['Date'])\n",
    "        df['retorno'] = df['Close'].pct_change()\n",
    "        \n",
    "    df['year_week'] = df['Date'].dt.strftime('%Y-%U')\n",
    "    df['retorno acumulado'] = df['retorno'] + 1\n",
    "    df['retorno acumulado'] = df['retorno acumulado'].cumprod()\n",
    "    \n",
    "    df_gsrai = pd.read_csv('dados/GSRAII.csv', parse_dates=['Date']).sort_values('Date')\n",
    "\n",
    "    df = df.merge(df_gsrai, on='Date')\n",
    "    return df[['Date', 'retorno acumulado', 'GSRAII Index', 'year_week']].dropna()"
   ]
  },
  {
   "cell_type": "markdown",
   "id": "c9e2fa8f",
   "metadata": {},
   "source": [
    "### Indices:\n",
    "- ^GSPC = *SP500*\n",
    "- ^BVSP = *Bovespa*\n",
    "- ACWI\n",
    "- portfolio\n",
    "\n",
    "\n",
    "* ver ouro, prata, petroleo, treasury"
   ]
  },
  {
   "cell_type": "code",
   "execution_count": 95,
   "id": "f92663d6",
   "metadata": {},
   "outputs": [
    {
     "data": {
      "text/html": [
       "<div>\n",
       "<style scoped>\n",
       "    .dataframe tbody tr th:only-of-type {\n",
       "        vertical-align: middle;\n",
       "    }\n",
       "\n",
       "    .dataframe tbody tr th {\n",
       "        vertical-align: top;\n",
       "    }\n",
       "\n",
       "    .dataframe thead th {\n",
       "        text-align: right;\n",
       "    }\n",
       "</style>\n",
       "<table border=\"1\" class=\"dataframe\">\n",
       "  <thead>\n",
       "    <tr style=\"text-align: right;\">\n",
       "      <th></th>\n",
       "      <th>Date</th>\n",
       "      <th>retorno acumulado</th>\n",
       "      <th>GSRAII Index</th>\n",
       "      <th>year_week</th>\n",
       "    </tr>\n",
       "  </thead>\n",
       "  <tbody>\n",
       "    <tr>\n",
       "      <th>1</th>\n",
       "      <td>2005-01-31</td>\n",
       "      <td>0.990162</td>\n",
       "      <td>0.31</td>\n",
       "      <td>2005-05</td>\n",
       "    </tr>\n",
       "    <tr>\n",
       "      <th>2</th>\n",
       "      <td>2005-02-01</td>\n",
       "      <td>0.986648</td>\n",
       "      <td>0.36</td>\n",
       "      <td>2005-05</td>\n",
       "    </tr>\n",
       "    <tr>\n",
       "      <th>3</th>\n",
       "      <td>2005-02-02</td>\n",
       "      <td>0.989225</td>\n",
       "      <td>0.36</td>\n",
       "      <td>2005-05</td>\n",
       "    </tr>\n",
       "    <tr>\n",
       "      <th>4</th>\n",
       "      <td>2005-02-03</td>\n",
       "      <td>0.977278</td>\n",
       "      <td>0.45</td>\n",
       "      <td>2005-05</td>\n",
       "    </tr>\n",
       "    <tr>\n",
       "      <th>5</th>\n",
       "      <td>2005-02-04</td>\n",
       "      <td>0.972125</td>\n",
       "      <td>0.39</td>\n",
       "      <td>2005-05</td>\n",
       "    </tr>\n",
       "    <tr>\n",
       "      <th>...</th>\n",
       "      <td>...</td>\n",
       "      <td>...</td>\n",
       "      <td>...</td>\n",
       "      <td>...</td>\n",
       "    </tr>\n",
       "    <tr>\n",
       "      <th>4141</th>\n",
       "      <td>2021-08-19</td>\n",
       "      <td>3.971656</td>\n",
       "      <td>-0.11</td>\n",
       "      <td>2021-33</td>\n",
       "    </tr>\n",
       "    <tr>\n",
       "      <th>4142</th>\n",
       "      <td>2021-08-20</td>\n",
       "      <td>3.972827</td>\n",
       "      <td>-0.09</td>\n",
       "      <td>2021-33</td>\n",
       "    </tr>\n",
       "    <tr>\n",
       "      <th>4143</th>\n",
       "      <td>2021-08-23</td>\n",
       "      <td>4.020848</td>\n",
       "      <td>-0.02</td>\n",
       "      <td>2021-34</td>\n",
       "    </tr>\n",
       "    <tr>\n",
       "      <th>4144</th>\n",
       "      <td>2021-08-24</td>\n",
       "      <td>4.019677</td>\n",
       "      <td>0.08</td>\n",
       "      <td>2021-34</td>\n",
       "    </tr>\n",
       "    <tr>\n",
       "      <th>4145</th>\n",
       "      <td>2021-08-25</td>\n",
       "      <td>3.992738</td>\n",
       "      <td>0.16</td>\n",
       "      <td>2021-34</td>\n",
       "    </tr>\n",
       "  </tbody>\n",
       "</table>\n",
       "<p>4145 rows × 4 columns</p>\n",
       "</div>"
      ],
      "text/plain": [
       "           Date  retorno acumulado  GSRAII Index year_week\n",
       "1    2005-01-31           0.990162          0.31   2005-05\n",
       "2    2005-02-01           0.986648          0.36   2005-05\n",
       "3    2005-02-02           0.989225          0.36   2005-05\n",
       "4    2005-02-03           0.977278          0.45   2005-05\n",
       "5    2005-02-04           0.972125          0.39   2005-05\n",
       "...         ...                ...           ...       ...\n",
       "4141 2021-08-19           3.971656         -0.11   2021-33\n",
       "4142 2021-08-20           3.972827         -0.09   2021-33\n",
       "4143 2021-08-23           4.020848         -0.02   2021-34\n",
       "4144 2021-08-24           4.019677          0.08   2021-34\n",
       "4145 2021-08-25           3.992738          0.16   2021-34\n",
       "\n",
       "[4145 rows x 4 columns]"
      ]
     },
     "execution_count": 95,
     "metadata": {},
     "output_type": "execute_result"
    }
   ],
   "source": [
    "# Trocar codigo do indice\n",
    "indice='IAU'\n",
    "df = get_dados(indice=indice)\n",
    "df"
   ]
  },
  {
   "cell_type": "code",
   "execution_count": 96,
   "id": "17f4e9f2",
   "metadata": {},
   "outputs": [],
   "source": [
    "df['pct'] = df['retorno acumulado'].pct_change()\n",
    "df['diff gsrai'] = (df['GSRAII Index']+5).pct_change()"
   ]
  },
  {
   "cell_type": "code",
   "execution_count": 97,
   "id": "4df960ba",
   "metadata": {},
   "outputs": [
    {
     "data": {
      "text/html": [
       "<div>\n",
       "<style scoped>\n",
       "    .dataframe tbody tr th:only-of-type {\n",
       "        vertical-align: middle;\n",
       "    }\n",
       "\n",
       "    .dataframe tbody tr th {\n",
       "        vertical-align: top;\n",
       "    }\n",
       "\n",
       "    .dataframe thead th {\n",
       "        text-align: right;\n",
       "    }\n",
       "</style>\n",
       "<table border=\"1\" class=\"dataframe\">\n",
       "  <thead>\n",
       "    <tr style=\"text-align: right;\">\n",
       "      <th></th>\n",
       "      <th>retorno acumulado</th>\n",
       "      <th>GSRAII Index</th>\n",
       "      <th>pct</th>\n",
       "      <th>diff gsrai</th>\n",
       "    </tr>\n",
       "  </thead>\n",
       "  <tbody>\n",
       "    <tr>\n",
       "      <th>retorno acumulado</th>\n",
       "      <td>1.000000</td>\n",
       "      <td>-0.001511</td>\n",
       "      <td>0.060506</td>\n",
       "      <td>0.006717</td>\n",
       "    </tr>\n",
       "    <tr>\n",
       "      <th>GSRAII Index</th>\n",
       "      <td>-0.001511</td>\n",
       "      <td>1.000000</td>\n",
       "      <td>-0.000666</td>\n",
       "      <td>0.035569</td>\n",
       "    </tr>\n",
       "    <tr>\n",
       "      <th>pct</th>\n",
       "      <td>0.060506</td>\n",
       "      <td>-0.000666</td>\n",
       "      <td>1.000000</td>\n",
       "      <td>-0.031523</td>\n",
       "    </tr>\n",
       "    <tr>\n",
       "      <th>diff gsrai</th>\n",
       "      <td>0.006717</td>\n",
       "      <td>0.035569</td>\n",
       "      <td>-0.031523</td>\n",
       "      <td>1.000000</td>\n",
       "    </tr>\n",
       "  </tbody>\n",
       "</table>\n",
       "</div>"
      ],
      "text/plain": [
       "                   retorno acumulado  GSRAII Index       pct  diff gsrai\n",
       "retorno acumulado           1.000000     -0.001511  0.060506    0.006717\n",
       "GSRAII Index               -0.001511      1.000000 -0.000666    0.035569\n",
       "pct                         0.060506     -0.000666  1.000000   -0.031523\n",
       "diff gsrai                  0.006717      0.035569 -0.031523    1.000000"
      ]
     },
     "execution_count": 97,
     "metadata": {},
     "output_type": "execute_result"
    }
   ],
   "source": [
    "df.corr()"
   ]
  },
  {
   "cell_type": "code",
   "execution_count": 98,
   "id": "9b4205bd",
   "metadata": {},
   "outputs": [],
   "source": [
    "#%% Semanal\n",
    "df_gp = df.groupby('year_week').agg('last')"
   ]
  },
  {
   "cell_type": "code",
   "execution_count": 99,
   "id": "c8a75501",
   "metadata": {},
   "outputs": [],
   "source": [
    "# SHIFT +\n",
    "# for pct in range(1,6):\n",
    "#     df_gp[f'pct_{pct}_sem'] = (df_gp['retorno acumulado']/df_gp['retorno acumulado'].shift(pct).values -1) * 100\n",
    "\n",
    "# SHIFT -\n",
    "for pct in range(1,6):\n",
    "    df_gp[f'pct_{pct}_sem'] = (df_gp['retorno acumulado'].shift(pct*-1).values/\n",
    "                           df_gp['retorno acumulado'] -1) * 100"
   ]
  },
  {
   "cell_type": "code",
   "execution_count": 100,
   "id": "d501cd44",
   "metadata": {},
   "outputs": [],
   "source": [
    "def classe_gsrai(df, limit=0, diff=None, media_movel=3):\n",
    "    \n",
    "    df=df.copy()\n",
    "    df['gsrai_diff'] = df['GSRAII Index'].diff()\n",
    "    \n",
    "    if not media_movel == None: \n",
    "        df['mean'] = df['GSRAII Index'].rolling(media_movel).mean()\n",
    "        up_down = df['mean']\n",
    "        df['gsrai_gt_up'] = np.where((df['GSRAII Index'] > up_down) & (df['GSRAII Index'] >= limit), 1, 0)\n",
    "        df['gsrai_gt_down'] = np.where((df['GSRAII Index'] < up_down) & (df['GSRAII Index'] >= limit), 1, 0)\n",
    "        df['gsrai_lt_up'] = np.where((df['GSRAII Index'] > up_down) & (df['GSRAII Index'] < limit), 1, 0)\n",
    "        df['gsrai_lt_down'] = np.where((df['GSRAII Index'] < up_down) & (df['GSRAII Index'] < limit), 1, 0)\n",
    "    elif not diff == None: \n",
    "        df['gsrai_gt_up'] = np.where((df['gsrai_diff'] >= diff) & (df['GSRAII Index'] >= limit), 1, 0)\n",
    "        df['gsrai_gt_down'] = np.where((df['gsrai_diff'] < diff) & (df['GSRAII Index'] >= limit), 1, 0)\n",
    "        df['gsrai_lt_up'] = np.where((df['gsrai_diff'] >= diff) & (df['GSRAII Index'] < limit), 1, 0)\n",
    "        df['gsrai_lt_down'] = np.where((df['gsrai_diff'] < diff) & (df['GSRAII Index'] < limit), 1, 0)\n",
    "        \n",
    "        \n",
    "    regras = ['gsrai_gt_up', 'gsrai_gt_down', 'gsrai_lt_up', 'gsrai_lt_down']\n",
    "    df['classe'] = np.nan\n",
    "    for col in regras:\n",
    "        df.loc[df[col]==1, 'classe'] = col\n",
    "    return df"
   ]
  },
  {
   "cell_type": "code",
   "execution_count": null,
   "id": "b89f9434",
   "metadata": {},
   "outputs": [],
   "source": []
  },
  {
   "cell_type": "code",
   "execution_count": 101,
   "id": "be8528cf",
   "metadata": {},
   "outputs": [],
   "source": [
    "df_gp =  classe_gsrai(df=df_gp, limit=0, media_movel=None, diff=0)\n",
    "# df_gp['classe'] = df_gp['classe'].shift(-1).values\n",
    "for col in ['pct_1_sem', 'pct_2_sem', 'pct_3_sem', 'pct_4_sem', 'pct_5_sem']:\n",
    "    df_gp[col] = df_gp[col].shift(1).values\n"
   ]
  },
  {
   "cell_type": "code",
   "execution_count": 102,
   "id": "8911dbba",
   "metadata": {},
   "outputs": [
    {
     "data": {
      "text/html": [
       "<div>\n",
       "<style scoped>\n",
       "    .dataframe tbody tr th:only-of-type {\n",
       "        vertical-align: middle;\n",
       "    }\n",
       "\n",
       "    .dataframe tbody tr th {\n",
       "        vertical-align: top;\n",
       "    }\n",
       "\n",
       "    .dataframe thead th {\n",
       "        text-align: right;\n",
       "    }\n",
       "</style>\n",
       "<table border=\"1\" class=\"dataframe\">\n",
       "  <thead>\n",
       "    <tr style=\"text-align: right;\">\n",
       "      <th></th>\n",
       "      <th>Date</th>\n",
       "      <th>retorno acumulado</th>\n",
       "      <th>GSRAII Index</th>\n",
       "      <th>pct</th>\n",
       "      <th>diff gsrai</th>\n",
       "      <th>pct_1_sem</th>\n",
       "      <th>pct_2_sem</th>\n",
       "      <th>pct_3_sem</th>\n",
       "      <th>pct_4_sem</th>\n",
       "      <th>pct_5_sem</th>\n",
       "      <th>gsrai_diff</th>\n",
       "      <th>gsrai_gt_up</th>\n",
       "      <th>gsrai_gt_down</th>\n",
       "      <th>gsrai_lt_up</th>\n",
       "      <th>gsrai_lt_down</th>\n",
       "      <th>classe</th>\n",
       "    </tr>\n",
       "    <tr>\n",
       "      <th>year_week</th>\n",
       "      <th></th>\n",
       "      <th></th>\n",
       "      <th></th>\n",
       "      <th></th>\n",
       "      <th></th>\n",
       "      <th></th>\n",
       "      <th></th>\n",
       "      <th></th>\n",
       "      <th></th>\n",
       "      <th></th>\n",
       "      <th></th>\n",
       "      <th></th>\n",
       "      <th></th>\n",
       "      <th></th>\n",
       "      <th></th>\n",
       "      <th></th>\n",
       "    </tr>\n",
       "  </thead>\n",
       "  <tbody>\n",
       "    <tr>\n",
       "      <th>2005-05</th>\n",
       "      <td>2005-02-04</td>\n",
       "      <td>0.972125</td>\n",
       "      <td>0.39</td>\n",
       "      <td>-0.005273</td>\n",
       "      <td>-0.011009</td>\n",
       "      <td>NaN</td>\n",
       "      <td>NaN</td>\n",
       "      <td>NaN</td>\n",
       "      <td>NaN</td>\n",
       "      <td>NaN</td>\n",
       "      <td>NaN</td>\n",
       "      <td>0</td>\n",
       "      <td>0</td>\n",
       "      <td>0</td>\n",
       "      <td>0</td>\n",
       "      <td>NaN</td>\n",
       "    </tr>\n",
       "    <tr>\n",
       "      <th>2005-06</th>\n",
       "      <td>2005-02-11</td>\n",
       "      <td>0.986648</td>\n",
       "      <td>0.46</td>\n",
       "      <td>0.007414</td>\n",
       "      <td>0.000000</td>\n",
       "      <td>1.493976</td>\n",
       "      <td>3.228916</td>\n",
       "      <td>4.915663</td>\n",
       "      <td>4.650602</td>\n",
       "      <td>7.228916</td>\n",
       "      <td>0.07</td>\n",
       "      <td>1</td>\n",
       "      <td>0</td>\n",
       "      <td>0</td>\n",
       "      <td>0</td>\n",
       "      <td>gsrai_gt_up</td>\n",
       "    </tr>\n",
       "    <tr>\n",
       "      <th>2005-07</th>\n",
       "      <td>2005-02-18</td>\n",
       "      <td>1.003514</td>\n",
       "      <td>0.56</td>\n",
       "      <td>0.002340</td>\n",
       "      <td>0.007246</td>\n",
       "      <td>1.709402</td>\n",
       "      <td>3.371320</td>\n",
       "      <td>3.110161</td>\n",
       "      <td>5.650522</td>\n",
       "      <td>4.344729</td>\n",
       "      <td>0.10</td>\n",
       "      <td>1</td>\n",
       "      <td>0</td>\n",
       "      <td>0</td>\n",
       "      <td>0</td>\n",
       "      <td>gsrai_gt_up</td>\n",
       "    </tr>\n",
       "    <tr>\n",
       "      <th>2005-08</th>\n",
       "      <td>2005-02-25</td>\n",
       "      <td>1.019911</td>\n",
       "      <td>0.59</td>\n",
       "      <td>0.002533</td>\n",
       "      <td>0.003591</td>\n",
       "      <td>1.633987</td>\n",
       "      <td>1.377218</td>\n",
       "      <td>3.874883</td>\n",
       "      <td>2.591036</td>\n",
       "      <td>-0.863679</td>\n",
       "      <td>0.03</td>\n",
       "      <td>1</td>\n",
       "      <td>0</td>\n",
       "      <td>0</td>\n",
       "      <td>0</td>\n",
       "      <td>gsrai_gt_up</td>\n",
       "    </tr>\n",
       "    <tr>\n",
       "      <th>2005-09</th>\n",
       "      <td>2005-03-04</td>\n",
       "      <td>1.017334</td>\n",
       "      <td>0.70</td>\n",
       "      <td>0.008593</td>\n",
       "      <td>0.000000</td>\n",
       "      <td>-0.252641</td>\n",
       "      <td>2.204869</td>\n",
       "      <td>0.941663</td>\n",
       "      <td>-2.457510</td>\n",
       "      <td>-2.090032</td>\n",
       "      <td>0.11</td>\n",
       "      <td>1</td>\n",
       "      <td>0</td>\n",
       "      <td>0</td>\n",
       "      <td>0</td>\n",
       "      <td>gsrai_gt_up</td>\n",
       "    </tr>\n",
       "    <tr>\n",
       "      <th>...</th>\n",
       "      <td>...</td>\n",
       "      <td>...</td>\n",
       "      <td>...</td>\n",
       "      <td>...</td>\n",
       "      <td>...</td>\n",
       "      <td>...</td>\n",
       "      <td>...</td>\n",
       "      <td>...</td>\n",
       "      <td>...</td>\n",
       "      <td>...</td>\n",
       "      <td>...</td>\n",
       "      <td>...</td>\n",
       "      <td>...</td>\n",
       "      <td>...</td>\n",
       "      <td>...</td>\n",
       "      <td>...</td>\n",
       "    </tr>\n",
       "    <tr>\n",
       "      <th>2021-30</th>\n",
       "      <td>2021-07-30</td>\n",
       "      <td>4.047786</td>\n",
       "      <td>0.11</td>\n",
       "      <td>-0.007752</td>\n",
       "      <td>-0.013514</td>\n",
       "      <td>0.787402</td>\n",
       "      <td>-2.245555</td>\n",
       "      <td>-1.224853</td>\n",
       "      <td>-1.079041</td>\n",
       "      <td>-0.583263</td>\n",
       "      <td>-0.20</td>\n",
       "      <td>0</td>\n",
       "      <td>1</td>\n",
       "      <td>0</td>\n",
       "      <td>0</td>\n",
       "      <td>gsrai_gt_down</td>\n",
       "    </tr>\n",
       "    <tr>\n",
       "      <th>2021-31</th>\n",
       "      <td>2021-08-06</td>\n",
       "      <td>3.925978</td>\n",
       "      <td>0.31</td>\n",
       "      <td>-0.024163</td>\n",
       "      <td>0.013359</td>\n",
       "      <td>-3.009262</td>\n",
       "      <td>-1.996534</td>\n",
       "      <td>-1.851860</td>\n",
       "      <td>-1.359957</td>\n",
       "      <td>NaN</td>\n",
       "      <td>0.20</td>\n",
       "      <td>1</td>\n",
       "      <td>0</td>\n",
       "      <td>0</td>\n",
       "      <td>0</td>\n",
       "      <td>gsrai_gt_up</td>\n",
       "    </tr>\n",
       "    <tr>\n",
       "      <th>2021-32</th>\n",
       "      <td>2021-08-13</td>\n",
       "      <td>3.966971</td>\n",
       "      <td>0.26</td>\n",
       "      <td>0.014376</td>\n",
       "      <td>-0.016822</td>\n",
       "      <td>1.044150</td>\n",
       "      <td>1.193311</td>\n",
       "      <td>1.700477</td>\n",
       "      <td>NaN</td>\n",
       "      <td>NaN</td>\n",
       "      <td>-0.05</td>\n",
       "      <td>0</td>\n",
       "      <td>1</td>\n",
       "      <td>0</td>\n",
       "      <td>0</td>\n",
       "      <td>gsrai_gt_down</td>\n",
       "    </tr>\n",
       "    <tr>\n",
       "      <th>2021-33</th>\n",
       "      <td>2021-08-20</td>\n",
       "      <td>3.972827</td>\n",
       "      <td>-0.09</td>\n",
       "      <td>0.000295</td>\n",
       "      <td>0.004090</td>\n",
       "      <td>0.147620</td>\n",
       "      <td>0.649545</td>\n",
       "      <td>NaN</td>\n",
       "      <td>NaN</td>\n",
       "      <td>NaN</td>\n",
       "      <td>-0.35</td>\n",
       "      <td>0</td>\n",
       "      <td>0</td>\n",
       "      <td>0</td>\n",
       "      <td>1</td>\n",
       "      <td>gsrai_lt_down</td>\n",
       "    </tr>\n",
       "    <tr>\n",
       "      <th>2021-34</th>\n",
       "      <td>2021-08-25</td>\n",
       "      <td>3.992738</td>\n",
       "      <td>0.16</td>\n",
       "      <td>-0.006702</td>\n",
       "      <td>0.015748</td>\n",
       "      <td>0.501185</td>\n",
       "      <td>NaN</td>\n",
       "      <td>NaN</td>\n",
       "      <td>NaN</td>\n",
       "      <td>NaN</td>\n",
       "      <td>0.25</td>\n",
       "      <td>1</td>\n",
       "      <td>0</td>\n",
       "      <td>0</td>\n",
       "      <td>0</td>\n",
       "      <td>gsrai_gt_up</td>\n",
       "    </tr>\n",
       "  </tbody>\n",
       "</table>\n",
       "<p>872 rows × 16 columns</p>\n",
       "</div>"
      ],
      "text/plain": [
       "                Date  retorno acumulado  GSRAII Index       pct  diff gsrai  \\\n",
       "year_week                                                                     \n",
       "2005-05   2005-02-04           0.972125          0.39 -0.005273   -0.011009   \n",
       "2005-06   2005-02-11           0.986648          0.46  0.007414    0.000000   \n",
       "2005-07   2005-02-18           1.003514          0.56  0.002340    0.007246   \n",
       "2005-08   2005-02-25           1.019911          0.59  0.002533    0.003591   \n",
       "2005-09   2005-03-04           1.017334          0.70  0.008593    0.000000   \n",
       "...              ...                ...           ...       ...         ...   \n",
       "2021-30   2021-07-30           4.047786          0.11 -0.007752   -0.013514   \n",
       "2021-31   2021-08-06           3.925978          0.31 -0.024163    0.013359   \n",
       "2021-32   2021-08-13           3.966971          0.26  0.014376   -0.016822   \n",
       "2021-33   2021-08-20           3.972827         -0.09  0.000295    0.004090   \n",
       "2021-34   2021-08-25           3.992738          0.16 -0.006702    0.015748   \n",
       "\n",
       "           pct_1_sem  pct_2_sem  pct_3_sem  pct_4_sem  pct_5_sem  gsrai_diff  \\\n",
       "year_week                                                                      \n",
       "2005-05          NaN        NaN        NaN        NaN        NaN         NaN   \n",
       "2005-06     1.493976   3.228916   4.915663   4.650602   7.228916        0.07   \n",
       "2005-07     1.709402   3.371320   3.110161   5.650522   4.344729        0.10   \n",
       "2005-08     1.633987   1.377218   3.874883   2.591036  -0.863679        0.03   \n",
       "2005-09    -0.252641   2.204869   0.941663  -2.457510  -2.090032        0.11   \n",
       "...              ...        ...        ...        ...        ...         ...   \n",
       "2021-30     0.787402  -2.245555  -1.224853  -1.079041  -0.583263       -0.20   \n",
       "2021-31    -3.009262  -1.996534  -1.851860  -1.359957        NaN        0.20   \n",
       "2021-32     1.044150   1.193311   1.700477        NaN        NaN       -0.05   \n",
       "2021-33     0.147620   0.649545        NaN        NaN        NaN       -0.35   \n",
       "2021-34     0.501185        NaN        NaN        NaN        NaN        0.25   \n",
       "\n",
       "           gsrai_gt_up  gsrai_gt_down  gsrai_lt_up  gsrai_lt_down  \\\n",
       "year_week                                                           \n",
       "2005-05              0              0            0              0   \n",
       "2005-06              1              0            0              0   \n",
       "2005-07              1              0            0              0   \n",
       "2005-08              1              0            0              0   \n",
       "2005-09              1              0            0              0   \n",
       "...                ...            ...          ...            ...   \n",
       "2021-30              0              1            0              0   \n",
       "2021-31              1              0            0              0   \n",
       "2021-32              0              1            0              0   \n",
       "2021-33              0              0            0              1   \n",
       "2021-34              1              0            0              0   \n",
       "\n",
       "                  classe  \n",
       "year_week                 \n",
       "2005-05              NaN  \n",
       "2005-06      gsrai_gt_up  \n",
       "2005-07      gsrai_gt_up  \n",
       "2005-08      gsrai_gt_up  \n",
       "2005-09      gsrai_gt_up  \n",
       "...                  ...  \n",
       "2021-30    gsrai_gt_down  \n",
       "2021-31      gsrai_gt_up  \n",
       "2021-32    gsrai_gt_down  \n",
       "2021-33    gsrai_lt_down  \n",
       "2021-34      gsrai_gt_up  \n",
       "\n",
       "[872 rows x 16 columns]"
      ]
     },
     "execution_count": 102,
     "metadata": {},
     "output_type": "execute_result"
    }
   ],
   "source": [
    "df_gp"
   ]
  },
  {
   "cell_type": "code",
   "execution_count": 103,
   "id": "c2278f68",
   "metadata": {
    "scrolled": true
   },
   "outputs": [],
   "source": [
    "pct =  'pct_1_sem'\n",
    "regras = ['gsrai_gt_up', 'gsrai_gt_down', 'gsrai_lt_up', 'gsrai_lt_down']"
   ]
  },
  {
   "cell_type": "code",
   "execution_count": 104,
   "id": "e9ba0d22",
   "metadata": {
    "scrolled": true
   },
   "outputs": [
    {
     "data": {
      "text/html": [
       "<div>\n",
       "<style scoped>\n",
       "    .dataframe tbody tr th:only-of-type {\n",
       "        vertical-align: middle;\n",
       "    }\n",
       "\n",
       "    .dataframe tbody tr th {\n",
       "        vertical-align: top;\n",
       "    }\n",
       "\n",
       "    .dataframe thead th {\n",
       "        text-align: right;\n",
       "    }\n",
       "</style>\n",
       "<table border=\"1\" class=\"dataframe\">\n",
       "  <thead>\n",
       "    <tr style=\"text-align: right;\">\n",
       "      <th></th>\n",
       "      <th>gsrai_gt_up</th>\n",
       "      <th>gsrai_gt_down</th>\n",
       "      <th>gsrai_lt_down</th>\n",
       "      <th>gsrai_lt_up</th>\n",
       "    </tr>\n",
       "  </thead>\n",
       "  <tbody>\n",
       "    <tr>\n",
       "      <th>count</th>\n",
       "      <td>250.000000</td>\n",
       "      <td>186.000000</td>\n",
       "      <td>213.000000</td>\n",
       "      <td>222.000000</td>\n",
       "    </tr>\n",
       "    <tr>\n",
       "      <th>mean</th>\n",
       "      <td>0.033424</td>\n",
       "      <td>0.428481</td>\n",
       "      <td>0.424959</td>\n",
       "      <td>-0.051730</td>\n",
       "    </tr>\n",
       "    <tr>\n",
       "      <th>std</th>\n",
       "      <td>2.228318</td>\n",
       "      <td>1.861506</td>\n",
       "      <td>3.014529</td>\n",
       "      <td>2.409320</td>\n",
       "    </tr>\n",
       "    <tr>\n",
       "      <th>min</th>\n",
       "      <td>-6.883790</td>\n",
       "      <td>-6.196581</td>\n",
       "      <td>-9.132153</td>\n",
       "      <td>-9.056984</td>\n",
       "    </tr>\n",
       "    <tr>\n",
       "      <th>25%</th>\n",
       "      <td>-1.423979</td>\n",
       "      <td>-0.707272</td>\n",
       "      <td>-1.095890</td>\n",
       "      <td>-1.313004</td>\n",
       "    </tr>\n",
       "    <tr>\n",
       "      <th>50%</th>\n",
       "      <td>0.235020</td>\n",
       "      <td>0.440878</td>\n",
       "      <td>0.640282</td>\n",
       "      <td>0.000000</td>\n",
       "    </tr>\n",
       "    <tr>\n",
       "      <th>75%</th>\n",
       "      <td>1.425554</td>\n",
       "      <td>1.693648</td>\n",
       "      <td>2.083324</td>\n",
       "      <td>1.347733</td>\n",
       "    </tr>\n",
       "    <tr>\n",
       "      <th>max</th>\n",
       "      <td>6.099196</td>\n",
       "      <td>5.054764</td>\n",
       "      <td>14.130729</td>\n",
       "      <td>8.573440</td>\n",
       "    </tr>\n",
       "  </tbody>\n",
       "</table>\n",
       "</div>"
      ],
      "text/plain": [
       "       gsrai_gt_up  gsrai_gt_down  gsrai_lt_down  gsrai_lt_up\n",
       "count   250.000000     186.000000     213.000000   222.000000\n",
       "mean      0.033424       0.428481       0.424959    -0.051730\n",
       "std       2.228318       1.861506       3.014529     2.409320\n",
       "min      -6.883790      -6.196581      -9.132153    -9.056984\n",
       "25%      -1.423979      -0.707272      -1.095890    -1.313004\n",
       "50%       0.235020       0.440878       0.640282     0.000000\n",
       "75%       1.425554       1.693648       2.083324     1.347733\n",
       "max       6.099196       5.054764      14.130729     8.573440"
      ]
     },
     "execution_count": 104,
     "metadata": {},
     "output_type": "execute_result"
    }
   ],
   "source": [
    "lista = []\n",
    "for col in df_gp['classe'].dropna().unique():\n",
    "    desc = df_gp[df_gp[col]==1][[pct]].describe().rename(columns={pct: col})\n",
    "    lista.append(desc)\n",
    "pd.concat(lista, axis=1)"
   ]
  },
  {
   "cell_type": "code",
   "execution_count": 105,
   "id": "5e16c552",
   "metadata": {
    "scrolled": true
   },
   "outputs": [
    {
     "data": {
      "application/vnd.jupyter.widget-view+json": {
       "model_id": "2e17138b96fb46da9d35fd3b42fb24d2",
       "version_major": 2,
       "version_minor": 0
      },
      "text/plain": [
       "interactive(children=(Dropdown(description='pct', options=('pct_1_sem', 'pct_2_sem', 'pct_3_sem', 'pct_4_sem',…"
      ]
     },
     "metadata": {},
     "output_type": "display_data"
    }
   ],
   "source": [
    "@interact(df=fixed(df_gp), \n",
    "          pct=['pct_1_sem', 'pct_2_sem', 'pct_3_sem', 'pct_4_sem', 'pct_5_sem'],\n",
    "          limit=FloatSlider(min=-1, max=1, step=0.05, value=0),\n",
    "          diff=FloatSlider(min=-1, max=1, step=0.05, value=0),\n",
    "#           media_movel=IntSlider(min=2, max=6, step=1, value=3)\n",
    "         )\n",
    "def hist_classes(df, pct, limit=0, diff=0):\n",
    "    df = classe_gsrai(df=df, limit=limit, media_movel=None, diff=diff).dropna()\n",
    "    fig = px.histogram(df.sort_values('classe'), x=pct, color=\"classe\", marginal=\"box\", nbins=100, \n",
    "#                        range_y=[0,50],\n",
    "                       range_x=[df[pct].min()-1,df[pct].max()+1],\n",
    "                       title=f'Distribuição {indice} {pct} ',\n",
    "                      )\n",
    "    fig.update_layout(barmode='overlay')\n",
    "    fig.update_traces(opacity=0.65)\n",
    "    fig.add_vline(x=0,line_dash=\"dash\")\n",
    "    \n",
    "    for i, classe in enumerate(df['classe'].unique()):\n",
    "        fig.add_annotation(text=f'Total {classe}: {len(df[df[\"classe\"]==classe])}',\n",
    "                           showarrow=False, yshift=70-(i*19), xshift=450)\n",
    "        fig.add_annotation(text=f'σ {classe}: {df[df[\"classe\"]==classe][pct].std():.2f} ',\n",
    "                       showarrow=False, yshift=200-(i*19), xshift=450)   \n",
    "    return fig\n",
    "\n",
    "    \n",
    "hist_classes(df_gp, pct, limit=-1, diff=0);"
   ]
  },
  {
   "cell_type": "code",
   "execution_count": 106,
   "id": "9561d68f",
   "metadata": {},
   "outputs": [
    {
     "data": {
      "application/vnd.jupyter.widget-view+json": {
       "model_id": "e7e81cdbcaed4a53b7804d613d3c27ed",
       "version_major": 2,
       "version_minor": 0
      },
      "text/plain": [
       "interactive(children=(Dropdown(description='pct', options=('pct_1_sem', 'pct_2_sem', 'pct_3_sem', 'pct_4_sem',…"
      ]
     },
     "metadata": {},
     "output_type": "display_data"
    }
   ],
   "source": [
    "@interact(df=fixed(df_gp), \n",
    "          pct=['pct_1_sem', 'pct_2_sem', 'pct_3_sem', 'pct_4_sem', 'pct_5_sem'],\n",
    "          limit=FloatSlider(min=-1, max=1, step=0.05, value=0),\n",
    "#           media_movel=IntSlider(min=2, max=6, step=1, value=3)\n",
    "         )\n",
    "def hist_diff(df, pct, limit=0):\n",
    "    df = classe_gsrai(df=df, limit=limit, media_movel=3).dropna()\n",
    "    df = df.copy()\n",
    "    df['classe_diff'] = np.where(df['gsrai_diff']<=limit, 'abaixo', 'acima')\n",
    "    fig = px.histogram(df.sort_values('classe_diff', ascending=False), \n",
    "                       x=pct, color=\"classe_diff\", \n",
    "                       marginal=\"box\", nbins=100, \n",
    "#                        range_y=[0,50],\n",
    "                       range_x=[df[pct].min()-1,df[pct].max()+1],\n",
    "                       title=f'Distribuição {indice} {pct} por diff GSRAI',\n",
    "                      )\n",
    "    fig.update_layout(barmode='overlay')\n",
    "    fig.update_traces(opacity=0.65)\n",
    "    fig.add_vline(x=0,line_dash=\"dash\")\n",
    "    \n",
    "    for i, classe in enumerate(df['classe_diff'].unique()):\n",
    "        fig.add_annotation(text=f'Total {classe}: {len(df[df[\"classe_diff\"]==classe])}',\n",
    "                           showarrow=False, yshift=100-(i*19), xshift=450)\n",
    "        fig.add_annotation(text=f'σ {classe}: {df[df[\"classe_diff\"]==classe][pct].std():.2f} ',\n",
    "                       showarrow=False, yshift=200-(i*19), xshift=450)   \n",
    "    return fig\n",
    "\n",
    "    \n",
    "hist_diff(df_gp, pct);"
   ]
  },
  {
   "cell_type": "code",
   "execution_count": 14,
   "id": "6a6414c9",
   "metadata": {
    "scrolled": true
   },
   "outputs": [
    {
     "data": {
      "text/plain": [
       "retorno acumulado                                           330.496237\n",
       "GSRAII Index                                                    -72.67\n",
       "pct_1_sem                                                  -616.750175\n",
       "pct_2_sem                                                  -632.461834\n",
       "pct_3_sem                                                  -620.797128\n",
       "pct_4_sem                                                  -635.701109\n",
       "pct_5_sem                                                  -648.560129\n",
       "gsrai_diff                                                      -31.37\n",
       "gsrai_gt_up                                                         33\n",
       "gsrai_gt_down                                                       43\n",
       "gsrai_lt_up                                                         28\n",
       "gsrai_lt_down                                                       92\n",
       "classe               gsrai_gt_downgsrai_lt_downgsrai_lt_downgsrai_l...\n",
       "dtype: object"
      ]
     },
     "execution_count": 14,
     "metadata": {},
     "output_type": "execute_result"
    }
   ],
   "source": [
    "cut = df_gp[pct].quantile(0.15)\n",
    "df_gp[(df_gp[pct]<=cut)].sum()"
   ]
  },
  {
   "cell_type": "code",
   "execution_count": 64,
   "id": "ec60c2d9",
   "metadata": {},
   "outputs": [
    {
     "data": {
      "application/vnd.jupyter.widget-view+json": {
       "model_id": "ac51dcba2a7346ac803172a959a77d7b",
       "version_major": 2,
       "version_minor": 0
      },
      "text/plain": [
       "interactive(children=(Dropdown(description='pct', options=('pct_1_sem', 'pct_2_sem', 'pct_3_sem', 'pct_4_sem',…"
      ]
     },
     "metadata": {},
     "output_type": "display_data"
    },
    {
     "ename": "TypeError",
     "evalue": "hist_classes() got an unexpected keyword argument 'diff'",
     "output_type": "error",
     "traceback": [
      "\u001b[1;31m---------------------------------------------------------------------------\u001b[0m",
      "\u001b[1;31mTypeError\u001b[0m                                 Traceback (most recent call last)",
      "\u001b[1;32m<ipython-input-64-3dc554c8383b>\u001b[0m in \u001b[0;36m<module>\u001b[1;34m\u001b[0m\n\u001b[0;32m     24\u001b[0m \u001b[1;33m\u001b[0m\u001b[0m\n\u001b[0;32m     25\u001b[0m \u001b[1;33m\u001b[0m\u001b[0m\n\u001b[1;32m---> 26\u001b[1;33m \u001b[0mhist_classes\u001b[0m\u001b[1;33m(\u001b[0m\u001b[0mdf_gp\u001b[0m\u001b[1;33m,\u001b[0m \u001b[0mpct\u001b[0m\u001b[1;33m,\u001b[0m \u001b[0mlimit\u001b[0m\u001b[1;33m=\u001b[0m\u001b[1;33m-\u001b[0m\u001b[1;36m1\u001b[0m\u001b[1;33m,\u001b[0m \u001b[0mdiff\u001b[0m\u001b[1;33m=\u001b[0m\u001b[1;36m0\u001b[0m\u001b[1;33m)\u001b[0m\u001b[1;33m;\u001b[0m\u001b[1;33m\u001b[0m\u001b[1;33m\u001b[0m\u001b[0m\n\u001b[0m",
      "\u001b[1;31mTypeError\u001b[0m: hist_classes() got an unexpected keyword argument 'diff'"
     ]
    }
   ],
   "source": [
    "@interact(df=fixed(df_gp), \n",
    "          pct=['pct_1_sem', 'pct_2_sem', 'pct_3_sem', 'pct_4_sem', 'pct_5_sem'],\n",
    "          limit=FloatSlider(min=-1, max=1, step=0.05, value=0),\n",
    "#           diff=FloatSlider(min=-1, max=1, step=0.05, value=0),\n",
    "          media_movel=IntSlider(min=2, max=6, step=1, value=3)\n",
    "         )\n",
    "def hist_classes(df, pct, limit=0, media_movel=3):\n",
    "    df = classe_gsrai(df=df, limit=limit, media_movel=3, diff=None).dropna()\n",
    "    fig = px.histogram(df.sort_values('classe'), x=pct, color=\"classe\", marginal=\"box\", nbins=100, \n",
    "#                        range_y=[0,50],\n",
    "                       range_x=[df[pct].min()-1,df[pct].max()+1],\n",
    "                       title=f'Distribuição {indice} {pct} ',\n",
    "                      )\n",
    "    fig.update_layout(barmode='overlay')\n",
    "    fig.update_traces(opacity=0.65)\n",
    "    fig.add_vline(x=0,line_dash=\"dash\")\n",
    "    \n",
    "    for i, classe in enumerate(df['classe'].unique()):\n",
    "        fig.add_annotation(text=f'Total {classe}: {len(df[df[\"classe\"]==classe])}',\n",
    "                           showarrow=False, yshift=70-(i*19), xshift=450)\n",
    "        fig.add_annotation(text=f'σ {classe}: {df[df[\"classe\"]==classe][pct].std():.2f} ',\n",
    "                       showarrow=False, yshift=200-(i*19), xshift=450)   \n",
    "    return fig\n",
    "\n",
    "    \n",
    "hist_classes(df_gp, pct, limit=-1, diff=0);"
   ]
  },
  {
   "cell_type": "code",
   "execution_count": 16,
   "id": "75333758",
   "metadata": {
    "scrolled": true
   },
   "outputs": [
    {
     "data": {
      "text/plain": [
       "count    866.000000\n",
       "mean       0.778018\n",
       "std        1.545590\n",
       "min       -1.653355\n",
       "25%       -0.296404\n",
       "50%        0.565290\n",
       "75%        1.575856\n",
       "max       12.876584\n",
       "Name: pct_1_sem, dtype: float64"
      ]
     },
     "execution_count": 16,
     "metadata": {},
     "output_type": "execute_result"
    }
   ],
   "source": [
    "df_gp[(df_gp[pct]>cut) & (df_gp['gsrai_lt_down']==0)][pct].describe()"
   ]
  },
  {
   "cell_type": "code",
   "execution_count": 17,
   "id": "4cb53336",
   "metadata": {},
   "outputs": [
    {
     "data": {
      "text/plain": [
       "Index(['Date', 'retorno acumulado', 'GSRAII Index', 'pct_1_sem', 'pct_2_sem',\n",
       "       'pct_3_sem', 'pct_4_sem', 'pct_5_sem', 'gsrai_diff', 'gsrai_gt_up',\n",
       "       'gsrai_gt_down', 'gsrai_lt_up', 'gsrai_lt_down', 'classe'],\n",
       "      dtype='object')"
      ]
     },
     "execution_count": 17,
     "metadata": {},
     "output_type": "execute_result"
    }
   ],
   "source": [
    "df_gp.columns"
   ]
  },
  {
   "cell_type": "code",
   "execution_count": 18,
   "id": "84024bee",
   "metadata": {
    "scrolled": true
   },
   "outputs": [],
   "source": [
    "# import seaborn as sns\n",
    "# sns.pairplot(df_gp.drop(columns= ['gsrai_gt_up',\n",
    "#        'gsrai_gt_down', 'gsrai_lt_up', 'gsrai_lt_down']), hue='classe');"
   ]
  },
  {
   "cell_type": "code",
   "execution_count": 19,
   "id": "cd17880c",
   "metadata": {},
   "outputs": [],
   "source": [
    "df_gp.to_csv('gsrai.csv')"
   ]
  },
  {
   "cell_type": "code",
   "execution_count": 20,
   "id": "443ef383",
   "metadata": {},
   "outputs": [
    {
     "data": {
      "text/html": [
       "<div>\n",
       "<style scoped>\n",
       "    .dataframe tbody tr th:only-of-type {\n",
       "        vertical-align: middle;\n",
       "    }\n",
       "\n",
       "    .dataframe tbody tr th {\n",
       "        vertical-align: top;\n",
       "    }\n",
       "\n",
       "    .dataframe thead th {\n",
       "        text-align: right;\n",
       "    }\n",
       "</style>\n",
       "<table border=\"1\" class=\"dataframe\">\n",
       "  <thead>\n",
       "    <tr style=\"text-align: right;\">\n",
       "      <th></th>\n",
       "      <th>Date</th>\n",
       "      <th>retorno acumulado</th>\n",
       "      <th>GSRAII Index</th>\n",
       "      <th>pct_1_sem</th>\n",
       "      <th>pct_2_sem</th>\n",
       "      <th>pct_3_sem</th>\n",
       "      <th>pct_4_sem</th>\n",
       "      <th>pct_5_sem</th>\n",
       "      <th>gsrai_diff</th>\n",
       "      <th>gsrai_gt_up</th>\n",
       "      <th>gsrai_gt_down</th>\n",
       "      <th>gsrai_lt_up</th>\n",
       "      <th>gsrai_lt_down</th>\n",
       "      <th>classe</th>\n",
       "    </tr>\n",
       "    <tr>\n",
       "      <th>year_week</th>\n",
       "      <th></th>\n",
       "      <th></th>\n",
       "      <th></th>\n",
       "      <th></th>\n",
       "      <th></th>\n",
       "      <th></th>\n",
       "      <th></th>\n",
       "      <th></th>\n",
       "      <th></th>\n",
       "      <th></th>\n",
       "      <th></th>\n",
       "      <th></th>\n",
       "      <th></th>\n",
       "      <th></th>\n",
       "    </tr>\n",
       "  </thead>\n",
       "  <tbody>\n",
       "    <tr>\n",
       "      <th>2019-35</th>\n",
       "      <td>2019-09-06</td>\n",
       "      <td>2.160403</td>\n",
       "      <td>-0.56</td>\n",
       "      <td>1.025457</td>\n",
       "      <td>3.153910</td>\n",
       "      <td>2.719429</td>\n",
       "      <td>3.906839</td>\n",
       "      <td>4.964992</td>\n",
       "      <td>0.38</td>\n",
       "      <td>0</td>\n",
       "      <td>0</td>\n",
       "      <td>1</td>\n",
       "      <td>0</td>\n",
       "      <td>gsrai_lt_up</td>\n",
       "    </tr>\n",
       "    <tr>\n",
       "      <th>2019-36</th>\n",
       "      <td>2019-09-13</td>\n",
       "      <td>2.093113</td>\n",
       "      <td>-0.10</td>\n",
       "      <td>-3.114659</td>\n",
       "      <td>-2.121142</td>\n",
       "      <td>-0.058983</td>\n",
       "      <td>-0.479931</td>\n",
       "      <td>0.670495</td>\n",
       "      <td>0.46</td>\n",
       "      <td>0</td>\n",
       "      <td>0</td>\n",
       "      <td>1</td>\n",
       "      <td>0</td>\n",
       "      <td>gsrai_lt_up</td>\n",
       "    </tr>\n",
       "    <tr>\n",
       "      <th>2019-37</th>\n",
       "      <td>2019-09-20</td>\n",
       "      <td>2.135830</td>\n",
       "      <td>-0.25</td>\n",
       "      <td>2.040805</td>\n",
       "      <td>-1.137419</td>\n",
       "      <td>-0.123625</td>\n",
       "      <td>1.980618</td>\n",
       "      <td>1.551079</td>\n",
       "      <td>-0.15</td>\n",
       "      <td>0</td>\n",
       "      <td>0</td>\n",
       "      <td>0</td>\n",
       "      <td>1</td>\n",
       "      <td>gsrai_lt_down</td>\n",
       "    </tr>\n",
       "    <tr>\n",
       "      <th>2019-38</th>\n",
       "      <td>2019-09-27</td>\n",
       "      <td>2.121000</td>\n",
       "      <td>-0.51</td>\n",
       "      <td>-0.694308</td>\n",
       "      <td>1.332327</td>\n",
       "      <td>-1.823830</td>\n",
       "      <td>-0.817075</td>\n",
       "      <td>1.272558</td>\n",
       "      <td>-0.26</td>\n",
       "      <td>0</td>\n",
       "      <td>0</td>\n",
       "      <td>0</td>\n",
       "      <td>1</td>\n",
       "      <td>gsrai_lt_down</td>\n",
       "    </tr>\n",
       "    <tr>\n",
       "      <th>2019-39</th>\n",
       "      <td>2019-10-04</td>\n",
       "      <td>2.150420</td>\n",
       "      <td>-0.75</td>\n",
       "      <td>1.387055</td>\n",
       "      <td>0.683117</td>\n",
       "      <td>2.737863</td>\n",
       "      <td>-0.462072</td>\n",
       "      <td>0.558647</td>\n",
       "      <td>-0.24</td>\n",
       "      <td>0</td>\n",
       "      <td>0</td>\n",
       "      <td>0</td>\n",
       "      <td>1</td>\n",
       "      <td>gsrai_lt_down</td>\n",
       "    </tr>\n",
       "    <tr>\n",
       "      <th>2019-40</th>\n",
       "      <td>2019-10-11</td>\n",
       "      <td>2.111412</td>\n",
       "      <td>-0.30</td>\n",
       "      <td>-1.813965</td>\n",
       "      <td>-0.452070</td>\n",
       "      <td>-1.143240</td>\n",
       "      <td>0.874234</td>\n",
       "      <td>-2.267655</td>\n",
       "      <td>0.45</td>\n",
       "      <td>0</td>\n",
       "      <td>0</td>\n",
       "      <td>1</td>\n",
       "      <td>0</td>\n",
       "      <td>gsrai_lt_up</td>\n",
       "    </tr>\n",
       "    <tr>\n",
       "      <th>2019-41</th>\n",
       "      <td>2019-10-18</td>\n",
       "      <td>2.119937</td>\n",
       "      <td>-0.16</td>\n",
       "      <td>0.403740</td>\n",
       "      <td>-1.417548</td>\n",
       "      <td>-0.050155</td>\n",
       "      <td>-0.744115</td>\n",
       "      <td>1.281504</td>\n",
       "      <td>0.14</td>\n",
       "      <td>0</td>\n",
       "      <td>0</td>\n",
       "      <td>1</td>\n",
       "      <td>0</td>\n",
       "      <td>gsrai_lt_up</td>\n",
       "    </tr>\n",
       "    <tr>\n",
       "      <th>2019-42</th>\n",
       "      <td>2019-10-25</td>\n",
       "      <td>2.137325</td>\n",
       "      <td>0.05</td>\n",
       "      <td>0.820231</td>\n",
       "      <td>1.227283</td>\n",
       "      <td>-0.608944</td>\n",
       "      <td>0.769665</td>\n",
       "      <td>0.070013</td>\n",
       "      <td>0.21</td>\n",
       "      <td>1</td>\n",
       "      <td>0</td>\n",
       "      <td>0</td>\n",
       "      <td>0</td>\n",
       "      <td>gsrai_gt_up</td>\n",
       "    </tr>\n",
       "    <tr>\n",
       "      <th>2019-43</th>\n",
       "      <td>2019-11-01</td>\n",
       "      <td>2.182062</td>\n",
       "      <td>0.05</td>\n",
       "      <td>2.093110</td>\n",
       "      <td>2.930509</td>\n",
       "      <td>3.346081</td>\n",
       "      <td>1.471419</td>\n",
       "      <td>2.878884</td>\n",
       "      <td>0.00</td>\n",
       "      <td>1</td>\n",
       "      <td>0</td>\n",
       "      <td>0</td>\n",
       "      <td>0</td>\n",
       "      <td>gsrai_gt_up</td>\n",
       "    </tr>\n",
       "    <tr>\n",
       "      <th>2019-44</th>\n",
       "      <td>2019-11-08</td>\n",
       "      <td>2.133800</td>\n",
       "      <td>0.36</td>\n",
       "      <td>-2.211768</td>\n",
       "      <td>-0.164953</td>\n",
       "      <td>0.653925</td>\n",
       "      <td>1.060306</td>\n",
       "      <td>-0.772893</td>\n",
       "      <td>0.31</td>\n",
       "      <td>1</td>\n",
       "      <td>0</td>\n",
       "      <td>0</td>\n",
       "      <td>0</td>\n",
       "      <td>gsrai_gt_up</td>\n",
       "    </tr>\n",
       "    <tr>\n",
       "      <th>2019-45</th>\n",
       "      <td>2019-11-15</td>\n",
       "      <td>2.151467</td>\n",
       "      <td>0.13</td>\n",
       "      <td>0.827963</td>\n",
       "      <td>-1.402117</td>\n",
       "      <td>0.661645</td>\n",
       "      <td>1.487302</td>\n",
       "      <td>1.897048</td>\n",
       "      <td>-0.23</td>\n",
       "      <td>0</td>\n",
       "      <td>1</td>\n",
       "      <td>0</td>\n",
       "      <td>0</td>\n",
       "      <td>gsrai_gt_down</td>\n",
       "    </tr>\n",
       "  </tbody>\n",
       "</table>\n",
       "</div>"
      ],
      "text/plain": [
       "                Date  retorno acumulado  GSRAII Index  pct_1_sem  pct_2_sem  \\\n",
       "year_week                                                                     \n",
       "2019-35   2019-09-06           2.160403         -0.56   1.025457   3.153910   \n",
       "2019-36   2019-09-13           2.093113         -0.10  -3.114659  -2.121142   \n",
       "2019-37   2019-09-20           2.135830         -0.25   2.040805  -1.137419   \n",
       "2019-38   2019-09-27           2.121000         -0.51  -0.694308   1.332327   \n",
       "2019-39   2019-10-04           2.150420         -0.75   1.387055   0.683117   \n",
       "2019-40   2019-10-11           2.111412         -0.30  -1.813965  -0.452070   \n",
       "2019-41   2019-10-18           2.119937         -0.16   0.403740  -1.417548   \n",
       "2019-42   2019-10-25           2.137325          0.05   0.820231   1.227283   \n",
       "2019-43   2019-11-01           2.182062          0.05   2.093110   2.930509   \n",
       "2019-44   2019-11-08           2.133800          0.36  -2.211768  -0.164953   \n",
       "2019-45   2019-11-15           2.151467          0.13   0.827963  -1.402117   \n",
       "\n",
       "           pct_3_sem  pct_4_sem  pct_5_sem  gsrai_diff  gsrai_gt_up  \\\n",
       "year_week                                                             \n",
       "2019-35     2.719429   3.906839   4.964992        0.38            0   \n",
       "2019-36    -0.058983  -0.479931   0.670495        0.46            0   \n",
       "2019-37    -0.123625   1.980618   1.551079       -0.15            0   \n",
       "2019-38    -1.823830  -0.817075   1.272558       -0.26            0   \n",
       "2019-39     2.737863  -0.462072   0.558647       -0.24            0   \n",
       "2019-40    -1.143240   0.874234  -2.267655        0.45            0   \n",
       "2019-41    -0.050155  -0.744115   1.281504        0.14            0   \n",
       "2019-42    -0.608944   0.769665   0.070013        0.21            1   \n",
       "2019-43     3.346081   1.471419   2.878884        0.00            1   \n",
       "2019-44     0.653925   1.060306  -0.772893        0.31            1   \n",
       "2019-45     0.661645   1.487302   1.897048       -0.23            0   \n",
       "\n",
       "           gsrai_gt_down  gsrai_lt_up  gsrai_lt_down         classe  \n",
       "year_week                                                            \n",
       "2019-35                0            1              0    gsrai_lt_up  \n",
       "2019-36                0            1              0    gsrai_lt_up  \n",
       "2019-37                0            0              1  gsrai_lt_down  \n",
       "2019-38                0            0              1  gsrai_lt_down  \n",
       "2019-39                0            0              1  gsrai_lt_down  \n",
       "2019-40                0            1              0    gsrai_lt_up  \n",
       "2019-41                0            1              0    gsrai_lt_up  \n",
       "2019-42                0            0              0    gsrai_gt_up  \n",
       "2019-43                0            0              0    gsrai_gt_up  \n",
       "2019-44                0            0              0    gsrai_gt_up  \n",
       "2019-45                1            0              0  gsrai_gt_down  "
      ]
     },
     "execution_count": 20,
     "metadata": {},
     "output_type": "execute_result"
    }
   ],
   "source": [
    "df_gp['2019-35':'2019-45']"
   ]
  },
  {
   "cell_type": "code",
   "execution_count": 21,
   "id": "a9216bf6",
   "metadata": {
    "scrolled": true
   },
   "outputs": [
    {
     "ename": "KeyError",
     "evalue": "'pct_ret'",
     "output_type": "error",
     "traceback": [
      "\u001b[1;31m---------------------------------------------------------------------------\u001b[0m",
      "\u001b[1;31mKeyError\u001b[0m                                  Traceback (most recent call last)",
      "\u001b[1;32mC:\\ProgramData\\Anaconda3\\Lib\\site-packages\\pandas\\core\\indexes\\base.py\u001b[0m in \u001b[0;36mget_loc\u001b[1;34m(self, key, method, tolerance)\u001b[0m\n\u001b[0;32m   3079\u001b[0m             \u001b[1;32mtry\u001b[0m\u001b[1;33m:\u001b[0m\u001b[1;33m\u001b[0m\u001b[1;33m\u001b[0m\u001b[0m\n\u001b[1;32m-> 3080\u001b[1;33m                 \u001b[1;32mreturn\u001b[0m \u001b[0mself\u001b[0m\u001b[1;33m.\u001b[0m\u001b[0m_engine\u001b[0m\u001b[1;33m.\u001b[0m\u001b[0mget_loc\u001b[0m\u001b[1;33m(\u001b[0m\u001b[0mcasted_key\u001b[0m\u001b[1;33m)\u001b[0m\u001b[1;33m\u001b[0m\u001b[1;33m\u001b[0m\u001b[0m\n\u001b[0m\u001b[0;32m   3081\u001b[0m             \u001b[1;32mexcept\u001b[0m \u001b[0mKeyError\u001b[0m \u001b[1;32mas\u001b[0m \u001b[0merr\u001b[0m\u001b[1;33m:\u001b[0m\u001b[1;33m\u001b[0m\u001b[1;33m\u001b[0m\u001b[0m\n",
      "\u001b[1;32mpandas\\_libs\\index.pyx\u001b[0m in \u001b[0;36mpandas._libs.index.IndexEngine.get_loc\u001b[1;34m()\u001b[0m\n",
      "\u001b[1;32mpandas\\_libs\\index.pyx\u001b[0m in \u001b[0;36mpandas._libs.index.IndexEngine.get_loc\u001b[1;34m()\u001b[0m\n",
      "\u001b[1;32mpandas\\_libs\\hashtable_class_helper.pxi\u001b[0m in \u001b[0;36mpandas._libs.hashtable.PyObjectHashTable.get_item\u001b[1;34m()\u001b[0m\n",
      "\u001b[1;32mpandas\\_libs\\hashtable_class_helper.pxi\u001b[0m in \u001b[0;36mpandas._libs.hashtable.PyObjectHashTable.get_item\u001b[1;34m()\u001b[0m\n",
      "\u001b[1;31mKeyError\u001b[0m: 'pct_ret'",
      "\nThe above exception was the direct cause of the following exception:\n",
      "\u001b[1;31mKeyError\u001b[0m                                  Traceback (most recent call last)",
      "\u001b[1;32m<ipython-input-21-756934933ad1>\u001b[0m in \u001b[0;36m<module>\u001b[1;34m\u001b[0m\n\u001b[1;32m----> 1\u001b[1;33m \u001b[0mdf_gp\u001b[0m\u001b[1;33m[\u001b[0m\u001b[1;33m(\u001b[0m\u001b[0mdf_gp\u001b[0m\u001b[1;33m[\u001b[0m\u001b[1;34m'pct_ret'\u001b[0m\u001b[1;33m]\u001b[0m\u001b[1;33m<\u001b[0m\u001b[1;36m0\u001b[0m\u001b[1;33m)\u001b[0m \u001b[1;33m&\u001b[0m \u001b[1;33m(\u001b[0m\u001b[0mdf_gp\u001b[0m\u001b[1;33m[\u001b[0m\u001b[1;34m'gsrai_lt_down'\u001b[0m\u001b[1;33m]\u001b[0m\u001b[1;33m==\u001b[0m\u001b[1;36m1\u001b[0m\u001b[1;33m)\u001b[0m\u001b[1;33m]\u001b[0m\u001b[1;33m[\u001b[0m\u001b[1;34m'pct_ret'\u001b[0m\u001b[1;33m]\u001b[0m\u001b[1;33m.\u001b[0m\u001b[0mdescribe\u001b[0m\u001b[1;33m(\u001b[0m\u001b[1;33m)\u001b[0m\u001b[1;33m\u001b[0m\u001b[1;33m\u001b[0m\u001b[0m\n\u001b[0m",
      "\u001b[1;32mC:\\ProgramData\\Anaconda3\\Lib\\site-packages\\pandas\\core\\frame.py\u001b[0m in \u001b[0;36m__getitem__\u001b[1;34m(self, key)\u001b[0m\n\u001b[0;32m   3022\u001b[0m             \u001b[1;32mif\u001b[0m \u001b[0mself\u001b[0m\u001b[1;33m.\u001b[0m\u001b[0mcolumns\u001b[0m\u001b[1;33m.\u001b[0m\u001b[0mnlevels\u001b[0m \u001b[1;33m>\u001b[0m \u001b[1;36m1\u001b[0m\u001b[1;33m:\u001b[0m\u001b[1;33m\u001b[0m\u001b[1;33m\u001b[0m\u001b[0m\n\u001b[0;32m   3023\u001b[0m                 \u001b[1;32mreturn\u001b[0m \u001b[0mself\u001b[0m\u001b[1;33m.\u001b[0m\u001b[0m_getitem_multilevel\u001b[0m\u001b[1;33m(\u001b[0m\u001b[0mkey\u001b[0m\u001b[1;33m)\u001b[0m\u001b[1;33m\u001b[0m\u001b[1;33m\u001b[0m\u001b[0m\n\u001b[1;32m-> 3024\u001b[1;33m             \u001b[0mindexer\u001b[0m \u001b[1;33m=\u001b[0m \u001b[0mself\u001b[0m\u001b[1;33m.\u001b[0m\u001b[0mcolumns\u001b[0m\u001b[1;33m.\u001b[0m\u001b[0mget_loc\u001b[0m\u001b[1;33m(\u001b[0m\u001b[0mkey\u001b[0m\u001b[1;33m)\u001b[0m\u001b[1;33m\u001b[0m\u001b[1;33m\u001b[0m\u001b[0m\n\u001b[0m\u001b[0;32m   3025\u001b[0m             \u001b[1;32mif\u001b[0m \u001b[0mis_integer\u001b[0m\u001b[1;33m(\u001b[0m\u001b[0mindexer\u001b[0m\u001b[1;33m)\u001b[0m\u001b[1;33m:\u001b[0m\u001b[1;33m\u001b[0m\u001b[1;33m\u001b[0m\u001b[0m\n\u001b[0;32m   3026\u001b[0m                 \u001b[0mindexer\u001b[0m \u001b[1;33m=\u001b[0m \u001b[1;33m[\u001b[0m\u001b[0mindexer\u001b[0m\u001b[1;33m]\u001b[0m\u001b[1;33m\u001b[0m\u001b[1;33m\u001b[0m\u001b[0m\n",
      "\u001b[1;32mC:\\ProgramData\\Anaconda3\\Lib\\site-packages\\pandas\\core\\indexes\\base.py\u001b[0m in \u001b[0;36mget_loc\u001b[1;34m(self, key, method, tolerance)\u001b[0m\n\u001b[0;32m   3080\u001b[0m                 \u001b[1;32mreturn\u001b[0m \u001b[0mself\u001b[0m\u001b[1;33m.\u001b[0m\u001b[0m_engine\u001b[0m\u001b[1;33m.\u001b[0m\u001b[0mget_loc\u001b[0m\u001b[1;33m(\u001b[0m\u001b[0mcasted_key\u001b[0m\u001b[1;33m)\u001b[0m\u001b[1;33m\u001b[0m\u001b[1;33m\u001b[0m\u001b[0m\n\u001b[0;32m   3081\u001b[0m             \u001b[1;32mexcept\u001b[0m \u001b[0mKeyError\u001b[0m \u001b[1;32mas\u001b[0m \u001b[0merr\u001b[0m\u001b[1;33m:\u001b[0m\u001b[1;33m\u001b[0m\u001b[1;33m\u001b[0m\u001b[0m\n\u001b[1;32m-> 3082\u001b[1;33m                 \u001b[1;32mraise\u001b[0m \u001b[0mKeyError\u001b[0m\u001b[1;33m(\u001b[0m\u001b[0mkey\u001b[0m\u001b[1;33m)\u001b[0m \u001b[1;32mfrom\u001b[0m \u001b[0merr\u001b[0m\u001b[1;33m\u001b[0m\u001b[1;33m\u001b[0m\u001b[0m\n\u001b[0m\u001b[0;32m   3083\u001b[0m \u001b[1;33m\u001b[0m\u001b[0m\n\u001b[0;32m   3084\u001b[0m         \u001b[1;32mif\u001b[0m \u001b[0mtolerance\u001b[0m \u001b[1;32mis\u001b[0m \u001b[1;32mnot\u001b[0m \u001b[1;32mNone\u001b[0m\u001b[1;33m:\u001b[0m\u001b[1;33m\u001b[0m\u001b[1;33m\u001b[0m\u001b[0m\n",
      "\u001b[1;31mKeyError\u001b[0m: 'pct_ret'"
     ]
    }
   ],
   "source": [
    "df_gp[(df_gp['pct_ret']<0) & (df_gp['gsrai_lt_down']==1)]['pct_ret'].describe()"
   ]
  },
  {
   "cell_type": "code",
   "execution_count": 22,
   "id": "8ce18de9",
   "metadata": {},
   "outputs": [
    {
     "ename": "KeyError",
     "evalue": "'pct_ret'",
     "output_type": "error",
     "traceback": [
      "\u001b[1;31m---------------------------------------------------------------------------\u001b[0m",
      "\u001b[1;31mKeyError\u001b[0m                                  Traceback (most recent call last)",
      "\u001b[1;32mC:\\ProgramData\\Anaconda3\\Lib\\site-packages\\pandas\\core\\indexes\\base.py\u001b[0m in \u001b[0;36mget_loc\u001b[1;34m(self, key, method, tolerance)\u001b[0m\n\u001b[0;32m   3079\u001b[0m             \u001b[1;32mtry\u001b[0m\u001b[1;33m:\u001b[0m\u001b[1;33m\u001b[0m\u001b[1;33m\u001b[0m\u001b[0m\n\u001b[1;32m-> 3080\u001b[1;33m                 \u001b[1;32mreturn\u001b[0m \u001b[0mself\u001b[0m\u001b[1;33m.\u001b[0m\u001b[0m_engine\u001b[0m\u001b[1;33m.\u001b[0m\u001b[0mget_loc\u001b[0m\u001b[1;33m(\u001b[0m\u001b[0mcasted_key\u001b[0m\u001b[1;33m)\u001b[0m\u001b[1;33m\u001b[0m\u001b[1;33m\u001b[0m\u001b[0m\n\u001b[0m\u001b[0;32m   3081\u001b[0m             \u001b[1;32mexcept\u001b[0m \u001b[0mKeyError\u001b[0m \u001b[1;32mas\u001b[0m \u001b[0merr\u001b[0m\u001b[1;33m:\u001b[0m\u001b[1;33m\u001b[0m\u001b[1;33m\u001b[0m\u001b[0m\n",
      "\u001b[1;32mpandas\\_libs\\index.pyx\u001b[0m in \u001b[0;36mpandas._libs.index.IndexEngine.get_loc\u001b[1;34m()\u001b[0m\n",
      "\u001b[1;32mpandas\\_libs\\index.pyx\u001b[0m in \u001b[0;36mpandas._libs.index.IndexEngine.get_loc\u001b[1;34m()\u001b[0m\n",
      "\u001b[1;32mpandas\\_libs\\hashtable_class_helper.pxi\u001b[0m in \u001b[0;36mpandas._libs.hashtable.PyObjectHashTable.get_item\u001b[1;34m()\u001b[0m\n",
      "\u001b[1;32mpandas\\_libs\\hashtable_class_helper.pxi\u001b[0m in \u001b[0;36mpandas._libs.hashtable.PyObjectHashTable.get_item\u001b[1;34m()\u001b[0m\n",
      "\u001b[1;31mKeyError\u001b[0m: 'pct_ret'",
      "\nThe above exception was the direct cause of the following exception:\n",
      "\u001b[1;31mKeyError\u001b[0m                                  Traceback (most recent call last)",
      "\u001b[1;32m<ipython-input-22-26be8e395b29>\u001b[0m in \u001b[0;36m<module>\u001b[1;34m\u001b[0m\n\u001b[1;32m----> 1\u001b[1;33m \u001b[0mdf_gp\u001b[0m\u001b[1;33m[\u001b[0m\u001b[1;33m(\u001b[0m\u001b[0mdf_gp\u001b[0m\u001b[1;33m[\u001b[0m\u001b[1;34m'gsrai_lt_down'\u001b[0m\u001b[1;33m]\u001b[0m\u001b[1;33m==\u001b[0m\u001b[1;36m1\u001b[0m\u001b[1;33m)\u001b[0m\u001b[1;33m]\u001b[0m\u001b[1;33m[\u001b[0m\u001b[1;34m'pct_ret'\u001b[0m\u001b[1;33m]\u001b[0m\u001b[1;33m.\u001b[0m\u001b[0mdescribe\u001b[0m\u001b[1;33m(\u001b[0m\u001b[1;33m)\u001b[0m\u001b[1;33m\u001b[0m\u001b[1;33m\u001b[0m\u001b[0m\n\u001b[0m",
      "\u001b[1;32mC:\\ProgramData\\Anaconda3\\Lib\\site-packages\\pandas\\core\\frame.py\u001b[0m in \u001b[0;36m__getitem__\u001b[1;34m(self, key)\u001b[0m\n\u001b[0;32m   3022\u001b[0m             \u001b[1;32mif\u001b[0m \u001b[0mself\u001b[0m\u001b[1;33m.\u001b[0m\u001b[0mcolumns\u001b[0m\u001b[1;33m.\u001b[0m\u001b[0mnlevels\u001b[0m \u001b[1;33m>\u001b[0m \u001b[1;36m1\u001b[0m\u001b[1;33m:\u001b[0m\u001b[1;33m\u001b[0m\u001b[1;33m\u001b[0m\u001b[0m\n\u001b[0;32m   3023\u001b[0m                 \u001b[1;32mreturn\u001b[0m \u001b[0mself\u001b[0m\u001b[1;33m.\u001b[0m\u001b[0m_getitem_multilevel\u001b[0m\u001b[1;33m(\u001b[0m\u001b[0mkey\u001b[0m\u001b[1;33m)\u001b[0m\u001b[1;33m\u001b[0m\u001b[1;33m\u001b[0m\u001b[0m\n\u001b[1;32m-> 3024\u001b[1;33m             \u001b[0mindexer\u001b[0m \u001b[1;33m=\u001b[0m \u001b[0mself\u001b[0m\u001b[1;33m.\u001b[0m\u001b[0mcolumns\u001b[0m\u001b[1;33m.\u001b[0m\u001b[0mget_loc\u001b[0m\u001b[1;33m(\u001b[0m\u001b[0mkey\u001b[0m\u001b[1;33m)\u001b[0m\u001b[1;33m\u001b[0m\u001b[1;33m\u001b[0m\u001b[0m\n\u001b[0m\u001b[0;32m   3025\u001b[0m             \u001b[1;32mif\u001b[0m \u001b[0mis_integer\u001b[0m\u001b[1;33m(\u001b[0m\u001b[0mindexer\u001b[0m\u001b[1;33m)\u001b[0m\u001b[1;33m:\u001b[0m\u001b[1;33m\u001b[0m\u001b[1;33m\u001b[0m\u001b[0m\n\u001b[0;32m   3026\u001b[0m                 \u001b[0mindexer\u001b[0m \u001b[1;33m=\u001b[0m \u001b[1;33m[\u001b[0m\u001b[0mindexer\u001b[0m\u001b[1;33m]\u001b[0m\u001b[1;33m\u001b[0m\u001b[1;33m\u001b[0m\u001b[0m\n",
      "\u001b[1;32mC:\\ProgramData\\Anaconda3\\Lib\\site-packages\\pandas\\core\\indexes\\base.py\u001b[0m in \u001b[0;36mget_loc\u001b[1;34m(self, key, method, tolerance)\u001b[0m\n\u001b[0;32m   3080\u001b[0m                 \u001b[1;32mreturn\u001b[0m \u001b[0mself\u001b[0m\u001b[1;33m.\u001b[0m\u001b[0m_engine\u001b[0m\u001b[1;33m.\u001b[0m\u001b[0mget_loc\u001b[0m\u001b[1;33m(\u001b[0m\u001b[0mcasted_key\u001b[0m\u001b[1;33m)\u001b[0m\u001b[1;33m\u001b[0m\u001b[1;33m\u001b[0m\u001b[0m\n\u001b[0;32m   3081\u001b[0m             \u001b[1;32mexcept\u001b[0m \u001b[0mKeyError\u001b[0m \u001b[1;32mas\u001b[0m \u001b[0merr\u001b[0m\u001b[1;33m:\u001b[0m\u001b[1;33m\u001b[0m\u001b[1;33m\u001b[0m\u001b[0m\n\u001b[1;32m-> 3082\u001b[1;33m                 \u001b[1;32mraise\u001b[0m \u001b[0mKeyError\u001b[0m\u001b[1;33m(\u001b[0m\u001b[0mkey\u001b[0m\u001b[1;33m)\u001b[0m \u001b[1;32mfrom\u001b[0m \u001b[0merr\u001b[0m\u001b[1;33m\u001b[0m\u001b[1;33m\u001b[0m\u001b[0m\n\u001b[0m\u001b[0;32m   3083\u001b[0m \u001b[1;33m\u001b[0m\u001b[0m\n\u001b[0;32m   3084\u001b[0m         \u001b[1;32mif\u001b[0m \u001b[0mtolerance\u001b[0m \u001b[1;32mis\u001b[0m \u001b[1;32mnot\u001b[0m \u001b[1;32mNone\u001b[0m\u001b[1;33m:\u001b[0m\u001b[1;33m\u001b[0m\u001b[1;33m\u001b[0m\u001b[0m\n",
      "\u001b[1;31mKeyError\u001b[0m: 'pct_ret'"
     ]
    }
   ],
   "source": [
    "df_gp[(df_gp['gsrai_lt_down']==1)]['pct_ret'].describe()"
   ]
  },
  {
   "cell_type": "code",
   "execution_count": null,
   "id": "c843c254",
   "metadata": {},
   "outputs": [],
   "source": [
    "df_gp[(df_gp['gsrai_lt_down']==1)]['pct_ret_shift'].describe()"
   ]
  },
  {
   "cell_type": "code",
   "execution_count": null,
   "id": "eba41867",
   "metadata": {
    "scrolled": true
   },
   "outputs": [],
   "source": [
    "df['retorno acumulado'].plot()"
   ]
  },
  {
   "cell_type": "code",
   "execution_count": null,
   "id": "5fe0bf19",
   "metadata": {},
   "outputs": [],
   "source": [
    "#%% Grafico\n",
    "\n",
    "fig = px.line(df, x=\"Date\", y='retorno acumulado')\n",
    "# mask = df_gp['gsrai_lt_down']==1\n",
    "# fig = px.line(df_gp, x=\"Date\", y=['GSRAII Index', 'pct_ret'])\n",
    "\n",
    "# fig.add_trace(go.Scatter(\n",
    "#     x=df_gp[mask]['Date'],\n",
    "#     y=df_gp[mask][pct],\n",
    "#     marker_size=10, mode='markers', name='Queda',\n",
    "#     ))\n",
    "\n",
    "fig.show()"
   ]
  },
  {
   "cell_type": "code",
   "execution_count": null,
   "id": "553b31e4",
   "metadata": {},
   "outputs": [],
   "source": [
    "df_gp"
   ]
  },
  {
   "cell_type": "code",
   "execution_count": 76,
   "id": "84b58120",
   "metadata": {},
   "outputs": [
    {
     "name": "stderr",
     "output_type": "stream",
     "text": [
      "C:\\ProgramData\\Anaconda3\\Lib\\site-packages\\statsmodels\\tsa\\stattools.py:671: FutureWarning:\n",
      "\n",
      "fft=True will become the default after the release of the 0.12 release of statsmodels. To suppress this warning, explicitly set fft=False.\n",
      "\n"
     ]
    }
   ],
   "source": [
    "from statsmodels.tsa.stattools import acf, pacf, adfuller\n",
    "from statsmodels.graphics.tsaplots import plot_acf\n",
    "\n",
    "lag_acf = acf(df['GSRAII Index'].dropna(), nlags=30)\n",
    "lag_pacf = pacf(df['GSRAII Index'].dropna(), nlags=30)"
   ]
  },
  {
   "cell_type": "code",
   "execution_count": 77,
   "id": "fecd551a",
   "metadata": {},
   "outputs": [
    {
     "data": {
      "image/png": "[encoded data removed]",
      "text/plain": [
       "<Figure size 432x288 with 1 Axes>"
      ]
     },
     "execution_count": 77,
     "metadata": {},
     "output_type": "execute_result"
    },
    {
     "data": {
      "image/png": "[encoded data removed]",
      "text/plain": [
       "<Figure size 432x288 with 1 Axes>"
      ]
     },
     "metadata": {
      "needs_background": "light"
     },
     "output_type": "display_data"
    }
   ],
   "source": [
    "plot_acf(lag_acf)"
   ]
  },
  {
   "cell_type": "code",
   "execution_count": 78,
   "id": "49eed955",
   "metadata": {},
   "outputs": [
    {
     "data": {
      "image/png": "[encoded data removed]",
      "text/plain": [
       "<Figure size 432x288 with 1 Axes>"
      ]
     },
     "execution_count": 78,
     "metadata": {},
     "output_type": "execute_result"
    },
    {
     "data": {
      "image/png": "[encoded data removed]",
      "text/plain": [
       "<Figure size 432x288 with 1 Axes>"
      ]
     },
     "metadata": {
      "needs_background": "light"
     },
     "output_type": "display_data"
    }
   ],
   "source": [
    "plot_acf(lag_pacf)"
   ]
  },
  {
   "cell_type": "code",
   "execution_count": 26,
   "id": "329e39d6",
   "metadata": {},
   "outputs": [
    {
     "data": {
      "text/plain": [
       "(-22.671880253074363,\n",
       " 0.0,\n",
       " 2,\n",
       " 1298,\n",
       " {'1%': -3.4353979810093374,\n",
       "  '5%': -2.863769264797245,\n",
       "  '10%': -2.5679568752685773},\n",
       " 172.3854123349738)"
      ]
     },
     "execution_count": 26,
     "metadata": {},
     "output_type": "execute_result"
    }
   ],
   "source": [
    "adfuller(df_gp['gsrai_diff'].dropna())"
   ]
  },
  {
   "cell_type": "code",
   "execution_count": 29,
   "id": "0a19af77",
   "metadata": {},
   "outputs": [
    {
     "data": {
      "text/plain": [
       "count    1301.000000\n",
       "mean        0.098809\n",
       "std         2.155702\n",
       "min       -19.463629\n",
       "25%        -0.948630\n",
       "50%         0.156765\n",
       "75%         1.329289\n",
       "max        12.876584\n",
       "Name: pct_1_sem, dtype: float64"
      ]
     },
     "execution_count": 29,
     "metadata": {},
     "output_type": "execute_result"
    }
   ],
   "source": [
    "df_gp['pct_1_sem'].describe()"
   ]
  },
  {
   "cell_type": "code",
   "execution_count": 32,
   "id": "ea797e9a",
   "metadata": {},
   "outputs": [
    {
     "data": {
      "text/plain": [
       "count    124.000000\n",
       "mean      -1.674951\n",
       "std        3.252771\n",
       "min      -19.463629\n",
       "25%       -2.723671\n",
       "50%       -1.062060\n",
       "75%       -0.064888\n",
       "max        8.568106\n",
       "Name: pct_1_sem, dtype: float64"
      ]
     },
     "execution_count": 32,
     "metadata": {},
     "output_type": "execute_result"
    }
   ],
   "source": [
    "df_gp[df_gp['gsrai_diff']<-0.3]['pct_1_sem'].describe()"
   ]
  },
  {
   "cell_type": "code",
   "execution_count": 28,
   "id": "630545e5",
   "metadata": {},
   "outputs": [
    {
     "data": {
      "text/plain": [
       "<AxesSubplot:xlabel='year_week'>"
      ]
     },
     "execution_count": 28,
     "metadata": {},
     "output_type": "execute_result"
    },
    {
     "data": {
      "image/png": "[encoded data removed]",
      "text/plain": [
       "<Figure size 432x288 with 1 Axes>"
      ]
     },
     "metadata": {
      "needs_background": "light"
     },
     "output_type": "display_data"
    }
   ],
   "source": [
    "df_gp['2019:01':'2020:20']['gsrai_diff'].plot()"
   ]
  },
  {
   "cell_type": "code",
   "execution_count": 33,
   "id": "17d67c91",
   "metadata": {},
   "outputs": [
    {
     "data": {
      "text/html": [
       "<div>\n",
       "<style scoped>\n",
       "    .dataframe tbody tr th:only-of-type {\n",
       "        vertical-align: middle;\n",
       "    }\n",
       "\n",
       "    .dataframe tbody tr th {\n",
       "        vertical-align: top;\n",
       "    }\n",
       "\n",
       "    .dataframe thead th {\n",
       "        text-align: right;\n",
       "    }\n",
       "</style>\n",
       "<table border=\"1\" class=\"dataframe\">\n",
       "  <thead>\n",
       "    <tr style=\"text-align: right;\">\n",
       "      <th></th>\n",
       "      <th>Date</th>\n",
       "      <th>retorno acumulado</th>\n",
       "      <th>GSRAII Index</th>\n",
       "      <th>year_week</th>\n",
       "    </tr>\n",
       "  </thead>\n",
       "  <tbody>\n",
       "    <tr>\n",
       "      <th>0</th>\n",
       "      <td>1997-01-02</td>\n",
       "      <td>1.000000</td>\n",
       "      <td>-0.04</td>\n",
       "      <td>1997-00</td>\n",
       "    </tr>\n",
       "    <tr>\n",
       "      <th>1</th>\n",
       "      <td>1997-01-03</td>\n",
       "      <td>1.004739</td>\n",
       "      <td>0.13</td>\n",
       "      <td>1997-00</td>\n",
       "    </tr>\n",
       "    <tr>\n",
       "      <th>2</th>\n",
       "      <td>1997-01-06</td>\n",
       "      <td>1.013472</td>\n",
       "      <td>0.22</td>\n",
       "      <td>1997-01</td>\n",
       "    </tr>\n",
       "    <tr>\n",
       "      <th>3</th>\n",
       "      <td>1997-01-07</td>\n",
       "      <td>1.013524</td>\n",
       "      <td>0.21</td>\n",
       "      <td>1997-01</td>\n",
       "    </tr>\n",
       "    <tr>\n",
       "      <th>4</th>\n",
       "      <td>1997-01-08</td>\n",
       "      <td>1.012990</td>\n",
       "      <td>0.22</td>\n",
       "      <td>1997-01</td>\n",
       "    </tr>\n",
       "    <tr>\n",
       "      <th>...</th>\n",
       "      <td>...</td>\n",
       "      <td>...</td>\n",
       "      <td>...</td>\n",
       "      <td>...</td>\n",
       "    </tr>\n",
       "    <tr>\n",
       "      <th>6385</th>\n",
       "      <td>2021-08-19</td>\n",
       "      <td>2.640252</td>\n",
       "      <td>-0.11</td>\n",
       "      <td>2021-33</td>\n",
       "    </tr>\n",
       "    <tr>\n",
       "      <th>6386</th>\n",
       "      <td>2021-08-20</td>\n",
       "      <td>2.627207</td>\n",
       "      <td>-0.09</td>\n",
       "      <td>2021-33</td>\n",
       "    </tr>\n",
       "    <tr>\n",
       "      <th>6387</th>\n",
       "      <td>2021-08-23</td>\n",
       "      <td>2.677371</td>\n",
       "      <td>-0.02</td>\n",
       "      <td>2021-34</td>\n",
       "    </tr>\n",
       "    <tr>\n",
       "      <th>6388</th>\n",
       "      <td>2021-08-24</td>\n",
       "      <td>2.686924</td>\n",
       "      <td>0.08</td>\n",
       "      <td>2021-34</td>\n",
       "    </tr>\n",
       "    <tr>\n",
       "      <th>6389</th>\n",
       "      <td>2021-08-25</td>\n",
       "      <td>2.669876</td>\n",
       "      <td>0.16</td>\n",
       "      <td>2021-34</td>\n",
       "    </tr>\n",
       "  </tbody>\n",
       "</table>\n",
       "<p>6390 rows × 4 columns</p>\n",
       "</div>"
      ],
      "text/plain": [
       "           Date  retorno acumulado  GSRAII Index year_week\n",
       "0    1997-01-02           1.000000         -0.04   1997-00\n",
       "1    1997-01-03           1.004739          0.13   1997-00\n",
       "2    1997-01-06           1.013472          0.22   1997-01\n",
       "3    1997-01-07           1.013524          0.21   1997-01\n",
       "4    1997-01-08           1.012990          0.22   1997-01\n",
       "...         ...                ...           ...       ...\n",
       "6385 2021-08-19           2.640252         -0.11   2021-33\n",
       "6386 2021-08-20           2.627207         -0.09   2021-33\n",
       "6387 2021-08-23           2.677371         -0.02   2021-34\n",
       "6388 2021-08-24           2.686924          0.08   2021-34\n",
       "6389 2021-08-25           2.669876          0.16   2021-34\n",
       "\n",
       "[6390 rows x 4 columns]"
      ]
     },
     "execution_count": 33,
     "metadata": {},
     "output_type": "execute_result"
    }
   ],
   "source": [
    "df"
   ]
  }
 ],
 "metadata": {
  "kernelspec": {
   "display_name": "Python 3",
   "language": "python",
   "name": "python3"
  },
  "language_info": {
   "codemirror_mode": {
    "name": "ipython",
    "version": 3
   },
   "file_extension": ".py",
   "mimetype": "text/x-python",
   "name": "python",
   "nbconvert_exporter": "python",
   "pygments_lexer": "ipython3",
   "version": "3.7.1"
  }
 },
 "nbformat": 4,
 "nbformat_minor": 5
}
